{
 "cells": [
  {
   "cell_type": "code",
   "execution_count": 1,
   "metadata": {
    "collapsed": true
   },
   "outputs": [],
   "source": [
    "import graphlab"
   ]
  },
  {
   "cell_type": "markdown",
   "metadata": {},
   "source": [
    "# 6 Degrees of Bureaucracy - LADWP"
   ]
  },
  {
   "cell_type": "markdown",
   "metadata": {},
   "source": [
    "In this notebook we'll use the Dato GraphLab toolkit to explore LA’s Department of Water and Power projects between 2007 and 2016.  The purpose of this is to find the “Kevin Bacon” of the organization. See Kevin Bacon game.\n",
    "https://en.wikipedia.org/wiki/Six_Degrees_of_Kevin_Bacon\n",
    "\n",
    "We will also create a tool that estimates one’s proximity to DWP’s “Kevin Bacon” for any given employee. It is a great way to understand key influencers in your organization."
   ]
  },
  {
   "cell_type": "markdown",
   "metadata": {},
   "source": [
    "## Set up and exploratory data analysis"
   ]
  },
  {
   "cell_type": "markdown",
   "metadata": {},
   "source": [
    "Before we start playing with the data, we need to import some key libraries: graphlab of course, and IPython display utilities. We also tell IPython notebook and GraphLab Canvas to produce plots directly in this notebook."
   ]
  },
  {
   "cell_type": "code",
   "execution_count": 214,
   "metadata": {
    "collapsed": true
   },
   "outputs": [],
   "source": [
    "from IPython.display import display\n",
    "from IPython.display import Image"
   ]
  },
  {
   "cell_type": "markdown",
   "metadata": {},
   "source": [
    "Our curated data live in an Amazon S3 bucket, from which we could create an SFrame directly, but for this demo we'll first download the CSV file and save it locally. Please note that running this notebook on your machine will download the 8MB csv file to your working directory."
   ]
  },
  {
   "cell_type": "code",
   "execution_count": 4,
   "metadata": {
    "collapsed": true
   },
   "outputs": [],
   "source": [
    "graphlab.canvas.set_target('ipynb')"
   ]
  },
  {
   "cell_type": "code",
   "execution_count": 201,
   "metadata": {
    "collapsed": false
   },
   "outputs": [
    {
     "data": {
      "text/html": [
       "<pre>Finished parsing file /Users/jmolayem/Desktop/cleaned.csv</pre>"
      ],
      "text/plain": [
       "Finished parsing file /Users/jmolayem/Desktop/cleaned.csv"
      ]
     },
     "metadata": {},
     "output_type": "display_data"
    },
    {
     "data": {
      "text/html": [
       "<pre>Parsing completed. Parsed 100 lines in 0.41301 secs.</pre>"
      ],
      "text/plain": [
       "Parsing completed. Parsed 100 lines in 0.41301 secs."
      ]
     },
     "metadata": {},
     "output_type": "display_data"
    },
    {
     "data": {
      "text/html": [
       "<pre>Finished parsing file /Users/jmolayem/Desktop/cleaned.csv</pre>"
      ],
      "text/plain": [
       "Finished parsing file /Users/jmolayem/Desktop/cleaned.csv"
      ]
     },
     "metadata": {},
     "output_type": "display_data"
    },
    {
     "data": {
      "text/html": [
       "<pre>Parsing completed. Parsed 324352 lines in 0.375143 secs.</pre>"
      ],
      "text/plain": [
       "Parsing completed. Parsed 324352 lines in 0.375143 secs."
      ]
     },
     "metadata": {},
     "output_type": "display_data"
    }
   ],
   "source": [
    "data = graphlab.SFrame.read_csv('cleaned.csv', column_type_hints={'film_name': str,'empl':str})"
   ]
  },
  {
   "cell_type": "code",
   "execution_count": 231,
   "metadata": {
    "collapsed": false
   },
   "outputs": [
    {
     "data": {
      "application/javascript": [
       "$(\"head\").append($(\"<link/>\").attr({\n",
       "  rel:  \"stylesheet\",\n",
       "  type: \"text/css\",\n",
       "  href: \"//cdnjs.cloudflare.com/ajax/libs/font-awesome/4.1.0/css/font-awesome.min.css\"\n",
       "}));\n",
       "$(\"head\").append($(\"<link/>\").attr({\n",
       "  rel:  \"stylesheet\",\n",
       "  type: \"text/css\",\n",
       "  href: \"//dato.com/files/canvas/1.8.5/css/canvas.css\"\n",
       "}));\n",
       "\n",
       "            (function(){\n",
       "\n",
       "                var e = null;\n",
       "                if (typeof element == 'undefined') {\n",
       "                    var scripts = document.getElementsByTagName('script');\n",
       "                    var thisScriptTag = scripts[scripts.length-1];\n",
       "                    var parentDiv = thisScriptTag.parentNode;\n",
       "                    e = document.createElement('div');\n",
       "                    parentDiv.appendChild(e);\n",
       "                } else {\n",
       "                    e = element[0];\n",
       "                }\n",
       "\n",
       "                if (typeof requirejs !== 'undefined') {\n",
       "                    // disable load timeout; ipython_app.js is large and can take a while to load.\n",
       "                    requirejs.config({waitSeconds: 0});\n",
       "                }\n",
       "\n",
       "                require(['//dato.com/files/canvas/1.8.5/js/ipython_app.js'], function(IPythonApp){\n",
       "                    var app = new IPythonApp();\n",
       "                    app.attachView('sframe','Summary', {\"ipython\": true, \"sketch\": {\"actor_name\": {\"complete\": true, \"numeric\": false, \"num_unique\": 305, \"num_undefined\": 0, \"progress\": 1.0, \"frequent_items\": {\"8427\": {\"frequency\": 110, \"value\": \"8427\"}, \"8257\": {\"frequency\": 3699, \"value\": \"8257\"}, \"8425\": {\"frequency\": 1048, \"value\": \"8425\"}, \"3926\": {\"frequency\": 353, \"value\": \"3926\"}, \"8423\": {\"frequency\": 942, \"value\": \"8423\"}, \"8158\": {\"frequency\": 1214, \"value\": \"8158\"}, \"10416\": {\"frequency\": 10, \"value\": \"10416\"}, \"8386\": {\"frequency\": 26, \"value\": \"8386\"}, \"9364\": {\"frequency\": 405, \"value\": \"9364\"}, \"9362\": {\"frequency\": 232, \"value\": \"9362\"}, \"9363\": {\"frequency\": 406, \"value\": \"9363\"}, \"8306\": {\"frequency\": 1622, \"value\": \"8306\"}, \"33903\": {\"frequency\": 303, \"value\": \"33903\"}, \"8256\": {\"frequency\": 2797, \"value\": \"8256\"}, \"34491\": {\"frequency\": 2746, \"value\": \"34491\"}, \"7116\": {\"frequency\": 470, \"value\": \"7116\"}, \"8019\": {\"frequency\": 2284, \"value\": \"8019\"}, \"5509\": {\"frequency\": 1494, \"value\": \"5509\"}, \"8016\": {\"frequency\": 933, \"value\": \"8016\"}, \"3656\": {\"frequency\": 304, \"value\": \"3656\"}, \"5358\": {\"frequency\": 1692, \"value\": \"5358\"}, \"10100\": {\"frequency\": 10, \"value\": \"10100\"}, \"9249\": {\"frequency\": 588, \"value\": \"9249\"}, \"6081\": {\"frequency\": 413, \"value\": \"6081\"}, \"6572\": {\"frequency\": 583, \"value\": \"6572\"}, \"9894\": {\"frequency\": 237, \"value\": \"9894\"}, \"3111\": {\"frequency\": 1305, \"value\": \"3111\"}, \"5822\": {\"frequency\": 773, \"value\": \"5822\"}, \"10181\": {\"frequency\": 97, \"value\": \"10181\"}, \"7810\": {\"frequency\": 773, \"value\": \"7810\"}, \"4679\": {\"frequency\": 267, \"value\": \"4679\"}, \"6575\": {\"frequency\": 1339, \"value\": \"6575\"}, \"4677\": {\"frequency\": 403, \"value\": \"4677\"}, \"5622\": {\"frequency\": 14, \"value\": \"5622\"}, \"8562\": {\"frequency\": 3993, \"value\": \"8562\"}, \"6249\": {\"frequency\": 1290, \"value\": \"6249\"}, \"6324\": {\"frequency\": 521, \"value\": \"6324\"}, \"8909\": {\"frequency\": 78, \"value\": \"8909\"}, \"9680\": {\"frequency\": 11, \"value\": \"9680\"}, \"7121\": {\"frequency\": 10, \"value\": \"7121\"}, \"8903\": {\"frequency\": 1095, \"value\": \"8903\"}, \"4138\": {\"frequency\": 152, \"value\": \"4138\"}, \"7802\": {\"frequency\": 923, \"value\": \"7802\"}, \"8437\": {\"frequency\": 1618, \"value\": \"8437\"}, \"8259\": {\"frequency\": 25, \"value\": \"8259\"}, \"8420\": {\"frequency\": 25, \"value\": \"8420\"}, \"5142\": {\"frequency\": 1281, \"value\": \"5142\"}, \"5519\": {\"frequency\": 1936, \"value\": \"5519\"}, \"5460\": {\"frequency\": 2024, \"value\": \"5460\"}, \"6444\": {\"frequency\": 1339, \"value\": \"6444\"}, \"9664\": {\"frequency\": 277, \"value\": \"9664\"}, \"8334\": {\"frequency\": 1578, \"value\": \"8334\"}, \"7965\": {\"frequency\": 1130, \"value\": \"7965\"}, \"10117\": {\"frequency\": 79, \"value\": \"10117\"}, \"8020\": {\"frequency\": 1447, \"value\": \"8020\"}, \"8534\": {\"frequency\": 1253, \"value\": \"8534\"}, \"5517\": {\"frequency\": 2451, \"value\": \"5517\"}, \"10209\": {\"frequency\": 121, \"value\": \"10209\"}, \"7254\": {\"frequency\": 1540, \"value\": \"7254\"}, \"6600\": {\"frequency\": 1966, \"value\": \"6600\"}, \"4877\": {\"frequency\": 2324, \"value\": \"4877\"}, \"9902\": {\"frequency\": 280, \"value\": \"9902\"}, \"6568\": {\"frequency\": 1648, \"value\": \"6568\"}, \"9900\": {\"frequency\": 325, \"value\": \"9900\"}, \"9901\": {\"frequency\": 393, \"value\": \"9901\"}, \"6392\": {\"frequency\": 193, \"value\": \"6392\"}, \"5305\": {\"frequency\": 51, \"value\": \"5305\"}, \"7522\": {\"frequency\": 3, \"value\": \"7522\"}, \"5612\": {\"frequency\": 1020, \"value\": \"5612\"}, \"2798\": {\"frequency\": 434, \"value\": \"2798\"}, \"7684\": {\"frequency\": 765, \"value\": \"7684\"}, \"5849\": {\"frequency\": 1738, \"value\": \"5849\"}, \"8704\": {\"frequency\": 1287, \"value\": \"8704\"}, \"6253\": {\"frequency\": 16, \"value\": \"6253\"}, \"6318\": {\"frequency\": 153, \"value\": \"6318\"}, \"9578\": {\"frequency\": 372, \"value\": \"9578\"}, \"4075\": {\"frequency\": 715, \"value\": \"4075\"}, \"7725\": {\"frequency\": 1818, \"value\": \"7725\"}, \"10210\": {\"frequency\": 64, \"value\": \"10210\"}, \"8035\": {\"frequency\": 1990, \"value\": \"8035\"}, \"10049\": {\"frequency\": 209, \"value\": \"10049\"}, \"8231\": {\"frequency\": 4608, \"value\": \"8231\"}, \"7213\": {\"frequency\": 258, \"value\": \"7213\"}, \"8031\": {\"frequency\": 4655, \"value\": \"8031\"}, \"8033\": {\"frequency\": 1708, \"value\": \"8033\"}, \"5152\": {\"frequency\": 1221, \"value\": \"5152\"}, \"9090\": {\"frequency\": 210, \"value\": \"9090\"}, \"8042\": {\"frequency\": 1713, \"value\": \"8042\"}, \"4894\": {\"frequency\": 102, \"value\": \"4894\"}, \"9999\": {\"frequency\": 317, \"value\": \"9999\"}, \"8445\": {\"frequency\": 1720, \"value\": \"8445\"}, \"8446\": {\"frequency\": 1382, \"value\": \"8446\"}, \"9718\": {\"frequency\": 797, \"value\": \"9718\"}, \"6381\": {\"frequency\": 735, \"value\": \"6381\"}, \"7871\": {\"frequency\": 1686, \"value\": \"7871\"}, \"7872\": {\"frequency\": 1326, \"value\": \"7872\"}, \"8298\": {\"frequency\": 1974, \"value\": \"8298\"}, \"9713\": {\"frequency\": 123, \"value\": \"9713\"}, \"10239\": {\"frequency\": 56, \"value\": \"10239\"}, \"6702\": {\"frequency\": 1397, \"value\": \"6702\"}, \"9717\": {\"frequency\": 406, \"value\": \"9717\"}, \"7879\": {\"frequency\": 2042, \"value\": \"7879\"}, \"5467\": {\"frequency\": 64, \"value\": \"5467\"}, \"5493\": {\"frequency\": 1503, \"value\": \"5493\"}, \"6519\": {\"frequency\": 3742, \"value\": \"6519\"}, \"7729\": {\"frequency\": 4789, \"value\": \"7729\"}, \"4725\": {\"frequency\": 91, \"value\": \"4725\"}, \"5091\": {\"frequency\": 1055, \"value\": \"5091\"}, \"8047\": {\"frequency\": 318, \"value\": \"8047\"}, \"5560\": {\"frequency\": 465, \"value\": \"5560\"}, \"5562\": {\"frequency\": 1524, \"value\": \"5562\"}, \"6269\": {\"frequency\": 470, \"value\": \"6269\"}, \"9570\": {\"frequency\": 118, \"value\": \"9570\"}, \"8532\": {\"frequency\": 1818, \"value\": \"8532\"}, \"8345\": {\"frequency\": 2055, \"value\": \"8345\"}, \"8738\": {\"frequency\": 1110, \"value\": \"8738\"}, \"6237\": {\"frequency\": 128, \"value\": \"6237\"}, \"5684\": {\"frequency\": 668, \"value\": \"5684\"}, \"3653\": {\"frequency\": 932, \"value\": \"3653\"}, \"5683\": {\"frequency\": 208, \"value\": \"5683\"}, \"5697\": {\"frequency\": 895, \"value\": \"5697\"}, \"5002\": {\"frequency\": 3713, \"value\": \"5002\"}, \"6581\": {\"frequency\": 2430, \"value\": \"6581\"}, \"8043\": {\"frequency\": 2361, \"value\": \"8043\"}, \"8045\": {\"frequency\": 517, \"value\": \"8045\"}, \"8511\": {\"frequency\": 1483, \"value\": \"8511\"}, \"6537\": {\"frequency\": 1390, \"value\": \"6537\"}, \"3950\": {\"frequency\": 526, \"value\": \"3950\"}, \"8518\": {\"frequency\": 980, \"value\": \"8518\"}, \"8201\": {\"frequency\": 276, \"value\": \"8201\"}, \"5936\": {\"frequency\": 1605, \"value\": \"5936\"}, \"7022\": {\"frequency\": 229, \"value\": \"7022\"}, \"5673\": {\"frequency\": 745, \"value\": \"5673\"}, \"8453\": {\"frequency\": 169, \"value\": \"8453\"}, \"5323\": {\"frequency\": 739, \"value\": \"5323\"}, \"5677\": {\"frequency\": 1225, \"value\": \"5677\"}, \"6558\": {\"frequency\": 648, \"value\": \"6558\"}, \"5825\": {\"frequency\": 234, \"value\": \"5825\"}, \"10420\": {\"frequency\": 15, \"value\": \"10420\"}, \"8519\": {\"frequency\": 857, \"value\": \"8519\"}, \"7128\": {\"frequency\": 1159, \"value\": \"7128\"}, \"9579\": {\"frequency\": 763, \"value\": \"9579\"}, \"7869\": {\"frequency\": 239, \"value\": \"7869\"}, \"5451\": {\"frequency\": 232, \"value\": \"5451\"}, \"7270\": {\"frequency\": 1031, \"value\": \"7270\"}, \"4977\": {\"frequency\": 1053, \"value\": \"4977\"}, \"5272\": {\"frequency\": 2598, \"value\": \"5272\"}, \"5671\": {\"frequency\": 1478, \"value\": \"5671\"}, \"6279\": {\"frequency\": 397, \"value\": \"6279\"}, \"10182\": {\"frequency\": 128, \"value\": \"10182\"}, \"6428\": {\"frequency\": 5082, \"value\": \"6428\"}, \"7102\": {\"frequency\": 787, \"value\": \"7102\"}, \"6077\": {\"frequency\": 560, \"value\": \"6077\"}, \"9411\": {\"frequency\": 1221, \"value\": \"9411\"}, \"8315\": {\"frequency\": 1048, \"value\": \"8315\"}, \"6074\": {\"frequency\": 1776, \"value\": \"6074\"}, \"5875\": {\"frequency\": 1288, \"value\": \"5875\"}, \"6372\": {\"frequency\": 2061, \"value\": \"6372\"}, \"6374\": {\"frequency\": 1234, \"value\": \"6374\"}, \"9120\": {\"frequency\": 486, \"value\": \"9120\"}, \"8052\": {\"frequency\": 1803, \"value\": \"8052\"}, \"10415\": {\"frequency\": 5, \"value\": \"10415\"}, \"4493\": {\"frequency\": 527, \"value\": \"4493\"}, \"9569\": {\"frequency\": 509, \"value\": \"9569\"}, \"10308\": {\"frequency\": 78, \"value\": \"10308\"}, \"8747\": {\"frequency\": 1057, \"value\": \"8747\"}, \"8172\": {\"frequency\": 1082, \"value\": \"8172\"}, \"6536\": {\"frequency\": 676, \"value\": \"6536\"}, \"7798\": {\"frequency\": 626, \"value\": \"7798\"}, \"8293\": {\"frequency\": 2589, \"value\": \"8293\"}, \"8296\": {\"frequency\": 2319, \"value\": \"8296\"}, \"10026\": {\"frequency\": 326, \"value\": \"10026\"}, \"6609\": {\"frequency\": 767, \"value\": \"6609\"}, \"5703\": {\"frequency\": 586, \"value\": \"5703\"}, \"7853\": {\"frequency\": 1626, \"value\": \"7853\"}, \"10254\": {\"frequency\": 181, \"value\": \"10254\"}, \"10020\": {\"frequency\": 271, \"value\": \"10020\"}, \"7711\": {\"frequency\": 245, \"value\": \"7711\"}, \"8015\": {\"frequency\": 1241, \"value\": \"8015\"}, \"8197\": {\"frequency\": 1799, \"value\": \"8197\"}, \"6326\": {\"frequency\": 1378, \"value\": \"6326\"}, \"7492\": {\"frequency\": 1593, \"value\": \"7492\"}, \"8318\": {\"frequency\": 3118, \"value\": \"8318\"}, \"5439\": {\"frequency\": 1408, \"value\": \"5439\"}, \"8355\": {\"frequency\": 532, \"value\": \"8355\"}, \"5784\": {\"frequency\": 976, \"value\": \"5784\"}, \"9402\": {\"frequency\": 262, \"value\": \"9402\"}, \"7184\": {\"frequency\": 191, \"value\": \"7184\"}, \"1372\": {\"frequency\": 24, \"value\": \"1372\"}, \"7984\": {\"frequency\": 3771, \"value\": \"7984\"}, \"8288\": {\"frequency\": 1245, \"value\": \"8288\"}, \"6200\": {\"frequency\": 797, \"value\": \"6200\"}, \"6449\": {\"frequency\": 2056, \"value\": \"6449\"}, \"10400\": {\"frequency\": 34, \"value\": \"10400\"}, \"7927\": {\"frequency\": 1614, \"value\": \"7927\"}, \"7922\": {\"frequency\": 2130, \"value\": \"7922\"}, \"2068\": {\"frequency\": 768, \"value\": \"2068\"}, \"8371\": {\"frequency\": 675, \"value\": \"8371\"}, \"4732\": {\"frequency\": 689, \"value\": \"4732\"}, \"8537\": {\"frequency\": 675, \"value\": \"8537\"}, \"8463\": {\"frequency\": 546, \"value\": \"8463\"}, \"6138\": {\"frequency\": 1177, \"value\": \"6138\"}, \"6423\": {\"frequency\": 1658, \"value\": \"6423\"}, \"9745\": {\"frequency\": 156, \"value\": \"9745\"}, \"9580\": {\"frequency\": 419, \"value\": \"9580\"}, \"6272\": {\"frequency\": 615, \"value\": \"6272\"}, \"3076\": {\"frequency\": 116, \"value\": \"3076\"}, \"34562\": {\"frequency\": 2304, \"value\": \"34562\"}, \"10011\": {\"frequency\": 179, \"value\": \"10011\"}, \"7841\": {\"frequency\": 1026, \"value\": \"7841\"}, \"7103\": {\"frequency\": 734, \"value\": \"7103\"}, \"5182\": {\"frequency\": 1830, \"value\": \"5182\"}, \"6403\": {\"frequency\": 1125, \"value\": \"6403\"}, \"4684\": {\"frequency\": 49, \"value\": \"4684\"}, \"8846\": {\"frequency\": 548, \"value\": \"8846\"}, \"5187\": {\"frequency\": 1035, \"value\": \"5187\"}, \"6350\": {\"frequency\": 2782, \"value\": \"6350\"}, \"7162\": {\"frequency\": 1673, \"value\": \"7162\"}, \"6115\": {\"frequency\": 2125, \"value\": \"6115\"}, \"6116\": {\"frequency\": 1334, \"value\": \"6116\"}, \"7161\": {\"frequency\": 1491, \"value\": \"7161\"}, \"5713\": {\"frequency\": 1873, \"value\": \"5713\"}, \"5522\": {\"frequency\": 199, \"value\": \"5522\"}, \"8182\": {\"frequency\": 3991, \"value\": \"8182\"}, \"9807\": {\"frequency\": 127, \"value\": \"9807\"}, \"7766\": {\"frequency\": 1039, \"value\": \"7766\"}, \"8447\": {\"frequency\": 1478, \"value\": \"8447\"}, \"34459\": {\"frequency\": 753, \"value\": \"34459\"}, \"34458\": {\"frequency\": 1027, \"value\": \"34458\"}, \"7769\": {\"frequency\": 961, \"value\": \"7769\"}, \"8441\": {\"frequency\": 1268, \"value\": \"8441\"}, \"8361\": {\"frequency\": 1741, \"value\": \"8361\"}, \"8363\": {\"frequency\": 1117, \"value\": \"8363\"}, \"10000\": {\"frequency\": 257, \"value\": \"10000\"}, \"8175\": {\"frequency\": 1992, \"value\": \"8175\"}, \"5293\": {\"frequency\": 1670, \"value\": \"5293\"}, \"9100\": {\"frequency\": 1008, \"value\": \"9100\"}, \"8076\": {\"frequency\": 1456, \"value\": \"8076\"}, \"8449\": {\"frequency\": 1400, \"value\": \"8449\"}, \"3737\": {\"frequency\": 2042, \"value\": \"3737\"}, \"5601\": {\"frequency\": 50, \"value\": \"5601\"}, \"7088\": {\"frequency\": 1193, \"value\": \"7088\"}, \"5886\": {\"frequency\": 327, \"value\": \"5886\"}, \"9594\": {\"frequency\": 504, \"value\": \"9594\"}, \"5641\": {\"frequency\": 1881, \"value\": \"5641\"}, \"5529\": {\"frequency\": 444, \"value\": \"5529\"}, \"9591\": {\"frequency\": 550, \"value\": \"9591\"}, \"7835\": {\"frequency\": 1655, \"value\": \"7835\"}, \"7923\": {\"frequency\": 44, \"value\": \"7923\"}, \"6340\": {\"frequency\": 937, \"value\": \"6340\"}, \"4301\": {\"frequency\": 809, \"value\": \"4301\"}, \"5497\": {\"frequency\": 298, \"value\": \"5497\"}, \"6550\": {\"frequency\": 395, \"value\": \"6550\"}, \"5352\": {\"frequency\": 7, \"value\": \"5352\"}, \"6346\": {\"frequency\": 29, \"value\": \"6346\"}, \"7074\": {\"frequency\": 1228, \"value\": \"7074\"}, \"7075\": {\"frequency\": 971, \"value\": \"7075\"}, \"7207\": {\"frequency\": 1377, \"value\": \"7207\"}, \"5456\": {\"frequency\": 439, \"value\": \"5456\"}, \"6412\": {\"frequency\": 23, \"value\": \"6412\"}, \"1696\": {\"frequency\": 599, \"value\": \"1696\"}, \"6220\": {\"frequency\": 755, \"value\": \"6220\"}, \"6226\": {\"frequency\": 1435, \"value\": \"6226\"}, \"4575\": {\"frequency\": 489, \"value\": \"4575\"}, \"6330\": {\"frequency\": 3579, \"value\": \"6330\"}, \"4840\": {\"frequency\": 1189, \"value\": \"4840\"}, \"8845\": {\"frequency\": 1457, \"value\": \"8845\"}, \"5805\": {\"frequency\": 1374, \"value\": \"5805\"}, \"8847\": {\"frequency\": 702, \"value\": \"8847\"}, \"5162\": {\"frequency\": 325, \"value\": \"5162\"}, \"3679\": {\"frequency\": 1394, \"value\": \"3679\"}, \"10266\": {\"frequency\": 23, \"value\": \"10266\"}, \"5356\": {\"frequency\": 803, \"value\": \"5356\"}, \"10171\": {\"frequency\": 162, \"value\": \"10171\"}, \"8389\": {\"frequency\": 1635, \"value\": \"8389\"}, \"5631\": {\"frequency\": 1076, \"value\": \"5631\"}, \"8552\": {\"frequency\": 479, \"value\": \"8552\"}, \"4988\": {\"frequency\": 2042, \"value\": \"4988\"}, \"7870\": {\"frequency\": 1725, \"value\": \"7870\"}, \"9219\": {\"frequency\": 8, \"value\": \"9219\"}, \"5205\": {\"frequency\": 385, \"value\": \"5205\"}, \"5730\": {\"frequency\": 1654, \"value\": \"5730\"}, \"4163\": {\"frequency\": 4, \"value\": \"4163\"}, \"5188\": {\"frequency\": 1054, \"value\": \"5188\"}, \"5739\": {\"frequency\": 425, \"value\": \"5739\"}, \"7664\": {\"frequency\": 945, \"value\": \"7664\"}, \"6150\": {\"frequency\": 1063, \"value\": \"6150\"}, \"5360\": {\"frequency\": 1751, \"value\": \"5360\"}, \"8711\": {\"frequency\": 411, \"value\": \"8711\"}, \"5752\": {\"frequency\": 904, \"value\": \"5752\"}, \"6460\": {\"frequency\": 3623, \"value\": \"6460\"}, \"9519\": {\"frequency\": 115, \"value\": \"9519\"}, \"8523\": {\"frequency\": 1277, \"value\": \"8523\"}, \"8028\": {\"frequency\": 1186, \"value\": \"8028\"}, \"6466\": {\"frequency\": 2461, \"value\": \"6466\"}, \"5839\": {\"frequency\": 784, \"value\": \"5839\"}, \"8912\": {\"frequency\": 1158, \"value\": \"8912\"}, \"8086\": {\"frequency\": 118, \"value\": \"8086\"}, \"6336\": {\"frequency\": 3297, \"value\": \"6336\"}, \"9826\": {\"frequency\": 15, \"value\": \"9826\"}, \"3988\": {\"frequency\": 1598, \"value\": \"3988\"}, \"6333\": {\"frequency\": 276, \"value\": \"6333\"}, \"8925\": {\"frequency\": 1609, \"value\": \"8925\"}, \"5330\": {\"frequency\": 743, \"value\": \"5330\"}, \"6232\": {\"frequency\": 3509, \"value\": \"6232\"}}, \"size\": 324352}, \"character\": {\"complete\": true, \"numeric\": false, \"num_unique\": 65640, \"num_undefined\": 0, \"progress\": 1.0, \"frequent_items\": {\"\": {\"frequency\": 44854, \"value\": \"\"}, \"Sarah\": {\"frequency\": 163, \"value\": \"Sarah\"}, \"Matt\": {\"frequency\": 61, \"value\": \"Matt\"}, \"Ian\": {\"frequency\": 36, \"value\": \"Ian\"}, \"Bartender\": {\"frequency\": 177, \"value\": \"Bartender\"}, \"Jay\": {\"frequency\": 43, \"value\": \"Jay\"}, \"Barry\": {\"frequency\": 54, \"value\": \"Barry\"}, \"Tara\": {\"frequency\": 41, \"value\": \"Tara\"}, \"Jim\": {\"frequency\": 93, \"value\": \"Jim\"}, \"Wayne\": {\"frequency\": 33, \"value\": \"Wayne\"}, \"News Reporter\": {\"frequency\": 33, \"value\": \"News Reporter\"}, \"Stephen\": {\"frequency\": 32, \"value\": \"Stephen\"}, \"Emily\": {\"frequency\": 89, \"value\": \"Emily\"}, \"Anna\": {\"frequency\": 95, \"value\": \"Anna\"}, \"Dad\": {\"frequency\": 63, \"value\": \"Dad\"}, \"Jessica\": {\"frequency\": 78, \"value\": \"Jessica\"}, \"Woman\": {\"frequency\": 48, \"value\": \"Woman\"}, \"Zach\": {\"frequency\": 35, \"value\": \"Zach\"}, \"Vanessa\": {\"frequency\": 47, \"value\": \"Vanessa\"}, \"Samantha\": {\"frequency\": 77, \"value\": \"Samantha\"}, \"Vince\": {\"frequency\": 39, \"value\": \"Vince\"}, \"Natalie\": {\"frequency\": 43, \"value\": \"Natalie\"}, \"Victoria\": {\"frequency\": 41, \"value\": \"Victoria\"}, \"Margaret\": {\"frequency\": 38, \"value\": \"Margaret\"}, \"Jill\": {\"frequency\": 58, \"value\": \"Jill\"}, \"Mom\": {\"frequency\": 83, \"value\": \"Mom\"}, \"Helen\": {\"frequency\": 50, \"value\": \"Helen\"}, \"Jacob\": {\"frequency\": 52, \"value\": \"Jacob\"}, \"Johnny\": {\"frequency\": 57, \"value\": \"Johnny\"}, \"Grace\": {\"frequency\": 63, \"value\": \"Grace\"}, \"Hector\": {\"frequency\": 40, \"value\": \"Hector\"}, \"Michelle\": {\"frequency\": 94, \"value\": \"Michelle\"}, \"Nikki\": {\"frequency\": 44, \"value\": \"Nikki\"}, \"Ashley\": {\"frequency\": 83, \"value\": \"Ashley\"}, \"Student\": {\"frequency\": 69, \"value\": \"Student\"}, \"Bobby\": {\"frequency\": 97, \"value\": \"Bobby\"}, \"Waiter\": {\"frequency\": 88, \"value\": \"Waiter\"}, \"James\": {\"frequency\": 117, \"value\": \"James\"}, \"Grandma\": {\"frequency\": 36, \"value\": \"Grandma\"}, \"Michael\": {\"frequency\": 137, \"value\": \"Michael\"}, \"Alice\": {\"frequency\": 82, \"value\": \"Alice\"}, \"Candy\": {\"frequency\": 31, \"value\": \"Candy\"}, \"Billy\": {\"frequency\": 100, \"value\": \"Billy\"}, \"John\": {\"frequency\": 148, \"value\": \"John\"}, \"Adam\": {\"frequency\": 80, \"value\": \"Adam\"}, \"Mother\": {\"frequency\": 110, \"value\": \"Mother\"}, \"Tracy\": {\"frequency\": 35, \"value\": \"Tracy\"}, \"Father\": {\"frequency\": 82, \"value\": \"Father\"}, \"Charlotte\": {\"frequency\": 33, \"value\": \"Charlotte\"}, \"Thomas\": {\"frequency\": 49, \"value\": \"Thomas\"}, \"Gwen\": {\"frequency\": 34, \"value\": \"Gwen\"}, \"Kenny\": {\"frequency\": 43, \"value\": \"Kenny\"}, \"Brenda\": {\"frequency\": 34, \"value\": \"Brenda\"}, \"Angel\": {\"frequency\": 45, \"value\": \"Angel\"}, \"Kathy\": {\"frequency\": 36, \"value\": \"Kathy\"}, \"Tim\": {\"frequency\": 64, \"value\": \"Tim\"}, \"Denise\": {\"frequency\": 41, \"value\": \"Denise\"}, \"Carla\": {\"frequency\": 42, \"value\": \"Carla\"}, \"Dancer\": {\"frequency\": 56, \"value\": \"Dancer\"}, \"Sean\": {\"frequency\": 60, \"value\": \"Sean\"}, \"Monica\": {\"frequency\": 52, \"value\": \"Monica\"}, \"Security Guard\": {\"frequency\": 75, \"value\": \"Security Guard\"}, \"Paul\": {\"frequency\": 168, \"value\": \"Paul\"}, \"Man\": {\"frequency\": 56, \"value\": \"Man\"}, \"Kate\": {\"frequency\": 97, \"value\": \"Kate\"}, \"Sandy\": {\"frequency\": 54, \"value\": \"Sandy\"}, \"Ray\": {\"frequency\": 75, \"value\": \"Ray\"}, \"Marie\": {\"frequency\": 32, \"value\": \"Marie\"}, \"Sue\": {\"frequency\": 34, \"value\": \"Sue\"}, \"Zoe\": {\"frequency\": 44, \"value\": \"Zoe\"}, \"Mitch\": {\"frequency\": 34, \"value\": \"Mitch\"}, \"Marcus\": {\"frequency\": 69, \"value\": \"Marcus\"}, \"Rose\": {\"frequency\": 58, \"value\": \"Rose\"}, \"Mandy\": {\"frequency\": 32, \"value\": \"Mandy\"}, \"Mark\": {\"frequency\": 110, \"value\": \"Mark\"}, \"Little Girl\": {\"frequency\": 32, \"value\": \"Little Girl\"}, \"Joseph\": {\"frequency\": 37, \"value\": \"Joseph\"}, \"Andy\": {\"frequency\": 100800, \"value\": \"Andy\"}, \"Debbie\": {\"frequency\": 33, \"value\": \"Debbie\"}, \"Wendy\": {\"frequency\": 42, \"value\": \"Wendy\"}, \"Jane\": {\"frequency\": 71, \"value\": \"Jane\"}, \"Nathan\": {\"frequency\": 43, \"value\": \"Nathan\"}, \"Nurse\": {\"frequency\": 125, \"value\": \"Nurse\"}, \"Jonathan\": {\"frequency\": 33, \"value\": \"Jonathan\"}, \"Mary\": {\"frequency\": 124, \"value\": \"Mary\"}, \"Bar Patron\": {\"frequency\": 44, \"value\": \"Bar Patron\"}, \"Ken\": {\"frequency\": 32, \"value\": \"Ken\"}, \"Mike\": {\"frequency\": 133, \"value\": \"Mike\"}, \"Janet\": {\"frequency\": 38, \"value\": \"Janet\"}, \"Frank\": {\"frequency\": 168, \"value\": \"Frank\"}, \"Clerk\": {\"frequency\": 37, \"value\": \"Clerk\"}, \"Gina\": {\"frequency\": 55, \"value\": \"Gina\"}, \"Troy\": {\"frequency\": 33, \"value\": \"Troy\"}, \"Alan\": {\"frequency\": 45, \"value\": \"Alan\"}, \"Leo\": {\"frequency\": 34, \"value\": \"Leo\"}, \"William\": {\"frequency\": 41, \"value\": \"William\"}, \"Dave\": {\"frequency\": 89, \"value\": \"Dave\"}, \"Olivia\": {\"frequency\": 39, \"value\": \"Olivia\"}, \"Joe\": {\"frequency\": 103, \"value\": \"Joe\"}, \"Terry\": {\"frequency\": 44, \"value\": \"Terry\"}, \"Chris\": {\"frequency\": 104, \"value\": \"Chris\"}, \"Sally\": {\"frequency\": 52, \"value\": \"Sally\"}, \"Yoshiko\": {\"frequency\": 67154, \"value\": \"Yoshiko\"}, \"Abby\": {\"frequency\": 55, \"value\": \"Abby\"}, \"Marty\": {\"frequency\": 54, \"value\": \"Marty\"}, \"Boy\": {\"frequency\": 45, \"value\": \"Boy\"}, \"Bill\": {\"frequency\": 77, \"value\": \"Bill\"}, \"Emma\": {\"frequency\": 52, \"value\": \"Emma\"}, \"Susan\": {\"frequency\": 68, \"value\": \"Susan\"}, \"Charlie\": {\"frequency\": 130, \"value\": \"Charlie\"}, \"Steven\": {\"frequency\": 39, \"value\": \"Steven\"}, \"Sam\": {\"frequency\": 189, \"value\": \"Sam\"}, \"Danny\": {\"frequency\": 81, \"value\": \"Danny\"}, \"David\": {\"frequency\": 142, \"value\": \"David\"}, \"Nina\": {\"frequency\": 48, \"value\": \"Nina\"}, \"Arthur\": {\"frequency\": 37, \"value\": \"Arthur\"}, \"Randy\": {\"frequency\": 53, \"value\": \"Randy\"}, \"Annie\": {\"frequency\": 54, \"value\": \"Annie\"}, \"Bob\": {\"frequency\": 87, \"value\": \"Bob\"}, \"Amanda\": {\"frequency\": 86, \"value\": \"Amanda\"}, \"Dana\": {\"frequency\": 46, \"value\": \"Dana\"}, \"Jake\": {\"frequency\": 107, \"value\": \"Jake\"}, \"Maggie\": {\"frequency\": 76, \"value\": \"Maggie\"}, \"Veronica\": {\"frequency\": 41, \"value\": \"Veronica\"}, \"Jimmy\": {\"frequency\": 114, \"value\": \"Jimmy\"}, \"Jason\": {\"frequency\": 100, \"value\": \"Jason\"}, \"Ron\": {\"frequency\": 34, \"value\": \"Ron\"}, \"Allison\": {\"frequency\": 39, \"value\": \"Allison\"}, \"Ed\": {\"frequency\": 36, \"value\": \"Ed\"}, \"Rob\": {\"frequency\": 40, \"value\": \"Rob\"}, \"Cynthia\": {\"frequency\": 40, \"value\": \"Cynthia\"}, \"Judy\": {\"frequency\": 33, \"value\": \"Judy\"}, \"Jackie\": {\"frequency\": 41, \"value\": \"Jackie\"}, \"Jesus\": {\"frequency\": 33, \"value\": \"Jesus\"}, \"Steve\": {\"frequency\": 100, \"value\": \"Steve\"}, \"Roy\": {\"frequency\": 46, \"value\": \"Roy\"}, \"Karen\": {\"frequency\": 88, \"value\": \"Karen\"}, \"Priest\": {\"frequency\": 64, \"value\": \"Priest\"}, \"Kevin\": {\"frequency\": 109, \"value\": \"Kevin\"}, \"Todd\": {\"frequency\": 52, \"value\": \"Todd\"}, \"Gloria\": {\"frequency\": 50, \"value\": \"Gloria\"}, \"Jared\": {\"frequency\": 35, \"value\": \"Jared\"}, \"Dawn\": {\"frequency\": 32, \"value\": \"Dawn\"}, \"Jesse\": {\"frequency\": 52, \"value\": \"Jesse\"}, \"Mason\": {\"frequency\": 31, \"value\": \"Mason\"}, \"Dan\": {\"frequency\": 58, \"value\": \"Dan\"}, \"Katie\": {\"frequency\": 89, \"value\": \"Katie\"}, \"Simon\": {\"frequency\": 60, \"value\": \"Simon\"}, \"Jeremy\": {\"frequency\": 56, \"value\": \"Jeremy\"}, \"Nancy\": {\"frequency\": 51, \"value\": \"Nancy\"}, \"Sheriff\": {\"frequency\": 43, \"value\": \"Sheriff\"}, \"Doctor\": {\"frequency\": 139, \"value\": \"Doctor\"}, \"Matthew\": {\"frequency\": 35, \"value\": \"Matthew\"}, \"Robert\": {\"frequency\": 66, \"value\": \"Robert\"}, \"Becky\": {\"frequency\": 51, \"value\": \"Becky\"}, \"Gary\": {\"frequency\": 73, \"value\": \"Gary\"}, \"Nick\": {\"frequency\": 108, \"value\": \"Nick\"}, \"Aaron\": {\"frequency\": 49, \"value\": \"Aaron\"}, \"Ethan\": {\"frequency\": 37, \"value\": \"Ethan\"}, \"Tom\": {\"frequency\": 142, \"value\": \"Tom\"}, \"Heather\": {\"frequency\": 69, \"value\": \"Heather\"}, \"Eric\": {\"frequency\": 86, \"value\": \"Eric\"}, \"Ruth\": {\"frequency\": 33, \"value\": \"Ruth\"}, \"Jen\": {\"frequency\": 32, \"value\": \"Jen\"}, \"Sophie\": {\"frequency\": 49, \"value\": \"Sophie\"}, \"Rita\": {\"frequency\": 33, \"value\": \"Rita\"}, \"Dennis\": {\"frequency\": 34, \"value\": \"Dennis\"}, \"Hank\": {\"frequency\": 40, \"value\": \"Hank\"}, \"Amy\": {\"frequency\": 121, \"value\": \"Amy\"}, \"Harold\": {\"frequency\": 34, \"value\": \"Harold\"}, \"Reporter\": {\"frequency\": 85, \"value\": \"Reporter\"}, \"Manny\": {\"frequency\": 31, \"value\": \"Manny\"}, \"Stephanie\": {\"frequency\": 54, \"value\": \"Stephanie\"}, \"Jamie\": {\"frequency\": 55, \"value\": \"Jamie\"}, \"Driver\": {\"frequency\": 53, \"value\": \"Driver\"}, \"Megan\": {\"frequency\": 59, \"value\": \"Megan\"}, \"Police Officer\": {\"frequency\": 88, \"value\": \"Police Officer\"}, \"Sasha\": {\"frequency\": 35, \"value\": \"Sasha\"}, \"Anthony\": {\"frequency\": 47, \"value\": \"Anthony\"}, \"Larry\": {\"frequency\": 81, \"value\": \"Larry\"}, \"Josh\": {\"frequency\": 84, \"value\": \"Josh\"}, \"Tammy\": {\"frequency\": 45, \"value\": \"Tammy\"}, \"Carl\": {\"frequency\": 82, \"value\": \"Carl\"}, \"Sandra\": {\"frequency\": 39, \"value\": \"Sandra\"}, \"Stan\": {\"frequency\": 36, \"value\": \"Stan\"}, \"Henry\": {\"frequency\": 99, \"value\": \"Henry\"}, \"Beth\": {\"frequency\": 80, \"value\": \"Beth\"}, \"Rebecca\": {\"frequency\": 63, \"value\": \"Rebecca\"}, \"Detective\": {\"frequency\": 69, \"value\": \"Detective\"}, \"Ben\": {\"frequency\": 124, \"value\": \"Ben\"}, \"Justin\": {\"frequency\": 50, \"value\": \"Justin\"}, \"Christine\": {\"frequency\": 39, \"value\": \"Christine\"}, \"Eva\": {\"frequency\": 35, \"value\": \"Eva\"}, \"Phil\": {\"frequency\": 66, \"value\": \"Phil\"}, \"Eve\": {\"frequency\": 41, \"value\": \"Eve\"}, \"Tommy\": {\"frequency\": 96, \"value\": \"Tommy\"}, \"Gus\": {\"frequency\": 33, \"value\": \"Gus\"}, \"Judge\": {\"frequency\": 39, \"value\": \"Judge\"}, \"Claire\": {\"frequency\": 91, \"value\": \"Claire\"}, \"Taylor\": {\"frequency\": 37, \"value\": \"Taylor\"}, \"Roger\": {\"frequency\": 60, \"value\": \"Roger\"}, \"Donna\": {\"frequency\": 44, \"value\": \"Donna\"}, \"Brad\": {\"frequency\": 90, \"value\": \"Brad\"}, \"Dean\": {\"frequency\": 45, \"value\": \"Dean\"}, \"Guy\": {\"frequency\": 34, \"value\": \"Guy\"}, \"Brandon\": {\"frequency\": 49, \"value\": \"Brandon\"}, \"Barbara\": {\"frequency\": 40, \"value\": \"Barbara\"}, \"Mickey\": {\"frequency\": 33, \"value\": \"Mickey\"}, \"Waitress\": {\"frequency\": 127, \"value\": \"Waitress\"}, \"Sheila\": {\"frequency\": 39, \"value\": \"Sheila\"}, \"Jenny\": {\"frequency\": 69, \"value\": \"Jenny\"}, \"Chloe\": {\"frequency\": 60, \"value\": \"Chloe\"}, \"Jeff\": {\"frequency\": 83, \"value\": \"Jeff\"}, \"Kyle\": {\"frequency\": 86, \"value\": \"Kyle\"}, \"Tiffany\": {\"frequency\": 50, \"value\": \"Tiffany\"}, \"Rachel\": {\"frequency\": 115, \"value\": \"Rachel\"}, \"Diane\": {\"frequency\": 44, \"value\": \"Diane\"}, \"Eddie\": {\"frequency\": 75, \"value\": \"Eddie\"}, \"Tony\": {\"frequency\": 87, \"value\": \"Tony\"}, \"Derek\": {\"frequency\": 57, \"value\": \"Derek\"}, \"Peter\": {\"frequency\": 114, \"value\": \"Peter\"}, \"Nicole\": {\"frequency\": 62, \"value\": \"Nicole\"}, \"Rick\": {\"frequency\": 71, \"value\": \"Rick\"}, \"Sharon\": {\"frequency\": 43, \"value\": \"Sharon\"}, \"Caroline\": {\"frequency\": 33, \"value\": \"Caroline\"}, \"Tina\": {\"frequency\": 61, \"value\": \"Tina\"}, \"Richard\": {\"frequency\": 82, \"value\": \"Richard\"}, \"Sara\": {\"frequency\": 79, \"value\": \"Sara\"}, \"Ralph\": {\"frequency\": 38, \"value\": \"Ralph\"}, \"Ted\": {\"frequency\": 58, \"value\": \"Ted\"}, \"Angela\": {\"frequency\": 81, \"value\": \"Angela\"}, \"Ricky\": {\"frequency\": 38, \"value\": \"Ricky\"}, \"Brian\": {\"frequency\": 96, \"value\": \"Brian\"}, \"Daniel\": {\"frequency\": 67, \"value\": \"Daniel\"}, \"Melissa\": {\"frequency\": 52, \"value\": \"Melissa\"}, \"Chad\": {\"frequency\": 49, \"value\": \"Chad\"}, \"Linda\": {\"frequency\": 75, \"value\": \"Linda\"}, \"Jerry\": {\"frequency\": 63, \"value\": \"Jerry\"}, \"Holly\": {\"frequency\": 47, \"value\": \"Holly\"}, \"Jennifer\": {\"frequency\": 86, \"value\": \"Jennifer\"}, \"Pam\": {\"frequency\": 36, \"value\": \"Pam\"}, \"Liz\": {\"frequency\": 43, \"value\": \"Liz\"}, \"Fred\": {\"frequency\": 45, \"value\": \"Fred\"}, \"Laura\": {\"frequency\": 100, \"value\": \"Laura\"}, \"Narrator\": {\"frequency\": 53, \"value\": \"Narrator\"}, \"Nate\": {\"frequency\": 33, \"value\": \"Nate\"}, \"Travis\": {\"frequency\": 45, \"value\": \"Travis\"}, \"Hannah\": {\"frequency\": 38, \"value\": \"Hannah\"}, \"Luke\": {\"frequency\": 51, \"value\": \"Luke\"}, \"Policeman\": {\"frequency\": 34, \"value\": \"Policeman\"}, \"Molly\": {\"frequency\": 71, \"value\": \"Molly\"}, \"Andrew\": {\"frequency\": 59, \"value\": \"Andrew\"}, \"Stacy\": {\"frequency\": 39, \"value\": \"Stacy\"}, \"Amber\": {\"frequency\": 65, \"value\": \"Amber\"}, \"Jack\": {\"frequency\": 164, \"value\": \"Jack\"}, \"Kim\": {\"frequency\": 59, \"value\": \"Kim\"}, \"Patrick\": {\"frequency\": 44, \"value\": \"Patrick\"}, \"Pete\": {\"frequency\": 78, \"value\": \"Pete\"}, \"Leslie\": {\"frequency\": 32, \"value\": \"Leslie\"}, \"Carol\": {\"frequency\": 47, \"value\": \"Carol\"}, \"Walter\": {\"frequency\": 58, \"value\": \"Walter\"}, \"Teacher\": {\"frequency\": 48, \"value\": \"Teacher\"}, \"Robin\": {\"frequency\": 36, \"value\": \"Robin\"}, \"Maria\": {\"frequency\": 97, \"value\": \"Maria\"}, \"Cop\": {\"frequency\": 60, \"value\": \"Cop\"}, \"Dylan\": {\"frequency\": 38, \"value\": \"Dylan\"}, \"Alex\": {\"frequency\": 152, \"value\": \"Alex\"}, \"Party Guest\": {\"frequency\": 31, \"value\": \"Party Guest\"}, \"Seth\": {\"frequency\": 35, \"value\": \"Seth\"}, \"Doug\": {\"frequency\": 66, \"value\": \"Doug\"}, \"Lucy\": {\"frequency\": 67, \"value\": \"Lucy\"}, \"Ryan\": {\"frequency\": 75, \"value\": \"Ryan\"}, \"Chuck\": {\"frequency\": 57, \"value\": \"Chuck\"}, \"Will\": {\"frequency\": 59, \"value\": \"Will\"}, \"April\": {\"frequency\": 42, \"value\": \"April\"}, \"Greg\": {\"frequency\": 48, \"value\": \"Greg\"}, \"Harry\": {\"frequency\": 48, \"value\": \"Harry\"}, \"Cindy\": {\"frequency\": 67, \"value\": \"Cindy\"}, \"Martin\": {\"frequency\": 48, \"value\": \"Martin\"}, \"Ivan\": {\"frequency\": 37, \"value\": \"Ivan\"}, \"Lisa\": {\"frequency\": 125, \"value\": \"Lisa\"}, \"Homeless Man\": {\"frequency\": 39, \"value\": \"Homeless Man\"}, \"Lauren\": {\"frequency\": 53, \"value\": \"Lauren\"}, \"Angie\": {\"frequency\": 35, \"value\": \"Angie\"}, \"Carlos\": {\"frequency\": 61, \"value\": \"Carlos\"}, \"Elizabeth\": {\"frequency\": 57, \"value\": \"Elizabeth\"}, \"Lily\": {\"frequency\": 61, \"value\": \"Lily\"}, \"Kelly\": {\"frequency\": 88, \"value\": \"Kelly\"}, \"Frankie\": {\"frequency\": 32, \"value\": \"Frankie\"}, \"Julie\": {\"frequency\": 81, \"value\": \"Julie\"}, \"Charles\": {\"frequency\": 52, \"value\": \"Charles\"}, \"Al\": {\"frequency\": 34, \"value\": \"Al\"}, \"Julia\": {\"frequency\": 46, \"value\": \"Julia\"}, \"George\": {\"frequency\": 103, \"value\": \"George\"}, \"Tyler\": {\"frequency\": 58, \"value\": \"Tyler\"}, \"Guard\": {\"frequency\": 32, \"value\": \"Guard\"}, \"Miles\": {\"frequency\": 32, \"value\": \"Miles\"}, \"Scott\": {\"frequency\": 78, \"value\": \"Scott\"}, \"Receptionist\": {\"frequency\": 75, \"value\": \"Receptionist\"}, \"Joey\": {\"frequency\": 48, \"value\": \"Joey\"}, \"Max\": {\"frequency\": 121, \"value\": \"Max\"}, \"Girl\": {\"frequency\": 45, \"value\": \"Girl\"}, \"Victor\": {\"frequency\": 63, \"value\": \"Victor\"}, \"Betty\": {\"frequency\": 50, \"value\": \"Betty\"}, \"Taxi Driver\": {\"frequency\": 38, \"value\": \"Taxi Driver\"}}, \"size\": 324352}, \"id\": {\"std\": 93632.35725565175, \"complete\": true, \"min\": 0.0, \"max\": 324351.0, \"quantile\": [0.0, 3263.0, 6455.0, 9785.0, 13101.0, 16294.0, 19493.0, 22691.0, 25837.0, 29035.0, 32234.0, 35433.0, 39164.0, 42363.0, 45551.0, 48750.0, 52115.0, 55248.0, 58381.0, 61513.0, 64646.0, 68406.0, 71526.0, 74659.0, 77792.0, 81087.0, 84334.0, 87509.0, 90841.0, 94119.0, 97318.0, 100511.0, 103710.0, 106797.0, 110528.0, 113727.0, 116915.0, 120114.0, 123312.0, 126511.0, 129710.0, 133052.0, 136185.0, 139306.0, 142438.0, 146198.0, 149331.0, 152464.0, 155596.0, 158729.0, 162200.0, 165406.0, 168698.0, 171894.0, 175143.0, 178337.0, 181535.0, 185001.0, 188279.0, 191478.0, 194677.0, 197875.0, 201074.0, 204273.0, 207461.0, 210659.0, 213978.0, 217110.0, 220870.0, 224003.0, 227136.0, 230268.0, 233389.0, 236522.0, 240281.0, 243276.0, 246477.0, 249751.0, 252950.0, 256162.0, 259361.0, 262821.0, 266019.0, 269239.0, 272438.0, 275637.0, 278825.0, 282023.0, 285222.0, 288421.0, 292152.0, 294915.0, 298675.0, 301795.0, 304928.0, 308061.0, 311193.0, 314326.0, 318086.0, 321219.0, 324351.0], \"median\": 162200.0, \"numeric\": true, \"num_unique\": 324586, \"num_undefined\": 0, \"var\": 8767018325.25, \"progress\": 1.0, \"size\": 324352, \"frequent_items\": {}, \"mean\": 162175.5}, \"weight\": {\"std\": 0.0, \"complete\": true, \"min\": 0.5, \"max\": 0.5, \"quantile\": [0.5, 0.5, 0.5, 0.5, 0.5, 0.5, 0.5, 0.5, 0.5, 0.5, 0.5, 0.5, 0.5, 0.5, 0.5, 0.5, 0.5, 0.5, 0.5, 0.5, 0.5, 0.5, 0.5, 0.5, 0.5, 0.5, 0.5, 0.5, 0.5, 0.5, 0.5, 0.5, 0.5, 0.5, 0.5, 0.5, 0.5, 0.5, 0.5, 0.5, 0.5, 0.5, 0.5, 0.5, 0.5, 0.5, 0.5, 0.5, 0.5, 0.5, 0.5, 0.5, 0.5, 0.5, 0.5, 0.5, 0.5, 0.5, 0.5, 0.5, 0.5, 0.5, 0.5, 0.5, 0.5, 0.5, 0.5, 0.5, 0.5, 0.5, 0.5, 0.5, 0.5, 0.5, 0.5, 0.5, 0.5, 0.5, 0.5, 0.5, 0.5, 0.5, 0.5, 0.5, 0.5, 0.5, 0.5, 0.5, 0.5, 0.5, 0.5, 0.5, 0.5, 0.5, 0.5, 0.5, 0.5, 0.5, 0.5, 0.5, 0.5], \"median\": 0.5, \"numeric\": true, \"num_unique\": 1, \"num_undefined\": 0, \"var\": 0.0, \"progress\": 1.0, \"size\": 324352, \"frequent_items\": {\"0.5\": {\"frequency\": 324352, \"value\": 0.5}}, \"mean\": 0.5}, \"film_name\": {\"complete\": true, \"numeric\": false, \"num_unique\": 1306, \"num_undefined\": 0, \"progress\": 1.0, \"frequent_items\": {\"103945\": {\"frequency\": 129, \"value\": \"103945\"}, \"103944\": {\"frequency\": 20, \"value\": \"103944\"}, \"103947\": {\"frequency\": 20, \"value\": \"103947\"}, \"103946\": {\"frequency\": 93, \"value\": \"103946\"}, \"103941\": {\"frequency\": 1, \"value\": \"103941\"}, \"103940\": {\"frequency\": 144, \"value\": \"103940\"}, \"103943\": {\"frequency\": 121, \"value\": \"103943\"}, \"103942\": {\"frequency\": 75, \"value\": \"103942\"}, \"103862\": {\"frequency\": 60, \"value\": \"103862\"}, \"103863\": {\"frequency\": 4, \"value\": \"103863\"}, \"103860\": {\"frequency\": 6, \"value\": \"103860\"}, \"103861\": {\"frequency\": 7, \"value\": \"103861\"}, \"103948\": {\"frequency\": 65, \"value\": \"103948\"}, \"103864\": {\"frequency\": 15, \"value\": \"103864\"}, \"103865\": {\"frequency\": 53, \"value\": \"103865\"}, \"103855\": {\"frequency\": 491, \"value\": \"103855\"}, \"104469\": {\"frequency\": 23, \"value\": \"104469\"}, \"104378\": {\"frequency\": 9, \"value\": \"104378\"}, \"104516\": {\"frequency\": 1, \"value\": \"104516\"}, \"104578\": {\"frequency\": 30, \"value\": \"104578\"}, \"103893\": {\"frequency\": 1687, \"value\": \"103893\"}, \"103892\": {\"frequency\": 165, \"value\": \"103892\"}, \"103891\": {\"frequency\": 215, \"value\": \"103891\"}, \"103890\": {\"frequency\": 765, \"value\": \"103890\"}, \"104214\": {\"frequency\": 3, \"value\": \"104214\"}, \"104215\": {\"frequency\": 4, \"value\": \"104215\"}, \"104216\": {\"frequency\": 95, \"value\": \"104216\"}, \"600898\": {\"frequency\": 237, \"value\": \"600898\"}, \"104210\": {\"frequency\": 400, \"value\": \"104210\"}, \"104211\": {\"frequency\": 359, \"value\": \"104211\"}, \"104212\": {\"frequency\": 391, \"value\": \"104212\"}, \"104213\": {\"frequency\": 88, \"value\": \"104213\"}, \"102986\": {\"frequency\": 5, \"value\": \"102986\"}, \"103265\": {\"frequency\": 380, \"value\": \"103265\"}, \"103267\": {\"frequency\": 25, \"value\": \"103267\"}, \"103268\": {\"frequency\": 48, \"value\": \"103268\"}, \"103540\": {\"frequency\": 8, \"value\": \"103540\"}, \"103543\": {\"frequency\": 37, \"value\": \"103543\"}, \"901104\": {\"frequency\": 1, \"value\": \"901104\"}, \"901102\": {\"frequency\": 983, \"value\": \"901102\"}, \"103546\": {\"frequency\": 1, \"value\": \"103546\"}, \"103616\": {\"frequency\": 9, \"value\": \"103616\"}, \"103867\": {\"frequency\": 66, \"value\": \"103867\"}, \"104693\": {\"frequency\": 46, \"value\": \"104693\"}, \"104244\": {\"frequency\": 105, \"value\": \"104244\"}, \"701755\": {\"frequency\": 11, \"value\": \"701755\"}, \"701756\": {\"frequency\": 428, \"value\": \"701756\"}, \"103991\": {\"frequency\": 91, \"value\": \"103991\"}, \"701758\": {\"frequency\": 163, \"value\": \"701758\"}, \"104328\": {\"frequency\": 25, \"value\": \"104328\"}, \"104600\": {\"frequency\": 1, \"value\": \"104600\"}, \"104329\": {\"frequency\": 3, \"value\": \"104329\"}, \"104441\": {\"frequency\": 10, \"value\": \"104441\"}, \"104443\": {\"frequency\": 101, \"value\": \"104443\"}, \"104442\": {\"frequency\": 164, \"value\": \"104442\"}, \"104445\": {\"frequency\": 63, \"value\": \"104445\"}, \"104444\": {\"frequency\": 249, \"value\": \"104444\"}, \"104449\": {\"frequency\": 601, \"value\": \"104449\"}, \"104448\": {\"frequency\": 208, \"value\": \"104448\"}, \"701818\": {\"frequency\": 20, \"value\": \"701818\"}, \"103223\": {\"frequency\": 338, \"value\": \"103223\"}, \"104368\": {\"frequency\": 30, \"value\": \"104368\"}, \"104369\": {\"frequency\": 130, \"value\": \"104369\"}, \"104281\": {\"frequency\": 60, \"value\": \"104281\"}, \"104280\": {\"frequency\": 8, \"value\": \"104280\"}, \"104287\": {\"frequency\": 21, \"value\": \"104287\"}, \"104286\": {\"frequency\": 182, \"value\": \"104286\"}, \"104285\": {\"frequency\": 193, \"value\": \"104285\"}, \"104284\": {\"frequency\": 2230, \"value\": \"104284\"}, \"104360\": {\"frequency\": 134, \"value\": \"104360\"}, \"104361\": {\"frequency\": 36, \"value\": \"104361\"}, \"104289\": {\"frequency\": 44, \"value\": \"104289\"}, \"104288\": {\"frequency\": 365, \"value\": \"104288\"}, \"104364\": {\"frequency\": 11, \"value\": \"104364\"}, \"104365\": {\"frequency\": 56, \"value\": \"104365\"}, \"104366\": {\"frequency\": 58, \"value\": \"104366\"}, \"104367\": {\"frequency\": 50, \"value\": \"104367\"}, \"104540\": {\"frequency\": 70, \"value\": \"104540\"}, \"104541\": {\"frequency\": 104, \"value\": \"104541\"}, \"104542\": {\"frequency\": 242, \"value\": \"104542\"}, \"104543\": {\"frequency\": 267, \"value\": \"104543\"}, \"104544\": {\"frequency\": 1, \"value\": \"104544\"}, \"104546\": {\"frequency\": 14, \"value\": \"104546\"}, \"104547\": {\"frequency\": 655, \"value\": \"104547\"}, \"104661\": {\"frequency\": 48, \"value\": \"104661\"}, \"104660\": {\"frequency\": 105, \"value\": \"104660\"}, \"104663\": {\"frequency\": 139, \"value\": \"104663\"}, \"780677\": {\"frequency\": 4, \"value\": \"780677\"}, \"701787\": {\"frequency\": 55, \"value\": \"701787\"}, \"104664\": {\"frequency\": 23, \"value\": \"104664\"}, \"104667\": {\"frequency\": 40, \"value\": \"104667\"}, \"780673\": {\"frequency\": 40, \"value\": \"780673\"}, \"103166\": {\"frequency\": 411, \"value\": \"103166\"}, \"103164\": {\"frequency\": 320, \"value\": \"103164\"}, \"103163\": {\"frequency\": 27, \"value\": \"103163\"}, \"103162\": {\"frequency\": 89, \"value\": \"103162\"}, \"103045\": {\"frequency\": 1117, \"value\": \"103045\"}, \"104248\": {\"frequency\": 86, \"value\": \"104248\"}, \"104262\": {\"frequency\": 14, \"value\": \"104262\"}, \"600983\": {\"frequency\": 4, \"value\": \"600983\"}, \"103043\": {\"frequency\": 22, \"value\": \"103043\"}, \"104144\": {\"frequency\": 6, \"value\": \"104144\"}, \"104145\": {\"frequency\": 3, \"value\": \"104145\"}, \"104147\": {\"frequency\": 48, \"value\": \"104147\"}, \"104140\": {\"frequency\": 70, \"value\": \"104140\"}, \"104141\": {\"frequency\": 326, \"value\": \"104141\"}, \"104142\": {\"frequency\": 100, \"value\": \"104142\"}, \"104642\": {\"frequency\": 3, \"value\": \"104642\"}, \"601021\": {\"frequency\": 7, \"value\": \"601021\"}, \"104491\": {\"frequency\": 173, \"value\": \"104491\"}, \"104148\": {\"frequency\": 34, \"value\": \"104148\"}, \"104149\": {\"frequency\": 13, \"value\": \"104149\"}, \"701866\": {\"frequency\": 24, \"value\": \"701866\"}, \"104344\": {\"frequency\": 16, \"value\": \"104344\"}, \"103254\": {\"frequency\": 1, \"value\": \"103254\"}, \"103436\": {\"frequency\": 46, \"value\": \"103436\"}, \"600575\": {\"frequency\": 1, \"value\": \"600575\"}, \"104069\": {\"frequency\": 11, \"value\": \"104069\"}, \"104068\": {\"frequency\": 47, \"value\": \"104068\"}, \"104067\": {\"frequency\": 64, \"value\": \"104067\"}, \"104066\": {\"frequency\": 5, \"value\": \"104066\"}, \"104063\": {\"frequency\": 567, \"value\": \"104063\"}, \"104062\": {\"frequency\": 676, \"value\": \"104062\"}, \"104208\": {\"frequency\": 26, \"value\": \"104208\"}, \"104060\": {\"frequency\": 1615, \"value\": \"104060\"}, \"104715\": {\"frequency\": 1, \"value\": \"104715\"}, \"104714\": {\"frequency\": 5, \"value\": \"104714\"}, \"104716\": {\"frequency\": 13, \"value\": \"104716\"}, \"104711\": {\"frequency\": 2, \"value\": \"104711\"}, \"104645\": {\"frequency\": 116, \"value\": \"104645\"}, \"103818\": {\"frequency\": 203, \"value\": \"103818\"}, \"104712\": {\"frequency\": 20, \"value\": \"104712\"}, \"104644\": {\"frequency\": 28, \"value\": \"104644\"}, \"104719\": {\"frequency\": 16, \"value\": \"104719\"}, \"103291\": {\"frequency\": 17, \"value\": \"103291\"}, \"103257\": {\"frequency\": 4, \"value\": \"103257\"}, \"103292\": {\"frequency\": 25, \"value\": \"103292\"}, \"103295\": {\"frequency\": 976, \"value\": \"103295\"}, \"104498\": {\"frequency\": 7, \"value\": \"104498\"}, \"103296\": {\"frequency\": 1, \"value\": \"103296\"}, \"103298\": {\"frequency\": 86, \"value\": \"103298\"}, \"920927\": {\"frequency\": 4, \"value\": \"920927\"}, \"701849\": {\"frequency\": 19, \"value\": \"701849\"}, \"104219\": {\"frequency\": 1, \"value\": \"104219\"}, \"103761\": {\"frequency\": 8, \"value\": \"103761\"}, \"103760\": {\"frequency\": 269, \"value\": \"103760\"}, \"920117\": {\"frequency\": 3, \"value\": \"920117\"}, \"601008\": {\"frequency\": 4, \"value\": \"601008\"}, \"103765\": {\"frequency\": 106, \"value\": \"103765\"}, \"600895\": {\"frequency\": 14, \"value\": \"600895\"}, \"104082\": {\"frequency\": 110, \"value\": \"104082\"}, \"920112\": {\"frequency\": 8, \"value\": \"920112\"}, \"103769\": {\"frequency\": 83, \"value\": \"103769\"}, \"103768\": {\"frequency\": 40, \"value\": \"103768\"}, \"901310\": {\"frequency\": 274, \"value\": \"901310\"}, \"103491\": {\"frequency\": 86, \"value\": \"103491\"}, \"104109\": {\"frequency\": 38, \"value\": \"104109\"}, \"103198\": {\"frequency\": 12, \"value\": \"103198\"}, \"770001\": {\"frequency\": 4, \"value\": \"770001\"}, \"103193\": {\"frequency\": 423, \"value\": \"103193\"}, \"103191\": {\"frequency\": 4, \"value\": \"103191\"}, \"103196\": {\"frequency\": 592, \"value\": \"103196\"}, \"103197\": {\"frequency\": 22, \"value\": \"103197\"}, \"103447\": {\"frequency\": 275, \"value\": \"103447\"}, \"103909\": {\"frequency\": 103, \"value\": \"103909\"}, \"103908\": {\"frequency\": 291, \"value\": \"103908\"}, \"104217\": {\"frequency\": 42, \"value\": \"104217\"}, \"103552\": {\"frequency\": 15, \"value\": \"103552\"}, \"103901\": {\"frequency\": 2, \"value\": \"103901\"}, \"102748\": {\"frequency\": 250, \"value\": \"102748\"}, \"103903\": {\"frequency\": 122, \"value\": \"103903\"}, \"103902\": {\"frequency\": 968, \"value\": \"103902\"}, \"103904\": {\"frequency\": 456, \"value\": \"103904\"}, \"103907\": {\"frequency\": 23, \"value\": \"103907\"}, \"600854\": {\"frequency\": 1016, \"value\": \"600854\"}, \"103899\": {\"frequency\": 118, \"value\": \"103899\"}, \"104707\": {\"frequency\": 18, \"value\": \"104707\"}, \"103773\": {\"frequency\": 348, \"value\": \"103773\"}, \"103898\": {\"frequency\": 302, \"value\": \"103898\"}, \"103993\": {\"frequency\": 92, \"value\": \"103993\"}, \"103226\": {\"frequency\": 229, \"value\": \"103226\"}, \"103227\": {\"frequency\": 141, \"value\": \"103227\"}, \"103220\": {\"frequency\": 118, \"value\": \"103220\"}, \"103997\": {\"frequency\": 323, \"value\": \"103997\"}, \"103994\": {\"frequency\": 827, \"value\": \"103994\"}, \"780691\": {\"frequency\": 26, \"value\": \"780691\"}, \"103585\": {\"frequency\": 134, \"value\": \"103585\"}, \"103584\": {\"frequency\": 169, \"value\": \"103584\"}, \"103587\": {\"frequency\": 1653, \"value\": \"103587\"}, \"103586\": {\"frequency\": 350, \"value\": \"103586\"}, \"103581\": {\"frequency\": 1, \"value\": \"103581\"}, \"104168\": {\"frequency\": 39, \"value\": \"104168\"}, \"103250\": {\"frequency\": 28, \"value\": \"103250\"}, \"100592\": {\"frequency\": 13, \"value\": \"100592\"}, \"103619\": {\"frequency\": 3679, \"value\": \"103619\"}, \"103615\": {\"frequency\": 465, \"value\": \"103615\"}, \"103614\": {\"frequency\": 521, \"value\": \"103614\"}, \"103344\": {\"frequency\": 99, \"value\": \"103344\"}, \"103343\": {\"frequency\": 883, \"value\": \"103343\"}, \"103613\": {\"frequency\": 16, \"value\": \"103613\"}, \"601071\": {\"frequency\": 16, \"value\": \"601071\"}, \"701714\": {\"frequency\": 270, \"value\": \"701714\"}, \"103834\": {\"frequency\": 23, \"value\": \"103834\"}, \"103837\": {\"frequency\": 8, \"value\": \"103837\"}, \"103836\": {\"frequency\": 3, \"value\": \"103836\"}, \"103830\": {\"frequency\": 1, \"value\": \"103830\"}, \"103833\": {\"frequency\": 23, \"value\": \"103833\"}, \"103832\": {\"frequency\": 12, \"value\": \"103832\"}, \"900910\": {\"frequency\": 57, \"value\": \"900910\"}, \"103839\": {\"frequency\": 104, \"value\": \"103839\"}, \"103838\": {\"frequency\": 3, \"value\": \"103838\"}, \"900915\": {\"frequency\": 1178, \"value\": \"900915\"}, \"104690\": {\"frequency\": 44, \"value\": \"104690\"}, \"104691\": {\"frequency\": 77, \"value\": \"104691\"}, \"103322\": {\"frequency\": 4, \"value\": \"103322\"}, \"103551\": {\"frequency\": 13, \"value\": \"103551\"}, \"104247\": {\"frequency\": 292, \"value\": \"104247\"}, \"104246\": {\"frequency\": 103, \"value\": \"104246\"}, \"104245\": {\"frequency\": 159, \"value\": \"104245\"}, \"103542\": {\"frequency\": 17, \"value\": \"103542\"}, \"104243\": {\"frequency\": 567, \"value\": \"104243\"}, \"104242\": {\"frequency\": 334, \"value\": \"104242\"}, \"104241\": {\"frequency\": 64, \"value\": \"104241\"}, \"104240\": {\"frequency\": 49, \"value\": \"104240\"}, \"104324\": {\"frequency\": 417, \"value\": \"104324\"}, \"104325\": {\"frequency\": 41, \"value\": \"104325\"}, \"104326\": {\"frequency\": 62, \"value\": \"104326\"}, \"104327\": {\"frequency\": 37, \"value\": \"104327\"}, \"104320\": {\"frequency\": 27, \"value\": \"104320\"}, \"104321\": {\"frequency\": 304, \"value\": \"104321\"}, \"104249\": {\"frequency\": 405, \"value\": \"104249\"}, \"104323\": {\"frequency\": 165, \"value\": \"104323\"}, \"103531\": {\"frequency\": 576, \"value\": \"103531\"}, \"103535\": {\"frequency\": 1, \"value\": \"103535\"}, \"103536\": {\"frequency\": 22, \"value\": \"103536\"}, \"103597\": {\"frequency\": 778, \"value\": \"103597\"}, \"103538\": {\"frequency\": 3, \"value\": \"103538\"}, \"103539\": {\"frequency\": 41, \"value\": \"103539\"}, \"102415\": {\"frequency\": 200, \"value\": \"102415\"}, \"100624\": {\"frequency\": 33, \"value\": \"100624\"}, \"104218\": {\"frequency\": 10, \"value\": \"104218\"}, \"103920\": {\"frequency\": 75, \"value\": \"103920\"}, \"103498\": {\"frequency\": 312, \"value\": \"103498\"}, \"103088\": {\"frequency\": 106, \"value\": \"103088\"}, \"701660\": {\"frequency\": 261, \"value\": \"701660\"}, \"701661\": {\"frequency\": 3, \"value\": \"701661\"}, \"103129\": {\"frequency\": 1989, \"value\": \"103129\"}, \"103128\": {\"frequency\": 20, \"value\": \"103128\"}, \"701664\": {\"frequency\": 125, \"value\": \"701664\"}, \"701665\": {\"frequency\": 147, \"value\": \"701665\"}, \"900968\": {\"frequency\": 1, \"value\": \"900968\"}, \"103122\": {\"frequency\": 47, \"value\": \"103122\"}, \"701669\": {\"frequency\": 377, \"value\": \"701669\"}, \"900965\": {\"frequency\": 18, \"value\": \"900965\"}, \"103126\": {\"frequency\": 31, \"value\": \"103126\"}, \"104023\": {\"frequency\": 68, \"value\": \"104023\"}, \"104189\": {\"frequency\": 51, \"value\": \"104189\"}, \"104021\": {\"frequency\": 14, \"value\": \"104021\"}, \"104020\": {\"frequency\": 4, \"value\": \"104020\"}, \"104027\": {\"frequency\": 196, \"value\": \"104027\"}, \"104026\": {\"frequency\": 16, \"value\": \"104026\"}, \"104025\": {\"frequency\": 295, \"value\": \"104025\"}, \"104024\": {\"frequency\": 56, \"value\": \"104024\"}, \"104180\": {\"frequency\": 1236, \"value\": \"104180\"}, \"104181\": {\"frequency\": 146, \"value\": \"104181\"}, \"104028\": {\"frequency\": 5, \"value\": \"104028\"}, \"104186\": {\"frequency\": 42, \"value\": \"104186\"}, \"104187\": {\"frequency\": 40, \"value\": \"104187\"}, \"104438\": {\"frequency\": 50, \"value\": \"104438\"}, \"701829\": {\"frequency\": 21, \"value\": \"701829\"}, \"701577\": {\"frequency\": 31, \"value\": \"701577\"}, \"103255\": {\"frequency\": 3, \"value\": \"103255\"}, \"104430\": {\"frequency\": 35, \"value\": \"104430\"}, \"104431\": {\"frequency\": 19, \"value\": \"104431\"}, \"104432\": {\"frequency\": 71, \"value\": \"104432\"}, \"104433\": {\"frequency\": 8, \"value\": \"104433\"}, \"104434\": {\"frequency\": 121, \"value\": \"104434\"}, \"104435\": {\"frequency\": 38, \"value\": \"104435\"}, \"104436\": {\"frequency\": 51, \"value\": \"104436\"}, \"104437\": {\"frequency\": 385, \"value\": \"104437\"}, \"104610\": {\"frequency\": 65, \"value\": \"104610\"}, \"104611\": {\"frequency\": 66, \"value\": \"104611\"}, \"104612\": {\"frequency\": 3, \"value\": \"104612\"}, \"104613\": {\"frequency\": 8, \"value\": \"104613\"}, \"104614\": {\"frequency\": 607, \"value\": \"104614\"}, \"104615\": {\"frequency\": 102, \"value\": \"104615\"}, \"104616\": {\"frequency\": 18, \"value\": \"104616\"}, \"104022\": {\"frequency\": 73, \"value\": \"104022\"}, \"104618\": {\"frequency\": 51, \"value\": \"104618\"}, \"600974\": {\"frequency\": 1, \"value\": \"600974\"}, \"103016\": {\"frequency\": 50, \"value\": \"103016\"}, \"600976\": {\"frequency\": 5, \"value\": \"600976\"}, \"102876\": {\"frequency\": 199, \"value\": \"102876\"}, \"104407\": {\"frequency\": 2, \"value\": \"104407\"}, \"600972\": {\"frequency\": 35, \"value\": \"600972\"}, \"103394\": {\"frequency\": 2, \"value\": \"103394\"}, \"104312\": {\"frequency\": 12, \"value\": \"104312\"}, \"901291\": {\"frequency\": 2, \"value\": \"901291\"}, \"930002\": {\"frequency\": 1, \"value\": \"930002\"}, \"103391\": {\"frequency\": 797, \"value\": \"103391\"}, \"901254\": {\"frequency\": 11, \"value\": \"901254\"}, \"103405\": {\"frequency\": 11, \"value\": \"103405\"}, \"701647\": {\"frequency\": 34, \"value\": \"701647\"}, \"103401\": {\"frequency\": 9, \"value\": \"103401\"}, \"103151\": {\"frequency\": 335, \"value\": \"103151\"}, \"104056\": {\"frequency\": 44, \"value\": \"104056\"}, \"104057\": {\"frequency\": 280, \"value\": \"104057\"}, \"104054\": {\"frequency\": 266, \"value\": \"104054\"}, \"104507\": {\"frequency\": 123, \"value\": \"104507\"}, \"104500\": {\"frequency\": 95, \"value\": \"104500\"}, \"104053\": {\"frequency\": 71, \"value\": \"104053\"}, \"104502\": {\"frequency\": 41, \"value\": \"104502\"}, \"104051\": {\"frequency\": 43, \"value\": \"104051\"}, \"104117\": {\"frequency\": 23, \"value\": \"104117\"}, \"104116\": {\"frequency\": 1, \"value\": \"104116\"}, \"104115\": {\"frequency\": 75, \"value\": \"104115\"}, \"104114\": {\"frequency\": 75, \"value\": \"104114\"}, \"104113\": {\"frequency\": 3386, \"value\": \"104113\"}, \"104112\": {\"frequency\": 503, \"value\": \"104112\"}, \"104058\": {\"frequency\": 1148, \"value\": \"104058\"}, \"104059\": {\"frequency\": 31, \"value\": \"104059\"}, \"104183\": {\"frequency\": 218, \"value\": \"104183\"}, \"103954\": {\"frequency\": 32, \"value\": \"103954\"}, \"103789\": {\"frequency\": 71, \"value\": \"103789\"}, \"103788\": {\"frequency\": 781, \"value\": \"103788\"}, \"103787\": {\"frequency\": 1340, \"value\": \"103787\"}, \"103786\": {\"frequency\": 485, \"value\": \"103786\"}, \"920407\": {\"frequency\": 20, \"value\": \"920407\"}, \"103782\": {\"frequency\": 148, \"value\": \"103782\"}, \"103781\": {\"frequency\": 1158, \"value\": \"103781\"}, \"103780\": {\"frequency\": 11, \"value\": \"103780\"}, \"701611\": {\"frequency\": 24, \"value\": \"701611\"}, \"600811\": {\"frequency\": 1, \"value\": \"600811\"}, \"900909\": {\"frequency\": 1, \"value\": \"900909\"}, \"103651\": {\"frequency\": 14, \"value\": \"103651\"}, \"601033\": {\"frequency\": 3, \"value\": \"601033\"}, \"103653\": {\"frequency\": 9, \"value\": \"103653\"}, \"103300\": {\"frequency\": 221, \"value\": \"103300\"}, \"601035\": {\"frequency\": 368, \"value\": \"601035\"}, \"103493\": {\"frequency\": 229, \"value\": \"103493\"}, \"103492\": {\"frequency\": 10, \"value\": \"103492\"}, \"921129\": {\"frequency\": 5, \"value\": \"921129\"}, \"103490\": {\"frequency\": 6, \"value\": \"103490\"}, \"103497\": {\"frequency\": 22, \"value\": \"103497\"}, \"103496\": {\"frequency\": 14, \"value\": \"103496\"}, \"103959\": {\"frequency\": 21, \"value\": \"103959\"}, \"104322\": {\"frequency\": 222, \"value\": \"104322\"}, \"103711\": {\"frequency\": 8, \"value\": \"103711\"}, \"103712\": {\"frequency\": 55, \"value\": \"103712\"}, \"103713\": {\"frequency\": 1, \"value\": \"103713\"}, \"103714\": {\"frequency\": 37, \"value\": \"103714\"}, \"103715\": {\"frequency\": 8, \"value\": \"103715\"}, \"103716\": {\"frequency\": 6, \"value\": \"103716\"}, \"103717\": {\"frequency\": 32, \"value\": \"103717\"}, \"103879\": {\"frequency\": 670, \"value\": \"103879\"}, \"103971\": {\"frequency\": 2, \"value\": \"103971\"}, \"103972\": {\"frequency\": 123, \"value\": \"103972\"}, \"103973\": {\"frequency\": 113, \"value\": \"103973\"}, \"103974\": {\"frequency\": 24, \"value\": \"103974\"}, \"103975\": {\"frequency\": 24, \"value\": \"103975\"}, \"103976\": {\"frequency\": 39, \"value\": \"103976\"}, \"103871\": {\"frequency\": 103, \"value\": \"103871\"}, \"103979\": {\"frequency\": 65, \"value\": \"103979\"}, \"103873\": {\"frequency\": 16, \"value\": \"103873\"}, \"103872\": {\"frequency\": 17, \"value\": \"103872\"}, \"103875\": {\"frequency\": 676, \"value\": \"103875\"}, \"103874\": {\"frequency\": 508, \"value\": \"103874\"}, \"103877\": {\"frequency\": 63, \"value\": \"103877\"}, \"103876\": {\"frequency\": 6, \"value\": \"103876\"}, \"103321\": {\"frequency\": 196, \"value\": \"103321\"}, \"900902\": {\"frequency\": 1, \"value\": \"900902\"}, \"701817\": {\"frequency\": 14, \"value\": \"701817\"}, \"701596\": {\"frequency\": 29, \"value\": \"701596\"}, \"601052\": {\"frequency\": 1, \"value\": \"601052\"}, \"701595\": {\"frequency\": 13, \"value\": \"701595\"}, \"103574\": {\"frequency\": 41, \"value\": \"103574\"}, \"103576\": {\"frequency\": 75, \"value\": \"103576\"}, \"601053\": {\"frequency\": 577, \"value\": \"601053\"}, \"103570\": {\"frequency\": 103, \"value\": \"103570\"}, \"103571\": {\"frequency\": 17, \"value\": \"103571\"}, \"103573\": {\"frequency\": 17, \"value\": \"103573\"}, \"104203\": {\"frequency\": 161, \"value\": \"104203\"}, \"104202\": {\"frequency\": 33, \"value\": \"104202\"}, \"104201\": {\"frequency\": 30, \"value\": \"104201\"}, \"104200\": {\"frequency\": 803, \"value\": \"104200\"}, \"104207\": {\"frequency\": 73, \"value\": \"104207\"}, \"104206\": {\"frequency\": 83, \"value\": \"104206\"}, \"104205\": {\"frequency\": 2, \"value\": \"104205\"}, \"104204\": {\"frequency\": 34, \"value\": \"104204\"}, \"103376\": {\"frequency\": 45, \"value\": \"103376\"}, \"103374\": {\"frequency\": 403, \"value\": \"103374\"}, \"103375\": {\"frequency\": 1, \"value\": \"103375\"}, \"103372\": {\"frequency\": 158, \"value\": \"103372\"}, \"103373\": {\"frequency\": 1123, \"value\": \"103373\"}, \"102995\": {\"frequency\": 13, \"value\": \"102995\"}, \"601144\": {\"frequency\": 4, \"value\": \"601144\"}, \"901248\": {\"frequency\": 1, \"value\": \"901248\"}, \"103272\": {\"frequency\": 1, \"value\": \"103272\"}, \"103378\": {\"frequency\": 32, \"value\": \"103378\"}, \"103270\": {\"frequency\": 33, \"value\": \"103270\"}, \"104388\": {\"frequency\": 2003, \"value\": \"104388\"}, \"104389\": {\"frequency\": 9, \"value\": \"104389\"}, \"104087\": {\"frequency\": 1, \"value\": \"104087\"}, \"104382\": {\"frequency\": 5, \"value\": \"104382\"}, \"104383\": {\"frequency\": 109, \"value\": \"104383\"}, \"104380\": {\"frequency\": 19, \"value\": \"104380\"}, \"104381\": {\"frequency\": 837, \"value\": \"104381\"}, \"104386\": {\"frequency\": 52, \"value\": \"104386\"}, \"104387\": {\"frequency\": 253, \"value\": \"104387\"}, \"104384\": {\"frequency\": 109, \"value\": \"104384\"}, \"104385\": {\"frequency\": 116, \"value\": \"104385\"}, \"701721\": {\"frequency\": 235, \"value\": \"701721\"}, \"103201\": {\"frequency\": 1044, \"value\": \"103201\"}, \"701748\": {\"frequency\": 1, \"value\": \"701748\"}, \"701747\": {\"frequency\": 1, \"value\": \"701747\"}, \"701743\": {\"frequency\": 11, \"value\": \"701743\"}, \"701742\": {\"frequency\": 313, \"value\": \"701742\"}, \"103612\": {\"frequency\": 52, \"value\": \"103612\"}, \"104375\": {\"frequency\": 65, \"value\": \"104375\"}, \"104374\": {\"frequency\": 237, \"value\": \"104374\"}, \"104373\": {\"frequency\": 116, \"value\": \"104373\"}, \"104479\": {\"frequency\": 44, \"value\": \"104479\"}, \"104371\": {\"frequency\": 200, \"value\": \"104371\"}, \"104370\": {\"frequency\": 358, \"value\": \"104370\"}, \"104474\": {\"frequency\": 443, \"value\": \"104474\"}, \"104475\": {\"frequency\": 305, \"value\": \"104475\"}, \"104476\": {\"frequency\": 5, \"value\": \"104476\"}, \"104617\": {\"frequency\": 6, \"value\": \"104617\"}, \"104470\": {\"frequency\": 171, \"value\": \"104470\"}, \"104471\": {\"frequency\": 95, \"value\": \"104471\"}, \"104473\": {\"frequency\": 35, \"value\": \"104473\"}, \"701690\": {\"frequency\": 21, \"value\": \"701690\"}, \"701692\": {\"frequency\": 21, \"value\": \"701692\"}, \"102723\": {\"frequency\": 702, \"value\": \"102723\"}, \"104278\": {\"frequency\": 15, \"value\": \"104278\"}, \"104279\": {\"frequency\": 16, \"value\": \"104279\"}, \"104276\": {\"frequency\": 49, \"value\": \"104276\"}, \"104277\": {\"frequency\": 23, \"value\": \"104277\"}, \"104274\": {\"frequency\": 88, \"value\": \"104274\"}, \"104275\": {\"frequency\": 178, \"value\": \"104275\"}, \"104080\": {\"frequency\": 34, \"value\": \"104080\"}, \"104273\": {\"frequency\": 666, \"value\": \"104273\"}, \"104270\": {\"frequency\": 172, \"value\": \"104270\"}, \"104496\": {\"frequency\": 27, \"value\": \"104496\"}, \"104497\": {\"frequency\": 42, \"value\": \"104497\"}, \"104494\": {\"frequency\": 48, \"value\": \"104494\"}, \"104495\": {\"frequency\": 2, \"value\": \"104495\"}, \"104492\": {\"frequency\": 164, \"value\": \"104492\"}, \"104493\": {\"frequency\": 150, \"value\": \"104493\"}, \"104490\": {\"frequency\": 162, \"value\": \"104490\"}, \"104558\": {\"frequency\": 77, \"value\": \"104558\"}, \"104557\": {\"frequency\": 58, \"value\": \"104557\"}, \"104556\": {\"frequency\": 14, \"value\": \"104556\"}, \"104555\": {\"frequency\": 41, \"value\": \"104555\"}, \"104554\": {\"frequency\": 22, \"value\": \"104554\"}, \"104553\": {\"frequency\": 18, \"value\": \"104553\"}, \"104552\": {\"frequency\": 155, \"value\": \"104552\"}, \"104551\": {\"frequency\": 55, \"value\": \"104551\"}, \"104550\": {\"frequency\": 139, \"value\": \"104550\"}, \"103113\": {\"frequency\": 163, \"value\": \"103113\"}, \"104220\": {\"frequency\": 64, \"value\": \"104220\"}, \"103116\": {\"frequency\": 20, \"value\": \"103116\"}, \"103811\": {\"frequency\": 774, \"value\": \"103811\"}, \"103115\": {\"frequency\": 49, \"value\": \"103115\"}, \"103758\": {\"frequency\": 1, \"value\": \"103758\"}, \"103119\": {\"frequency\": 33, \"value\": \"103119\"}, \"701688\": {\"frequency\": 91, \"value\": \"701688\"}, \"103452\": {\"frequency\": 4, \"value\": \"103452\"}, \"104153\": {\"frequency\": 100, \"value\": \"104153\"}, \"104152\": {\"frequency\": 204, \"value\": \"104152\"}, \"104151\": {\"frequency\": 202, \"value\": \"104151\"}, \"104150\": {\"frequency\": 177, \"value\": \"104150\"}, \"104157\": {\"frequency\": 6, \"value\": \"104157\"}, \"104155\": {\"frequency\": 24, \"value\": \"104155\"}, \"104159\": {\"frequency\": 64, \"value\": \"104159\"}, \"104158\": {\"frequency\": 1, \"value\": \"104158\"}, \"104018\": {\"frequency\": 14, \"value\": \"104018\"}, \"600653\": {\"frequency\": 1, \"value\": \"600653\"}, \"701873\": {\"frequency\": 1, \"value\": \"701873\"}, \"701872\": {\"frequency\": 1, \"value\": \"701872\"}, \"104012\": {\"frequency\": 80, \"value\": \"104012\"}, \"104013\": {\"frequency\": 7, \"value\": \"104013\"}, \"104010\": {\"frequency\": 19, \"value\": \"104010\"}, \"104011\": {\"frequency\": 59, \"value\": \"104011\"}, \"104016\": {\"frequency\": 45, \"value\": \"104016\"}, \"104017\": {\"frequency\": 43, \"value\": \"104017\"}, \"104014\": {\"frequency\": 53, \"value\": \"104014\"}, \"104015\": {\"frequency\": 32, \"value\": \"104015\"}, \"104720\": {\"frequency\": 7, \"value\": \"104720\"}, \"104721\": {\"frequency\": 6, \"value\": \"104721\"}, \"104722\": {\"frequency\": 9, \"value\": \"104722\"}, \"104377\": {\"frequency\": 24, \"value\": \"104377\"}, \"104668\": {\"frequency\": 80, \"value\": \"104668\"}, \"900792\": {\"frequency\": 8, \"value\": \"900792\"}, \"104417\": {\"frequency\": 7, \"value\": \"104417\"}, \"103753\": {\"frequency\": 32, \"value\": \"103753\"}, \"104126\": {\"frequency\": 328, \"value\": \"104126\"}, \"920124\": {\"frequency\": 1, \"value\": \"920124\"}, \"103759\": {\"frequency\": 72, \"value\": \"103759\"}, \"104655\": {\"frequency\": 9, \"value\": \"104655\"}, \"103754\": {\"frequency\": 26, \"value\": \"103754\"}, \"600978\": {\"frequency\": 1, \"value\": \"600978\"}, \"103756\": {\"frequency\": 18, \"value\": \"103756\"}, \"103757\": {\"frequency\": 57, \"value\": \"103757\"}, \"103750\": {\"frequency\": 752, \"value\": \"103750\"}, \"103751\": {\"frequency\": 580, \"value\": \"103751\"}, \"103752\": {\"frequency\": 2283, \"value\": \"103752\"}, \"103021\": {\"frequency\": 52, \"value\": \"103021\"}, \"103189\": {\"frequency\": 137, \"value\": \"103189\"}, \"104127\": {\"frequency\": 132, \"value\": \"104127\"}, \"103506\": {\"frequency\": 246, \"value\": \"103506\"}, \"104122\": {\"frequency\": 1857, \"value\": \"104122\"}, \"104651\": {\"frequency\": 30, \"value\": \"104651\"}, \"104652\": {\"frequency\": 24, \"value\": \"104652\"}, \"104121\": {\"frequency\": 296, \"value\": \"104121\"}, \"103181\": {\"frequency\": 599, \"value\": \"103181\"}, \"104650\": {\"frequency\": 17, \"value\": \"104650\"}, \"103183\": {\"frequency\": 787, \"value\": \"103183\"}, \"104658\": {\"frequency\": 7, \"value\": \"104658\"}, \"104659\": {\"frequency\": 56, \"value\": \"104659\"}, \"104128\": {\"frequency\": 477, \"value\": \"104128\"}, \"104123\": {\"frequency\": 840, \"value\": \"104123\"}, \"103379\": {\"frequency\": 6, \"value\": \"103379\"}, \"103549\": {\"frequency\": 13, \"value\": \"103549\"}, \"104120\": {\"frequency\": 120, \"value\": \"104120\"}, \"701558\": {\"frequency\": 36, \"value\": \"701558\"}, \"104282\": {\"frequency\": 2, \"value\": \"104282\"}, \"103502\": {\"frequency\": 3, \"value\": \"103502\"}, \"103507\": {\"frequency\": 22, \"value\": \"103507\"}, \"780672\": {\"frequency\": 1, \"value\": \"780672\"}, \"901118\": {\"frequency\": 605, \"value\": \"901118\"}, \"901317\": {\"frequency\": 1, \"value\": \"901317\"}, \"103245\": {\"frequency\": 13, \"value\": \"103245\"}, \"103853\": {\"frequency\": 3, \"value\": \"103853\"}, \"103981\": {\"frequency\": 40, \"value\": \"103981\"}, \"103232\": {\"frequency\": 38, \"value\": \"103232\"}, \"103231\": {\"frequency\": 10, \"value\": \"103231\"}, \"103982\": {\"frequency\": 9, \"value\": \"103982\"}, \"103237\": {\"frequency\": 350, \"value\": \"103237\"}, \"103984\": {\"frequency\": 27, \"value\": \"103984\"}, \"103235\": {\"frequency\": 141, \"value\": \"103235\"}, \"780722\": {\"frequency\": 11, \"value\": \"780722\"}, \"104254\": {\"frequency\": 833, \"value\": \"104254\"}, \"780720\": {\"frequency\": 1, \"value\": \"780720\"}, \"103238\": {\"frequency\": 34, \"value\": \"103238\"}, \"103726\": {\"frequency\": 31, \"value\": \"103726\"}, \"103629\": {\"frequency\": 6, \"value\": \"103629\"}, \"921110\": {\"frequency\": 1, \"value\": \"921110\"}, \"601069\": {\"frequency\": 319, \"value\": \"601069\"}, \"103621\": {\"frequency\": 126, \"value\": \"103621\"}, \"103622\": {\"frequency\": 107, \"value\": \"103622\"}, \"103186\": {\"frequency\": 2298, \"value\": \"103186\"}, \"601061\": {\"frequency\": 2, \"value\": \"601061\"}, \"103626\": {\"frequency\": 5, \"value\": \"103626\"}, \"103335\": {\"frequency\": 149, \"value\": \"103335\"}, \"103800\": {\"frequency\": 202, \"value\": \"103800\"}, \"103801\": {\"frequency\": 131, \"value\": \"103801\"}, \"103802\": {\"frequency\": 72, \"value\": \"103802\"}, \"103803\": {\"frequency\": 251, \"value\": \"103803\"}, \"103804\": {\"frequency\": 181, \"value\": \"103804\"}, \"103805\": {\"frequency\": 2541, \"value\": \"103805\"}, \"103806\": {\"frequency\": 115, \"value\": \"103806\"}, \"103807\": {\"frequency\": 1, \"value\": \"103807\"}, \"103808\": {\"frequency\": 135, \"value\": \"103808\"}, \"103809\": {\"frequency\": 3, \"value\": \"103809\"}, \"103721\": {\"frequency\": 2, \"value\": \"103721\"}, \"104006\": {\"frequency\": 336, \"value\": \"104006\"}, \"701784\": {\"frequency\": 137, \"value\": \"701784\"}, \"920899\": {\"frequency\": 6, \"value\": \"920899\"}, \"701773\": {\"frequency\": 181, \"value\": \"701773\"}, \"104232\": {\"frequency\": 72, \"value\": \"104232\"}, \"104233\": {\"frequency\": 60, \"value\": \"104233\"}, \"104230\": {\"frequency\": 16, \"value\": \"104230\"}, \"104338\": {\"frequency\": 223, \"value\": \"104338\"}, \"104236\": {\"frequency\": 457, \"value\": \"104236\"}, \"104237\": {\"frequency\": 125, \"value\": \"104237\"}, \"104234\": {\"frequency\": 1, \"value\": \"104234\"}, \"104505\": {\"frequency\": 30, \"value\": \"104505\"}, \"104333\": {\"frequency\": 57, \"value\": \"104333\"}, \"104332\": {\"frequency\": 2, \"value\": \"104332\"}, \"104238\": {\"frequency\": 180, \"value\": \"104238\"}, \"104330\": {\"frequency\": 31, \"value\": \"104330\"}, \"104337\": {\"frequency\": 18, \"value\": \"104337\"}, \"104506\": {\"frequency\": 49, \"value\": \"104506\"}, \"104335\": {\"frequency\": 394, \"value\": \"104335\"}, \"104334\": {\"frequency\": 76, \"value\": \"104334\"}, \"103934\": {\"frequency\": 211, \"value\": \"103934\"}, \"103247\": {\"frequency\": 105, \"value\": \"103247\"}, \"103244\": {\"frequency\": 1, \"value\": \"103244\"}, \"103256\": {\"frequency\": 2, \"value\": \"103256\"}, \"103242\": {\"frequency\": 185, \"value\": \"103242\"}, \"103243\": {\"frequency\": 173, \"value\": \"103243\"}, \"103529\": {\"frequency\": 791, \"value\": \"103529\"}, \"103527\": {\"frequency\": 1989, \"value\": \"103527\"}, \"104052\": {\"frequency\": 37, \"value\": \"104052\"}, \"103522\": {\"frequency\": 2, \"value\": \"103522\"}, \"103521\": {\"frequency\": 2, \"value\": \"103521\"}, \"104501\": {\"frequency\": 33, \"value\": \"104501\"}, \"104050\": {\"frequency\": 60, \"value\": \"104050\"}, \"103859\": {\"frequency\": 12, \"value\": \"103859\"}, \"104118\": {\"frequency\": 15, \"value\": \"104118\"}, \"103554\": {\"frequency\": 2, \"value\": \"103554\"}, \"104197\": {\"frequency\": 17, \"value\": \"104197\"}, \"701777\": {\"frequency\": 8, \"value\": \"701777\"}, \"104195\": {\"frequency\": 549, \"value\": \"104195\"}, \"104194\": {\"frequency\": 35, \"value\": \"104194\"}, \"104193\": {\"frequency\": 94, \"value\": \"104193\"}, \"104362\": {\"frequency\": 3, \"value\": \"104362\"}, \"104191\": {\"frequency\": 11, \"value\": \"104191\"}, \"104190\": {\"frequency\": 94, \"value\": \"104190\"}, \"900977\": {\"frequency\": 9, \"value\": \"900977\"}, \"921125\": {\"frequency\": 3, \"value\": \"921125\"}, \"103929\": {\"frequency\": 13, \"value\": \"103929\"}, \"104199\": {\"frequency\": 549, \"value\": \"104199\"}, \"104198\": {\"frequency\": 844, \"value\": \"104198\"}, \"104427\": {\"frequency\": 301, \"value\": \"104427\"}, \"104426\": {\"frequency\": 97, \"value\": \"104426\"}, \"104425\": {\"frequency\": 50, \"value\": \"104425\"}, \"701780\": {\"frequency\": 21, \"value\": \"701780\"}, \"104588\": {\"frequency\": 44, \"value\": \"104588\"}, \"104589\": {\"frequency\": 20, \"value\": \"104589\"}, \"104421\": {\"frequency\": 111, \"value\": \"104421\"}, \"104420\": {\"frequency\": 2, \"value\": \"104420\"}, \"104584\": {\"frequency\": 9, \"value\": \"104584\"}, \"104508\": {\"frequency\": 33, \"value\": \"104508\"}, \"104586\": {\"frequency\": 37, \"value\": \"104586\"}, \"104587\": {\"frequency\": 67, \"value\": \"104587\"}, \"104580\": {\"frequency\": 3, \"value\": \"104580\"}, \"104581\": {\"frequency\": 20, \"value\": \"104581\"}, \"104582\": {\"frequency\": 125, \"value\": \"104582\"}, \"103885\": {\"frequency\": 1, \"value\": \"103885\"}, \"701839\": {\"frequency\": 2, \"value\": \"701839\"}, \"701391\": {\"frequency\": 1, \"value\": \"701391\"}, \"104363\": {\"frequency\": 16, \"value\": \"104363\"}, \"103886\": {\"frequency\": 1, \"value\": \"103886\"}, \"104348\": {\"frequency\": 43, \"value\": \"104348\"}, \"104349\": {\"frequency\": 116, \"value\": \"104349\"}, \"104346\": {\"frequency\": 63, \"value\": \"104346\"}, \"701830\": {\"frequency\": 3, \"value\": \"701830\"}, \"701833\": {\"frequency\": 1, \"value\": \"701833\"}, \"701832\": {\"frequency\": 87, \"value\": \"701832\"}, \"104342\": {\"frequency\": 43, \"value\": \"104342\"}, \"104343\": {\"frequency\": 225, \"value\": \"104343\"}, \"104340\": {\"frequency\": 8, \"value\": \"104340\"}, \"104341\": {\"frequency\": 42, \"value\": \"104341\"}, \"104566\": {\"frequency\": 122, \"value\": \"104566\"}, \"104567\": {\"frequency\": 312, \"value\": \"104567\"}, \"104564\": {\"frequency\": 279, \"value\": \"104564\"}, \"104565\": {\"frequency\": 59, \"value\": \"104565\"}, \"104563\": {\"frequency\": 49, \"value\": \"104563\"}, \"104609\": {\"frequency\": 54, \"value\": \"104609\"}, \"104608\": {\"frequency\": 51, \"value\": \"104608\"}, \"104607\": {\"frequency\": 38, \"value\": \"104607\"}, \"104606\": {\"frequency\": 144, \"value\": \"104606\"}, \"104604\": {\"frequency\": 2, \"value\": \"104604\"}, \"104603\": {\"frequency\": 56, \"value\": \"104603\"}, \"104602\": {\"frequency\": 9, \"value\": \"104602\"}, \"104568\": {\"frequency\": 423, \"value\": \"104568\"}, \"104569\": {\"frequency\": 268, \"value\": \"104569\"}, \"920164\": {\"frequency\": 5, \"value\": \"920164\"}, \"920165\": {\"frequency\": 22, \"value\": \"920165\"}, \"600960\": {\"frequency\": 3, \"value\": \"600960\"}, \"103383\": {\"frequency\": 103, \"value\": \"103383\"}, \"103381\": {\"frequency\": 51, \"value\": \"103381\"}, \"103380\": {\"frequency\": 525, \"value\": \"103380\"}, \"103385\": {\"frequency\": 2, \"value\": \"103385\"}, \"103317\": {\"frequency\": 50, \"value\": \"103317\"}, \"103149\": {\"frequency\": 10, \"value\": \"103149\"}, \"103148\": {\"frequency\": 27, \"value\": \"103148\"}, \"103870\": {\"frequency\": 107, \"value\": \"103870\"}, \"701634\": {\"frequency\": 150, \"value\": \"701634\"}, \"103413\": {\"frequency\": 455, \"value\": \"103413\"}, \"103144\": {\"frequency\": 128, \"value\": \"103144\"}, \"103131\": {\"frequency\": 1, \"value\": \"103131\"}, \"104045\": {\"frequency\": 5, \"value\": \"104045\"}, \"104512\": {\"frequency\": 31, \"value\": \"104512\"}, \"104047\": {\"frequency\": 21, \"value\": \"104047\"}, \"103889\": {\"frequency\": 451, \"value\": \"103889\"}, \"104517\": {\"frequency\": 1, \"value\": \"104517\"}, \"104040\": {\"frequency\": 29, \"value\": \"104040\"}, \"104515\": {\"frequency\": 35, \"value\": \"104515\"}, \"104514\": {\"frequency\": 289, \"value\": \"104514\"}, \"104162\": {\"frequency\": 170, \"value\": \"104162\"}, \"104163\": {\"frequency\": 99, \"value\": \"104163\"}, \"104519\": {\"frequency\": 934, \"value\": \"104519\"}, \"104518\": {\"frequency\": 61, \"value\": \"104518\"}, \"104694\": {\"frequency\": 75, \"value\": \"104694\"}, \"104167\": {\"frequency\": 39, \"value\": \"104167\"}, \"103233\": {\"frequency\": 3, \"value\": \"103233\"}, \"921133\": {\"frequency\": 1, \"value\": \"921133\"}, \"103980\": {\"frequency\": 5, \"value\": \"103980\"}, \"921147\": {\"frequency\": 2, \"value\": \"921147\"}, \"103983\": {\"frequency\": 6, \"value\": \"103983\"}, \"104097\": {\"frequency\": 116, \"value\": \"104097\"}, \"104161\": {\"frequency\": 4, \"value\": \"104161\"}, \"104292\": {\"frequency\": 74, \"value\": \"104292\"}, \"900840\": {\"frequency\": 2, \"value\": \"900840\"}, \"103236\": {\"frequency\": 23, \"value\": \"103236\"}, \"103707\": {\"frequency\": 70, \"value\": \"103707\"}, \"600917\": {\"frequency\": 34, \"value\": \"600917\"}, \"103705\": {\"frequency\": 25, \"value\": \"103705\"}, \"103704\": {\"frequency\": 47, \"value\": \"103704\"}, \"103703\": {\"frequency\": 36, \"value\": \"103703\"}, \"601024\": {\"frequency\": 1, \"value\": \"601024\"}, \"601026\": {\"frequency\": 15, \"value\": \"601026\"}, \"103709\": {\"frequency\": 5, \"value\": \"103709\"}, \"701806\": {\"frequency\": 162, \"value\": \"701806\"}, \"104509\": {\"frequency\": 267, \"value\": \"104509\"}, \"104408\": {\"frequency\": 92, \"value\": \"104408\"}, \"103465\": {\"frequency\": 4, \"value\": \"103465\"}, \"103557\": {\"frequency\": 251, \"value\": \"103557\"}, \"103461\": {\"frequency\": 162, \"value\": \"103461\"}, \"920502\": {\"frequency\": 5, \"value\": \"920502\"}, \"920503\": {\"frequency\": 1, \"value\": \"920503\"}, \"920501\": {\"frequency\": 3, \"value\": \"920501\"}, \"920504\": {\"frequency\": 18, \"value\": \"920504\"}, \"103968\": {\"frequency\": 29, \"value\": \"103968\"}, \"103967\": {\"frequency\": 32, \"value\": \"103967\"}, \"103964\": {\"frequency\": 107, \"value\": \"103964\"}, \"103962\": {\"frequency\": 1565, \"value\": \"103962\"}, \"103961\": {\"frequency\": 13, \"value\": \"103961\"}, \"780570\": {\"frequency\": 2, \"value\": \"780570\"}, \"103923\": {\"frequency\": 64, \"value\": \"103923\"}, \"103179\": {\"frequency\": 129, \"value\": \"103179\"}, \"103563\": {\"frequency\": 8, \"value\": \"103563\"}, \"103562\": {\"frequency\": 62, \"value\": \"103562\"}, \"103561\": {\"frequency\": 2, \"value\": \"103561\"}, \"103560\": {\"frequency\": 300, \"value\": \"103560\"}, \"103567\": {\"frequency\": 357, \"value\": \"103567\"}, \"103566\": {\"frequency\": 103, \"value\": \"103566\"}, \"103565\": {\"frequency\": 3, \"value\": \"103565\"}, \"103564\": {\"frequency\": 13, \"value\": \"103564\"}, \"103858\": {\"frequency\": 841, \"value\": \"103858\"}, \"103569\": {\"frequency\": 1452, \"value\": \"103569\"}, \"103568\": {\"frequency\": 23, \"value\": \"103568\"}, \"103338\": {\"frequency\": 3, \"value\": \"103338\"}, \"601094\": {\"frequency\": 345, \"value\": \"601094\"}, \"103208\": {\"frequency\": 96, \"value\": \"103208\"}, \"103209\": {\"frequency\": 2, \"value\": \"103209\"}, \"103202\": {\"frequency\": 135, \"value\": \"103202\"}, \"103203\": {\"frequency\": 1, \"value\": \"103203\"}, \"901162\": {\"frequency\": 27, \"value\": \"901162\"}, \"103206\": {\"frequency\": 1, \"value\": \"103206\"}, \"103207\": {\"frequency\": 299, \"value\": \"103207\"}, \"103205\": {\"frequency\": 96, \"value\": \"103205\"}, \"104399\": {\"frequency\": 130, \"value\": \"104399\"}, \"104398\": {\"frequency\": 52, \"value\": \"104398\"}, \"701631\": {\"frequency\": 19, \"value\": \"701631\"}, \"900932\": {\"frequency\": 15, \"value\": \"900932\"}, \"103602\": {\"frequency\": 102, \"value\": \"103602\"}, \"104177\": {\"frequency\": 18, \"value\": \"104177\"}, \"103650\": {\"frequency\": 424, \"value\": \"103650\"}, \"104391\": {\"frequency\": 291, \"value\": \"104391\"}, \"104390\": {\"frequency\": 27, \"value\": \"104390\"}, \"104393\": {\"frequency\": 172, \"value\": \"104393\"}, \"104392\": {\"frequency\": 529, \"value\": \"104392\"}, \"104395\": {\"frequency\": 292, \"value\": \"104395\"}, \"104394\": {\"frequency\": 156, \"value\": \"104394\"}, \"104396\": {\"frequency\": 1, \"value\": \"104396\"}, \"104559\": {\"frequency\": 83, \"value\": \"104559\"}, \"104093\": {\"frequency\": 836, \"value\": \"104093\"}, \"104090\": {\"frequency\": 125, \"value\": \"104090\"}, \"104091\": {\"frequency\": 488, \"value\": \"104091\"}, \"104096\": {\"frequency\": 1, \"value\": \"104096\"}, \"103987\": {\"frequency\": 61, \"value\": \"103987\"}, \"103333\": {\"frequency\": 27, \"value\": \"103333\"}, \"701732\": {\"frequency\": 33, \"value\": \"701732\"}, \"104098\": {\"frequency\": 135, \"value\": \"104098\"}, \"701731\": {\"frequency\": 5, \"value\": \"701731\"}, \"701736\": {\"frequency\": 322, \"value\": \"701736\"}, \"920604\": {\"frequency\": 1, \"value\": \"920604\"}, \"920607\": {\"frequency\": 1, \"value\": \"920607\"}, \"104302\": {\"frequency\": 24, \"value\": \"104302\"}, \"104303\": {\"frequency\": 245, \"value\": \"104303\"}, \"104300\": {\"frequency\": 24, \"value\": \"104300\"}, \"104468\": {\"frequency\": 21, \"value\": \"104468\"}, \"104306\": {\"frequency\": 7, \"value\": \"104306\"}, \"104307\": {\"frequency\": 9, \"value\": \"104307\"}, \"104304\": {\"frequency\": 14, \"value\": \"104304\"}, \"104305\": {\"frequency\": 13, \"value\": \"104305\"}, \"104463\": {\"frequency\": 875, \"value\": \"104463\"}, \"103624\": {\"frequency\": 16, \"value\": \"103624\"}, \"104308\": {\"frequency\": 50, \"value\": \"104308\"}, \"104460\": {\"frequency\": 4, \"value\": \"104460\"}, \"104467\": {\"frequency\": 13, \"value\": \"104467\"}, \"104466\": {\"frequency\": 9, \"value\": \"104466\"}, \"104049\": {\"frequency\": 350, \"value\": \"104049\"}, \"103516\": {\"frequency\": 7, \"value\": \"103516\"}, \"103845\": {\"frequency\": 2, \"value\": \"103845\"}, \"103846\": {\"frequency\": 231, \"value\": \"103846\"}, \"104561\": {\"frequency\": 159, \"value\": \"104561\"}, \"103334\": {\"frequency\": 116, \"value\": \"103334\"}, \"103842\": {\"frequency\": 448, \"value\": \"103842\"}, \"103843\": {\"frequency\": 685, \"value\": \"103843\"}, \"104265\": {\"frequency\": 17, \"value\": \"104265\"}, \"104264\": {\"frequency\": 21, \"value\": \"104264\"}, \"104267\": {\"frequency\": 58, \"value\": \"104267\"}, \"601062\": {\"frequency\": 22, \"value\": \"601062\"}, \"104261\": {\"frequency\": 81, \"value\": \"104261\"}, \"104260\": {\"frequency\": 339, \"value\": \"104260\"}, \"104263\": {\"frequency\": 29, \"value\": \"104263\"}, \"103519\": {\"frequency\": 134, \"value\": \"103519\"}, \"104485\": {\"frequency\": 29, \"value\": \"104485\"}, \"104484\": {\"frequency\": 128, \"value\": \"104484\"}, \"104487\": {\"frequency\": 314, \"value\": \"104487\"}, \"104486\": {\"frequency\": 328, \"value\": \"104486\"}, \"104481\": {\"frequency\": 36, \"value\": \"104481\"}, \"104480\": {\"frequency\": 132, \"value\": \"104480\"}, \"104483\": {\"frequency\": 27, \"value\": \"104483\"}, \"104482\": {\"frequency\": 36, \"value\": \"104482\"}, \"104522\": {\"frequency\": 40, \"value\": \"104522\"}, \"104523\": {\"frequency\": 65, \"value\": \"104523\"}, \"104095\": {\"frequency\": 5274, \"value\": \"104095\"}, \"104526\": {\"frequency\": 63, \"value\": \"104526\"}, \"104488\": {\"frequency\": 275, \"value\": \"104488\"}, \"104524\": {\"frequency\": 12, \"value\": \"104524\"}, \"104525\": {\"frequency\": 51, \"value\": \"104525\"}, \"900984\": {\"frequency\": 11211, \"value\": \"900984\"}, \"103100\": {\"frequency\": 601, \"value\": \"103100\"}, \"900986\": {\"frequency\": 5274, \"value\": \"900986\"}, \"900981\": {\"frequency\": 1, \"value\": \"900981\"}, \"900982\": {\"frequency\": 12, \"value\": \"900982\"}, \"900983\": {\"frequency\": 22112, \"value\": \"900983\"}, \"103109\": {\"frequency\": 92, \"value\": \"103109\"}, \"900988\": {\"frequency\": 2334, \"value\": \"900988\"}, \"701648\": {\"frequency\": 4, \"value\": \"701648\"}, \"701706\": {\"frequency\": 206, \"value\": \"701706\"}, \"103718\": {\"frequency\": 48, \"value\": \"103718\"}, \"920167\": {\"frequency\": 2, \"value\": \"920167\"}, \"104099\": {\"frequency\": 34, \"value\": \"104099\"}, \"103719\": {\"frequency\": 12, \"value\": \"103719\"}, \"103755\": {\"frequency\": 653, \"value\": \"103755\"}, \"104110\": {\"frequency\": 71, \"value\": \"104110\"}, \"103504\": {\"frequency\": 609, \"value\": \"103504\"}, \"104009\": {\"frequency\": 36, \"value\": \"104009\"}, \"104008\": {\"frequency\": 284, \"value\": \"104008\"}, \"701842\": {\"frequency\": 38, \"value\": \"701842\"}, \"701844\": {\"frequency\": 7, \"value\": \"701844\"}, \"701845\": {\"frequency\": 46, \"value\": \"701845\"}, \"104418\": {\"frequency\": 47, \"value\": \"104418\"}, \"104419\": {\"frequency\": 12, \"value\": \"104419\"}, \"104416\": {\"frequency\": 59, \"value\": \"104416\"}, \"104000\": {\"frequency\": 121, \"value\": \"104000\"}, \"104003\": {\"frequency\": 120, \"value\": \"104003\"}, \"104002\": {\"frequency\": 104, \"value\": \"104002\"}, \"104412\": {\"frequency\": 166, \"value\": \"104412\"}, \"104004\": {\"frequency\": 160, \"value\": \"104004\"}, \"104007\": {\"frequency\": 82, \"value\": \"104007\"}, \"104411\": {\"frequency\": 57, \"value\": \"104411\"}, \"104636\": {\"frequency\": 27, \"value\": \"104636\"}, \"104637\": {\"frequency\": 48, \"value\": \"104637\"}, \"104634\": {\"frequency\": 126, \"value\": \"104634\"}, \"104635\": {\"frequency\": 4, \"value\": \"104635\"}, \"104632\": {\"frequency\": 5, \"value\": \"104632\"}, \"104633\": {\"frequency\": 99, \"value\": \"104633\"}, \"104631\": {\"frequency\": 52, \"value\": \"104631\"}, \"103763\": {\"frequency\": 27, \"value\": \"103763\"}, \"103844\": {\"frequency\": 597, \"value\": \"103844\"}, \"103710\": {\"frequency\": 7, \"value\": \"103710\"}, \"104301\": {\"frequency\": 29, \"value\": \"104301\"}, \"600607\": {\"frequency\": 12, \"value\": \"600607\"}, \"104354\": {\"frequency\": 5, \"value\": \"104354\"}, \"780604\": {\"frequency\": 49, \"value\": \"780604\"}, \"103764\": {\"frequency\": 222, \"value\": \"103764\"}, \"103422\": {\"frequency\": 1, \"value\": \"103422\"}, \"102420\": {\"frequency\": 100, \"value\": \"102420\"}, \"103749\": {\"frequency\": 853, \"value\": \"103749\"}, \"103748\": {\"frequency\": 5, \"value\": \"103748\"}, \"103426\": {\"frequency\": 9, \"value\": \"103426\"}, \"103427\": {\"frequency\": 1, \"value\": \"103427\"}, \"103743\": {\"frequency\": 1014, \"value\": \"103743\"}, \"103742\": {\"frequency\": 673, \"value\": \"103742\"}, \"900249\": {\"frequency\": 2, \"value\": \"900249\"}, \"103429\": {\"frequency\": 283, \"value\": \"103429\"}, \"103747\": {\"frequency\": 323, \"value\": \"103747\"}, \"103746\": {\"frequency\": 830, \"value\": \"103746\"}, \"600954\": {\"frequency\": 1, \"value\": \"600954\"}, \"103744\": {\"frequency\": 1369, \"value\": \"103744\"}, \"104135\": {\"frequency\": 1, \"value\": \"104135\"}, \"104134\": {\"frequency\": 21, \"value\": \"104134\"}, \"104137\": {\"frequency\": 840, \"value\": \"104137\"}, \"104136\": {\"frequency\": 379, \"value\": \"104136\"}, \"104131\": {\"frequency\": 76, \"value\": \"104131\"}, \"104646\": {\"frequency\": 172, \"value\": \"104646\"}, \"104133\": {\"frequency\": 47, \"value\": \"104133\"}, \"600353\": {\"frequency\": 7365, \"value\": \"600353\"}, \"104649\": {\"frequency\": 16, \"value\": \"104649\"}, \"104648\": {\"frequency\": 73, \"value\": \"104648\"}, \"104139\": {\"frequency\": 42, \"value\": \"104139\"}, \"104138\": {\"frequency\": 47, \"value\": \"104138\"}, \"103911\": {\"frequency\": 51, \"value\": \"103911\"}, \"103970\": {\"frequency\": 198, \"value\": \"103970\"}, \"104309\": {\"frequency\": 540, \"value\": \"104309\"}, \"104005\": {\"frequency\": 6, \"value\": \"104005\"}, \"103878\": {\"frequency\": 7, \"value\": \"103878\"}, \"900930\": {\"frequency\": 1, \"value\": \"900930\"}, \"701816\": {\"frequency\": 3, \"value\": \"701816\"}, \"104679\": {\"frequency\": 39, \"value\": \"104679\"}, \"104462\": {\"frequency\": 36, \"value\": \"104462\"}, \"104464\": {\"frequency\": 61, \"value\": \"104464\"}, \"104209\": {\"frequency\": 123, \"value\": \"104209\"}, \"103637\": {\"frequency\": 126, \"value\": \"103637\"}, \"103636\": {\"frequency\": 10, \"value\": \"103636\"}, \"103635\": {\"frequency\": 1269, \"value\": \"103635\"}, \"103634\": {\"frequency\": 183, \"value\": \"103634\"}, \"103632\": {\"frequency\": 110, \"value\": \"103632\"}, \"103631\": {\"frequency\": 790, \"value\": \"103631\"}, \"103630\": {\"frequency\": 26, \"value\": \"103630\"}, \"601118\": {\"frequency\": 11, \"value\": \"601118\"}, \"104358\": {\"frequency\": 15, \"value\": \"104358\"}, \"103639\": {\"frequency\": 18, \"value\": \"103639\"}, \"701559\": {\"frequency\": 1, \"value\": \"701559\"}, \"103329\": {\"frequency\": 25, \"value\": \"103329\"}, \"103081\": {\"frequency\": 23, \"value\": \"103081\"}, \"104477\": {\"frequency\": 2, \"value\": \"104477\"}, \"103083\": {\"frequency\": 111, \"value\": \"103083\"}, \"103738\": {\"frequency\": 12, \"value\": \"103738\"}, \"103739\": {\"frequency\": 1876, \"value\": \"103739\"}, \"103736\": {\"frequency\": 210, \"value\": \"103736\"}, \"103737\": {\"frequency\": 338, \"value\": \"103737\"}, \"103734\": {\"frequency\": 9, \"value\": \"103734\"}, \"103735\": {\"frequency\": 33, \"value\": \"103735\"}, \"601054\": {\"frequency\": 13, \"value\": \"601054\"}, \"103733\": {\"frequency\": 292, \"value\": \"103733\"}, \"103730\": {\"frequency\": 60, \"value\": \"103730\"}, \"103731\": {\"frequency\": 36, \"value\": \"103731\"}, \"103956\": {\"frequency\": 5, \"value\": \"103956\"}, \"103957\": {\"frequency\": 198, \"value\": \"103957\"}, \"920399\": {\"frequency\": 22, \"value\": \"920399\"}, \"104654\": {\"frequency\": 34, \"value\": \"104654\"}, \"103510\": {\"frequency\": 6, \"value\": \"103510\"}, \"103950\": {\"frequency\": 104, \"value\": \"103950\"}, \"103951\": {\"frequency\": 62, \"value\": \"103951\"}, \"103815\": {\"frequency\": 8, \"value\": \"103815\"}, \"103511\": {\"frequency\": 985, \"value\": \"103511\"}, \"103813\": {\"frequency\": 55, \"value\": \"103813\"}, \"104339\": {\"frequency\": 652, \"value\": \"104339\"}, \"103958\": {\"frequency\": 15, \"value\": \"103958\"}, \"103810\": {\"frequency\": 16, \"value\": \"103810\"}, \"761779\": {\"frequency\": 1, \"value\": \"761779\"}, \"104231\": {\"frequency\": 5, \"value\": \"104231\"}, \"103887\": {\"frequency\": 454, \"value\": \"103887\"}, \"103766\": {\"frequency\": 25, \"value\": \"103766\"}, \"999999\": {\"frequency\": 53524, \"value\": \"999999\"}, \"104221\": {\"frequency\": 83, \"value\": \"104221\"}, \"600885\": {\"frequency\": 96, \"value\": \"600885\"}, \"104222\": {\"frequency\": 550, \"value\": \"104222\"}, \"104225\": {\"frequency\": 84, \"value\": \"104225\"}, \"104227\": {\"frequency\": 155, \"value\": \"104227\"}, \"104226\": {\"frequency\": 267, \"value\": \"104226\"}, \"104229\": {\"frequency\": 19, \"value\": \"104229\"}, \"104228\": {\"frequency\": 19, \"value\": \"104228\"}, \"104235\": {\"frequency\": 45, \"value\": \"104235\"}, \"103888\": {\"frequency\": 193, \"value\": \"103888\"}, \"103922\": {\"frequency\": 18, \"value\": \"103922\"}, \"103558\": {\"frequency\": 276, \"value\": \"103558\"}, \"103559\": {\"frequency\": 69, \"value\": \"103559\"}, \"103251\": {\"frequency\": 1728, \"value\": \"103251\"}, \"103926\": {\"frequency\": 132, \"value\": \"103926\"}, \"104521\": {\"frequency\": 45, \"value\": \"104521\"}, \"103924\": {\"frequency\": 116, \"value\": \"103924\"}, \"103880\": {\"frequency\": 525, \"value\": \"103880\"}, \"103881\": {\"frequency\": 234, \"value\": \"103881\"}, \"701781\": {\"frequency\": 3, \"value\": \"701781\"}, \"103883\": {\"frequency\": 400, \"value\": \"103883\"}, \"103884\": {\"frequency\": 47, \"value\": \"103884\"}, \"701786\": {\"frequency\": 16, \"value\": \"701786\"}, \"701785\": {\"frequency\": 70, \"value\": \"701785\"}, \"103555\": {\"frequency\": 1257, \"value\": \"103555\"}, \"104239\": {\"frequency\": 72, \"value\": \"104239\"}, \"104528\": {\"frequency\": 260, \"value\": \"104528\"}, \"103652\": {\"frequency\": 16, \"value\": \"103652\"}, \"104336\": {\"frequency\": 33, \"value\": \"104336\"}, \"701764\": {\"frequency\": 1, \"value\": \"701764\"}, \"104529\": {\"frequency\": 12, \"value\": \"104529\"}, \"701761\": {\"frequency\": 140, \"value\": \"701761\"}, \"701760\": {\"frequency\": 204, \"value\": \"701760\"}, \"701762\": {\"frequency\": 22, \"value\": \"701762\"}, \"900941\": {\"frequency\": 1395, \"value\": \"900941\"}, \"900944\": {\"frequency\": 69, \"value\": \"900944\"}, \"103318\": {\"frequency\": 132, \"value\": \"103318\"}, \"701804\": {\"frequency\": 3, \"value\": \"701804\"}, \"104453\": {\"frequency\": 85, \"value\": \"104453\"}, \"104450\": {\"frequency\": 15, \"value\": \"104450\"}, \"104598\": {\"frequency\": 33, \"value\": \"104598\"}, \"104457\": {\"frequency\": 954, \"value\": \"104457\"}, \"104454\": {\"frequency\": 1, \"value\": \"104454\"}, \"104593\": {\"frequency\": 3, \"value\": \"104593\"}, \"104119\": {\"frequency\": 72, \"value\": \"104119\"}, \"104591\": {\"frequency\": 70, \"value\": \"104591\"}, \"104590\": {\"frequency\": 71, \"value\": \"104590\"}, \"103936\": {\"frequency\": 20, \"value\": \"103936\"}, \"104595\": {\"frequency\": 15, \"value\": \"104595\"}, \"104594\": {\"frequency\": 1, \"value\": \"104594\"}, \"104294\": {\"frequency\": 563, \"value\": \"104294\"}, \"104295\": {\"frequency\": 25, \"value\": \"104295\"}, \"104296\": {\"frequency\": 323, \"value\": \"104296\"}, \"104297\": {\"frequency\": 110, \"value\": \"104297\"}, \"104359\": {\"frequency\": 16, \"value\": \"104359\"}, \"104291\": {\"frequency\": 353, \"value\": \"104291\"}, \"103745\": {\"frequency\": 688, \"value\": \"103745\"}, \"103900\": {\"frequency\": 10, \"value\": \"103900\"}, \"104355\": {\"frequency\": 7, \"value\": \"104355\"}, \"103930\": {\"frequency\": 129, \"value\": \"103930\"}, \"104357\": {\"frequency\": 17, \"value\": \"104357\"}, \"104356\": {\"frequency\": 23, \"value\": \"104356\"}, \"104351\": {\"frequency\": 5, \"value\": \"104351\"}, \"104299\": {\"frequency\": 96, \"value\": \"104299\"}, \"104353\": {\"frequency\": 47, \"value\": \"104353\"}, \"103931\": {\"frequency\": 39, \"value\": \"103931\"}, \"104575\": {\"frequency\": 24, \"value\": \"104575\"}, \"104574\": {\"frequency\": 13, \"value\": \"104574\"}, \"104678\": {\"frequency\": 77, \"value\": \"104678\"}, \"104576\": {\"frequency\": 307, \"value\": \"104576\"}, \"104571\": {\"frequency\": 104, \"value\": \"104571\"}, \"104570\": {\"frequency\": 180, \"value\": \"104570\"}, \"103038\": {\"frequency\": 3, \"value\": \"103038\"}, \"104672\": {\"frequency\": 9, \"value\": \"104672\"}, \"104673\": {\"frequency\": 1, \"value\": \"104673\"}, \"104671\": {\"frequency\": 1, \"value\": \"104671\"}, \"104579\": {\"frequency\": 1, \"value\": \"104579\"}, \"104677\": {\"frequency\": 21, \"value\": \"104677\"}, \"104674\": {\"frequency\": 16, \"value\": \"104674\"}, \"104055\": {\"frequency\": 542, \"value\": \"104055\"}, \"104179\": {\"frequency\": 346, \"value\": \"104179\"}, \"104643\": {\"frequency\": 117, \"value\": \"104643\"}, \"104088\": {\"frequency\": 36, \"value\": \"104088\"}, \"103577\": {\"frequency\": 5, \"value\": \"103577\"}, \"102859\": {\"frequency\": 87, \"value\": \"102859\"}, \"103077\": {\"frequency\": 51, \"value\": \"103077\"}, \"103526\": {\"frequency\": 136, \"value\": \"103526\"}, \"600882\": {\"frequency\": 150, \"value\": \"600882\"}, \"102850\": {\"frequency\": 104, \"value\": \"102850\"}, \"104459\": {\"frequency\": 2992, \"value\": \"104459\"}, \"103793\": {\"frequency\": 101, \"value\": \"103793\"}, \"104686\": {\"frequency\": 135, \"value\": \"104686\"}, \"104685\": {\"frequency\": 6, \"value\": \"104685\"}, \"104684\": {\"frequency\": 5, \"value\": \"104684\"}, \"104682\": {\"frequency\": 71, \"value\": \"104682\"}, \"104681\": {\"frequency\": 17, \"value\": \"104681\"}, \"900985\": {\"frequency\": 99, \"value\": \"900985\"}, \"104680\": {\"frequency\": 53, \"value\": \"104680\"}, \"103792\": {\"frequency\": 20, \"value\": \"103792\"}, \"701644\": {\"frequency\": 112, \"value\": \"701644\"}, \"104689\": {\"frequency\": 40, \"value\": \"104689\"}, \"103939\": {\"frequency\": 29, \"value\": \"103939\"}, \"109907\": {\"frequency\": 159, \"value\": \"109907\"}, \"104178\": {\"frequency\": 8, \"value\": \"104178\"}, \"109905\": {\"frequency\": 8, \"value\": \"109905\"}, \"104074\": {\"frequency\": 38, \"value\": \"104074\"}, \"104075\": {\"frequency\": 60, \"value\": \"104075\"}, \"104076\": {\"frequency\": 1, \"value\": \"104076\"}, \"104077\": {\"frequency\": 89, \"value\": \"104077\"}, \"104078\": {\"frequency\": 591, \"value\": \"104078\"}, \"104170\": {\"frequency\": 148, \"value\": \"104170\"}, \"103520\": {\"frequency\": 2, \"value\": \"103520\"}, \"104290\": {\"frequency\": 53, \"value\": \"104290\"}, \"104174\": {\"frequency\": 430, \"value\": \"104174\"}, \"103702\": {\"frequency\": 118, \"value\": \"103702\"}, \"104176\": {\"frequency\": 495, \"value\": \"104176\"}, \"104706\": {\"frequency\": 8, \"value\": \"104706\"}, \"104129\": {\"frequency\": 63, \"value\": \"104129\"}, \"103732\": {\"frequency\": 13, \"value\": \"103732\"}, \"103050\": {\"frequency\": 100, \"value\": \"103050\"}, \"104701\": {\"frequency\": 7, \"value\": \"104701\"}, \"103578\": {\"frequency\": 51, \"value\": \"103578\"}, \"104641\": {\"frequency\": 9, \"value\": \"104641\"}, \"104708\": {\"frequency\": 3, \"value\": \"104708\"}, \"103579\": {\"frequency\": 21, \"value\": \"103579\"}, \"104258\": {\"frequency\": 42, \"value\": \"104258\"}, \"103289\": {\"frequency\": 109, \"value\": \"103289\"}, \"103218\": {\"frequency\": 12, \"value\": \"103218\"}, \"103772\": {\"frequency\": 702, \"value\": \"103772\"}, \"104070\": {\"frequency\": 69, \"value\": \"104070\"}, \"103770\": {\"frequency\": 276, \"value\": \"103770\"}, \"103771\": {\"frequency\": 309, \"value\": \"103771\"}, \"601019\": {\"frequency\": 113, \"value\": \"601019\"}, \"103774\": {\"frequency\": 121, \"value\": \"103774\"}, \"104071\": {\"frequency\": 32, \"value\": \"104071\"}, \"103700\": {\"frequency\": 103, \"value\": \"103700\"}, \"103779\": {\"frequency\": 5, \"value\": \"103779\"}, \"600909\": {\"frequency\": 1, \"value\": \"600909\"}, \"104072\": {\"frequency\": 2, \"value\": \"104072\"}, \"920109\": {\"frequency\": 1, \"value\": \"920109\"}, \"900994\": {\"frequency\": 7, \"value\": \"900994\"}, \"103478\": {\"frequency\": 29, \"value\": \"103478\"}, \"921013\": {\"frequency\": 37, \"value\": \"921013\"}, \"701649\": {\"frequency\": 3, \"value\": \"701649\"}, \"103471\": {\"frequency\": 126, \"value\": \"103471\"}, \"103473\": {\"frequency\": 1411, \"value\": \"103473\"}, \"102990\": {\"frequency\": 3, \"value\": \"102990\"}, \"103918\": {\"frequency\": 38, \"value\": \"103918\"}, \"103919\": {\"frequency\": 720, \"value\": \"103919\"}, \"900993\": {\"frequency\": 1, \"value\": \"900993\"}, \"104269\": {\"frequency\": 795, \"value\": \"104269\"}, \"103225\": {\"frequency\": 50, \"value\": \"103225\"}, \"103912\": {\"frequency\": 1, \"value\": \"103912\"}, \"104647\": {\"frequency\": 4, \"value\": \"104647\"}, \"103910\": {\"frequency\": 1, \"value\": \"103910\"}, \"920923\": {\"frequency\": 13, \"value\": \"920923\"}, \"103917\": {\"frequency\": 19, \"value\": \"103917\"}, \"103914\": {\"frequency\": 11, \"value\": \"103914\"}, \"103915\": {\"frequency\": 44, \"value\": \"103915\"}, \"104171\": {\"frequency\": 61, \"value\": \"104171\"}, \"780695\": {\"frequency\": 12, \"value\": \"780695\"}, \"104352\": {\"frequency\": 221, \"value\": \"104352\"}, \"920141\": {\"frequency\": 1, \"value\": \"920141\"}, \"104596\": {\"frequency\": 15, \"value\": \"104596\"}, \"600790\": {\"frequency\": 3, \"value\": \"600790\"}, \"104172\": {\"frequency\": 795, \"value\": \"104172\"}, \"103222\": {\"frequency\": 750, \"value\": \"103222\"}, \"103762\": {\"frequency\": 18, \"value\": \"103762\"}, \"104175\": {\"frequency\": 209, \"value\": \"104175\"}, \"103995\": {\"frequency\": 236, \"value\": \"103995\"}, \"103591\": {\"frequency\": 1, \"value\": \"103591\"}, \"601083\": {\"frequency\": 1, \"value\": \"601083\"}, \"601082\": {\"frequency\": 436, \"value\": \"601082\"}, \"103352\": {\"frequency\": 18, \"value\": \"103352\"}, \"103353\": {\"frequency\": 76, \"value\": \"103353\"}, \"103271\": {\"frequency\": 87, \"value\": \"103271\"}, \"103608\": {\"frequency\": 72, \"value\": \"103608\"}, \"103609\": {\"frequency\": 23, \"value\": \"103609\"}, \"103606\": {\"frequency\": 26, \"value\": \"103606\"}, \"103607\": {\"frequency\": 15, \"value\": \"103607\"}, \"103604\": {\"frequency\": 28, \"value\": \"103604\"}, \"103605\": {\"frequency\": 31, \"value\": \"103605\"}, \"701728\": {\"frequency\": 2, \"value\": \"701728\"}, \"103998\": {\"frequency\": 646, \"value\": \"103998\"}, \"104192\": {\"frequency\": 2774, \"value\": \"104192\"}, \"103827\": {\"frequency\": 1, \"value\": \"103827\"}, \"103999\": {\"frequency\": 8, \"value\": \"103999\"}, \"103822\": {\"frequency\": 34, \"value\": \"103822\"}, \"103823\": {\"frequency\": 54, \"value\": \"103823\"}, \"103820\": {\"frequency\": 2, \"value\": \"103820\"}, \"103821\": {\"frequency\": 251, \"value\": \"103821\"}, \"103996\": {\"frequency\": 137, \"value\": \"103996\"}, \"701678\": {\"frequency\": 2, \"value\": \"701678\"}, \"103500\": {\"frequency\": 95, \"value\": \"103500\"}, \"600694\": {\"frequency\": 26, \"value\": \"600694\"}, \"103828\": {\"frequency\": 922, \"value\": \"103828\"}, \"103829\": {\"frequency\": 87, \"value\": \"103829\"}, \"104081\": {\"frequency\": 53, \"value\": \"104081\"}, \"921218\": {\"frequency\": 4, \"value\": \"921218\"}, \"104083\": {\"frequency\": 13, \"value\": \"104083\"}, \"701483\": {\"frequency\": 8, \"value\": \"701483\"}, \"104085\": {\"frequency\": 8, \"value\": \"104085\"}, \"104084\": {\"frequency\": 15, \"value\": \"104084\"}, \"701486\": {\"frequency\": 77, \"value\": \"701486\"}, \"104086\": {\"frequency\": 4, \"value\": \"104086\"}, \"104089\": {\"frequency\": 633, \"value\": \"104089\"}, \"104702\": {\"frequency\": 26, \"value\": \"104702\"}, \"701722\": {\"frequency\": 149, \"value\": \"701722\"}, \"104311\": {\"frequency\": 14, \"value\": \"104311\"}, \"104310\": {\"frequency\": 18, \"value\": \"104310\"}, \"104313\": {\"frequency\": 39, \"value\": \"104313\"}, \"104527\": {\"frequency\": 257, \"value\": \"104527\"}, \"104315\": {\"frequency\": 11, \"value\": \"104315\"}, \"104314\": {\"frequency\": 27, \"value\": \"104314\"}, \"104317\": {\"frequency\": 12, \"value\": \"104317\"}, \"104316\": {\"frequency\": 1, \"value\": \"104316\"}, \"104319\": {\"frequency\": 28, \"value\": \"104319\"}, \"104318\": {\"frequency\": 271, \"value\": \"104318\"}, \"600970\": {\"frequency\": 2, \"value\": \"600970\"}, \"103544\": {\"frequency\": 5, \"value\": \"103544\"}, \"103505\": {\"frequency\": 140, \"value\": \"103505\"}, \"104259\": {\"frequency\": 196, \"value\": \"104259\"}, \"103851\": {\"frequency\": 594, \"value\": \"103851\"}, \"901023\": {\"frequency\": 1, \"value\": \"901023\"}, \"103857\": {\"frequency\": 2, \"value\": \"103857\"}, \"901025\": {\"frequency\": 180, \"value\": \"901025\"}, \"103503\": {\"frequency\": 1722, \"value\": \"103503\"}, \"103854\": {\"frequency\": 209, \"value\": \"103854\"}, \"104250\": {\"frequency\": 6, \"value\": \"104250\"}, \"104251\": {\"frequency\": 119, \"value\": \"104251\"}, \"100630\": {\"frequency\": 3, \"value\": \"100630\"}, \"104253\": {\"frequency\": 619, \"value\": \"104253\"}, \"920505\": {\"frequency\": 2, \"value\": \"920505\"}, \"104255\": {\"frequency\": 159, \"value\": \"104255\"}, \"104256\": {\"frequency\": 17, \"value\": \"104256\"}, \"104257\": {\"frequency\": 8, \"value\": \"104257\"}, \"104539\": {\"frequency\": 65, \"value\": \"104539\"}, \"104538\": {\"frequency\": 52, \"value\": \"104538\"}, \"701783\": {\"frequency\": 59, \"value\": \"701783\"}, \"103512\": {\"frequency\": 24, \"value\": \"103512\"}, \"103850\": {\"frequency\": 640, \"value\": \"103850\"}, \"104530\": {\"frequency\": 25, \"value\": \"104530\"}, \"104533\": {\"frequency\": 120, \"value\": \"104533\"}, \"104532\": {\"frequency\": 25, \"value\": \"104532\"}, \"103316\": {\"frequency\": 1, \"value\": \"103316\"}, \"104537\": {\"frequency\": 76, \"value\": \"104537\"}, \"104536\": {\"frequency\": 101, \"value\": \"104536\"}, \"701655\": {\"frequency\": 2, \"value\": \"701655\"}, \"103347\": {\"frequency\": 10, \"value\": \"103347\"}, \"104424\": {\"frequency\": 71, \"value\": \"104424\"}, \"701651\": {\"frequency\": 5, \"value\": \"701651\"}, \"103139\": {\"frequency\": 25, \"value\": \"103139\"}, \"701652\": {\"frequency\": 40, \"value\": \"701652\"}, \"104423\": {\"frequency\": 52, \"value\": \"104423\"}, \"104414\": {\"frequency\": 67, \"value\": \"104414\"}, \"104422\": {\"frequency\": 35, \"value\": \"104422\"}, \"104034\": {\"frequency\": 861, \"value\": \"104034\"}, \"104035\": {\"frequency\": 282, \"value\": \"104035\"}, \"104036\": {\"frequency\": 630, \"value\": \"104036\"}, \"104037\": {\"frequency\": 391, \"value\": \"104037\"}, \"104030\": {\"frequency\": 17, \"value\": \"104030\"}, \"104032\": {\"frequency\": 65, \"value\": \"104032\"}, \"104033\": {\"frequency\": 9, \"value\": \"104033\"}, \"104599\": {\"frequency\": 30, \"value\": \"104599\"}, \"103611\": {\"frequency\": 38, \"value\": \"103611\"}, \"104038\": {\"frequency\": 2600, \"value\": \"104038\"}, \"104039\": {\"frequency\": 27, \"value\": \"104039\"}, \"104413\": {\"frequency\": 17, \"value\": \"104413\"}, \"104048\": {\"frequency\": 68, \"value\": \"104048\"}, \"103195\": {\"frequency\": 8, \"value\": \"103195\"}, \"104409\": {\"frequency\": 4, \"value\": \"104409\"}, \"104410\": {\"frequency\": 54, \"value\": \"104410\"}, \"701859\": {\"frequency\": 10, \"value\": \"701859\"}, \"104585\": {\"frequency\": 12, \"value\": \"104585\"}, \"104405\": {\"frequency\": 49, \"value\": \"104405\"}, \"104404\": {\"frequency\": 28, \"value\": \"104404\"}, \"104548\": {\"frequency\": 6, \"value\": \"104548\"}, \"104406\": {\"frequency\": 1, \"value\": \"104406\"}, \"104401\": {\"frequency\": 311, \"value\": \"104401\"}, \"104400\": {\"frequency\": 7, \"value\": \"104400\"}, \"104403\": {\"frequency\": 153, \"value\": \"104403\"}, \"104402\": {\"frequency\": 16, \"value\": \"104402\"}, \"104625\": {\"frequency\": 268, \"value\": \"104625\"}, \"103835\": {\"frequency\": 39, \"value\": \"103835\"}, \"104627\": {\"frequency\": 50, \"value\": \"104627\"}, \"104621\": {\"frequency\": 41, \"value\": \"104621\"}, \"104620\": {\"frequency\": 18, \"value\": \"104620\"}, \"104623\": {\"frequency\": 18, \"value\": \"104623\"}, \"104622\": {\"frequency\": 36, \"value\": \"104622\"}, \"921109\": {\"frequency\": 2, \"value\": \"921109\"}, \"104196\": {\"frequency\": 332, \"value\": \"104196\"}, \"104331\": {\"frequency\": 251, \"value\": \"104331\"}, \"701716\": {\"frequency\": 1, \"value\": \"701716\"}, \"102805\": {\"frequency\": 6, \"value\": \"102805\"}, \"104429\": {\"frequency\": 96, \"value\": \"104429\"}, \"102801\": {\"frequency\": 147, \"value\": \"102801\"}, \"900776\": {\"frequency\": 1, \"value\": \"900776\"}, \"104415\": {\"frequency\": 2, \"value\": \"104415\"}, \"104583\": {\"frequency\": 33, \"value\": \"104583\"}, \"103430\": {\"frequency\": 1, \"value\": \"103430\"}, \"103433\": {\"frequency\": 4, \"value\": \"103433\"}, \"103840\": {\"frequency\": 54, \"value\": \"103840\"}, \"103439\": {\"frequency\": 23, \"value\": \"103439\"}, \"103438\": {\"frequency\": 326, \"value\": \"103438\"}, \"103740\": {\"frequency\": 89, \"value\": \"103740\"}, \"920146\": {\"frequency\": 6, \"value\": \"920146\"}, \"102411\": {\"frequency\": 845, \"value\": \"102411\"}, \"103006\": {\"frequency\": 312, \"value\": \"103006\"}, \"104100\": {\"frequency\": 97, \"value\": \"104100\"}, \"104101\": {\"frequency\": 425, \"value\": \"104101\"}, \"104102\": {\"frequency\": 24, \"value\": \"104102\"}, \"104103\": {\"frequency\": 93, \"value\": \"104103\"}, \"104104\": {\"frequency\": 33, \"value\": \"104104\"}, \"104105\": {\"frequency\": 35, \"value\": \"104105\"}, \"104106\": {\"frequency\": 10, \"value\": \"104106\"}, \"104107\": {\"frequency\": 105, \"value\": \"104107\"}, \"104108\": {\"frequency\": 20, \"value\": \"104108\"}, \"104592\": {\"frequency\": 7, \"value\": \"104592\"}, \"701656\": {\"frequency\": 15, \"value\": \"701656\"}, \"103509\": {\"frequency\": 3, \"value\": \"103509\"}, \"103790\": {\"frequency\": 106, \"value\": \"103790\"}, \"103791\": {\"frequency\": 195, \"value\": \"103791\"}, \"104458\": {\"frequency\": 23, \"value\": \"104458\"}, \"104511\": {\"frequency\": 31, \"value\": \"104511\"}, \"103794\": {\"frequency\": 74, \"value\": \"103794\"}, \"103795\": {\"frequency\": 463, \"value\": \"103795\"}, \"103796\": {\"frequency\": 10, \"value\": \"103796\"}, \"103797\": {\"frequency\": 161, \"value\": \"103797\"}, \"103798\": {\"frequency\": 16, \"value\": \"103798\"}, \"103913\": {\"frequency\": 21, \"value\": \"103913\"}, \"104666\": {\"frequency\": 2, \"value\": \"104666\"}, \"920411\": {\"frequency\": 2, \"value\": \"920411\"}, \"701840\": {\"frequency\": 17, \"value\": \"701840\"}, \"701855\": {\"frequency\": 210, \"value\": \"701855\"}, \"103601\": {\"frequency\": 41, \"value\": \"103601\"}, \"104347\": {\"frequency\": 55, \"value\": \"104347\"}, \"103501\": {\"frequency\": 30, \"value\": \"103501\"}, \"104298\": {\"frequency\": 30, \"value\": \"104298\"}, \"103513\": {\"frequency\": 1, \"value\": \"103513\"}, \"103777\": {\"frequency\": 1, \"value\": \"103777\"}, \"103642\": {\"frequency\": 22, \"value\": \"103642\"}, \"103640\": {\"frequency\": 271, \"value\": \"103640\"}, \"104345\": {\"frequency\": 86, \"value\": \"104345\"}, \"103646\": {\"frequency\": 59, \"value\": \"103646\"}, \"600903\": {\"frequency\": 36, \"value\": \"600903\"}, \"103644\": {\"frequency\": 7, \"value\": \"103644\"}, \"103645\": {\"frequency\": 1, \"value\": \"103645\"}, \"701835\": {\"frequency\": 12, \"value\": \"701835\"}, \"103648\": {\"frequency\": 33, \"value\": \"103648\"}, \"103775\": {\"frequency\": 100, \"value\": \"103775\"}, \"103301\": {\"frequency\": 389, \"value\": \"103301\"}, \"701841\": {\"frequency\": 29, \"value\": \"701841\"}, \"103484\": {\"frequency\": 49, \"value\": \"103484\"}, \"103485\": {\"frequency\": 22, \"value\": \"103485\"}, \"103486\": {\"frequency\": 23, \"value\": \"103486\"}, \"103487\": {\"frequency\": 3867, \"value\": \"103487\"}, \"103728\": {\"frequency\": 88, \"value\": \"103728\"}, \"103098\": {\"frequency\": 79, \"value\": \"103098\"}, \"103725\": {\"frequency\": 35, \"value\": \"103725\"}, \"103724\": {\"frequency\": 4, \"value\": \"103724\"}, \"103094\": {\"frequency\": 44, \"value\": \"103094\"}, \"103488\": {\"frequency\": 40, \"value\": \"103488\"}, \"103720\": {\"frequency\": 36, \"value\": \"103720\"}, \"103723\": {\"frequency\": 6, \"value\": \"103723\"}, \"103722\": {\"frequency\": 30, \"value\": \"103722\"}}, \"size\": 324352}}, \"selected_variable\": {\"name\": [\"data\"], \"descriptives\": {\"rows\": 324352, \"columns\": 5}, \"view_component\": \"Summary\", \"view_file\": \"sframe\", \"view_params\": {\"y\": null, \"x\": null, \"columns\": [\"id\", \"actor_name\", \"character\", \"film_name\", \"weight\"], \"view\": null}, \"view_components\": [\"Summary\", \"Table\", \"Bar Chart\", \"BoxWhisker Plot\", \"Line Chart\", \"Scatter Plot\", \"Heat Map\", \"Plots\"], \"type\": \"SFrame\", \"columns\": [{\"dtype\": \"int\", \"name\": \"id\"}, {\"dtype\": \"str\", \"name\": \"actor_name\"}, {\"dtype\": \"str\", \"name\": \"character\"}, {\"dtype\": \"str\", \"name\": \"film_name\"}, {\"dtype\": \"float\", \"name\": \"weight\"}], \"column_identifiers\": [\"actor_name\", \"character\", \"id\", \"weight\", \"film_name\"]}, \"columns\": [{\"dtype\": \"int\", \"name\": \"id\"}, {\"dtype\": \"str\", \"name\": \"actor_name\"}, {\"dtype\": \"str\", \"name\": \"character\"}, {\"dtype\": \"str\", \"name\": \"film_name\"}, {\"dtype\": \"float\", \"name\": \"weight\"}]}, e);\n",
       "                });\n",
       "            })();\n",
       "        "
      ]
     },
     "metadata": {},
     "output_type": "display_data"
    }
   ],
   "source": [
    "data['weight'] = .5\n",
    "data.show()"
   ]
  },
  {
   "cell_type": "code",
   "execution_count": 232,
   "metadata": {
    "collapsed": false
   },
   "outputs": [
    {
     "name": "stdout",
     "output_type": "stream",
     "text": [
      "**data overview**\n"
     ]
    },
    {
     "data": {
      "text/html": [
       "<img src=\"https://s3.amazonaws.com/180data/Screenshot+2016-03-29+22.23.16.png\"/>"
      ],
      "text/plain": [
       "<IPython.core.display.Image object>"
      ]
     },
     "metadata": {},
     "output_type": "display_data"
    }
   ],
   "source": [
    "print \"**data overview**\"\n",
    "display(Image(url='https://s3.amazonaws.com/180data/Screenshot+2016-03-29+22.23.16.png'))"
   ]
  },
  {
   "cell_type": "code",
   "execution_count": 234,
   "metadata": {
    "collapsed": false
   },
   "outputs": [
    {
     "name": "stdout",
     "output_type": "stream",
     "text": [
      "Movie graph summary:\n",
      "{'num_edges': 648704, 'num_vertices': 1614} \n",
      "\n"
     ]
    }
   ],
   "source": [
    "actors = data['actor_name'].unique()\n",
    "films = data['film_name'].unique()\n",
    "\n",
    "g = graphlab.SGraph()\n",
    "g = g.add_edges(data, src_field='actor_name', dst_field='film_name')\n",
    "g = g.add_edges(data, src_field='film_name', dst_field='actor_name')\n",
    "\n",
    "print \"Movie graph summary:\\n\", g.summary(), \"\\n\""
   ]
  },
  {
   "cell_type": "code",
   "execution_count": 235,
   "metadata": {
    "collapsed": false
   },
   "outputs": [
    {
     "name": "stdout",
     "output_type": "stream",
     "text": [
      "Employee vertex sample:\n"
     ]
    },
    {
     "data": {
      "text/html": [
       "<div style=\"max-height:1000px;max-width:1500px;overflow:auto;\"><table frame=\"box\" rules=\"cols\">\n",
       "    <tr>\n",
       "        <th style=\"padding-left: 1em; padding-right: 1em; text-align: center\">__id</th>\n",
       "    </tr>\n",
       "    <tr>\n",
       "        <td style=\"padding-left: 1em; padding-right: 1em; text-align: center; vertical-align: top\">8449</td>\n",
       "    </tr>\n",
       "    <tr>\n",
       "        <td style=\"padding-left: 1em; padding-right: 1em; text-align: center; vertical-align: top\">9120</td>\n",
       "    </tr>\n",
       "    <tr>\n",
       "        <td style=\"padding-left: 1em; padding-right: 1em; text-align: center; vertical-align: top\">9219</td>\n",
       "    </tr>\n",
       "    <tr>\n",
       "        <td style=\"padding-left: 1em; padding-right: 1em; text-align: center; vertical-align: top\">9364</td>\n",
       "    </tr>\n",
       "    <tr>\n",
       "        <td style=\"padding-left: 1em; padding-right: 1em; text-align: center; vertical-align: top\">9718</td>\n",
       "    </tr>\n",
       "</table>\n",
       "[5 rows x 1 columns]<br/>\n",
       "</div>"
      ],
      "text/plain": [
       "Columns:\n",
       "\t__id\tstr\n",
       "\n",
       "Rows: 5\n",
       "\n",
       "Data:\n",
       "+------+\n",
       "| __id |\n",
       "+------+\n",
       "| 8449 |\n",
       "| 9120 |\n",
       "| 9219 |\n",
       "| 9364 |\n",
       "| 9718 |\n",
       "+------+\n",
       "[5 rows x 1 columns]"
      ]
     },
     "execution_count": 235,
     "metadata": {},
     "output_type": "execute_result"
    }
   ],
   "source": [
    "print \"Employee vertex sample:\"\n",
    "g.get_vertices(ids=actors).tail(5)"
   ]
  },
  {
   "cell_type": "code",
   "execution_count": 236,
   "metadata": {
    "collapsed": false
   },
   "outputs": [
    {
     "name": "stdout",
     "output_type": "stream",
     "text": [
      "Connected components summary:\n",
      "Class                                   : ConnectedComponentsModel\n",
      "\n",
      "Graph\n",
      "-----\n",
      "num_edges                               : 648704\n",
      "num_vertices                            : 1614\n",
      "\n",
      "Results\n",
      "-------\n",
      "graph                                   : SGraph. See m['graph']\n",
      "component size                          : SFrame. See m['component_size']\n",
      "number of connected components          : 1\n",
      "vertex component id                     : SFrame. See m['componentid']\n",
      "\n",
      "Metrics\n",
      "-------\n",
      "training time (secs)                    : 0.5146\n",
      "\n",
      "Queryable Fields\n",
      "----------------\n",
      "graph                                   : A new SGraph with the color id as a vertex property\n",
      "component_id                            : An SFrame with each vertex's component id\n",
      "component_size                          : An SFrame with the size of each component\n",
      "training_time                           : Total training time of the model\n",
      "\n",
      "None\n"
     ]
    }
   ],
   "source": [
    "cc = graphlab.connected_components.create(g, verbose=False)\n",
    "cc_out = cc['component_id']\n",
    "print \"Connected components summary:\\n\", cc.summary()"
   ]
  },
  {
   "cell_type": "code",
   "execution_count": 184,
   "metadata": {
    "collapsed": false
   },
   "outputs": [
    {
     "data": {
      "text/html": [
       "<div style=\"max-height:1000px;max-width:1500px;overflow:auto;\"><table frame=\"box\" rules=\"cols\">\n",
       "    <tr>\n",
       "        <th style=\"padding-left: 1em; padding-right: 1em; text-align: center\">component_id</th>\n",
       "        <th style=\"padding-left: 1em; padding-right: 1em; text-align: center\">Count</th>\n",
       "    </tr>\n",
       "    <tr>\n",
       "        <td style=\"padding-left: 1em; padding-right: 1em; text-align: center; vertical-align: top\">128</td>\n",
       "        <td style=\"padding-left: 1em; padding-right: 1em; text-align: center; vertical-align: top\">1614</td>\n",
       "    </tr>\n",
       "</table>\n",
       "[1 rows x 2 columns]<br/>\n",
       "</div>"
      ],
      "text/plain": [
       "Columns:\n",
       "\tcomponent_id\tint\n",
       "\tCount\tint\n",
       "\n",
       "Rows: 1\n",
       "\n",
       "Data:\n",
       "+--------------+-------+\n",
       "| component_id | Count |\n",
       "+--------------+-------+\n",
       "|     128      |  1614 |\n",
       "+--------------+-------+\n",
       "[1 rows x 2 columns]"
      ]
     },
     "execution_count": 184,
     "metadata": {},
     "output_type": "execute_result"
    }
   ],
   "source": [
    "cc_size = cc['component_size'].sort('Count', ascending=False)\n",
    "cc_size"
   ]
  },
  {
   "cell_type": "code",
   "execution_count": 190,
   "metadata": {
    "collapsed": false
   },
   "outputs": [],
   "source": [
    "big_label = cc_size['component_id'][0]\n",
    "big_names = cc_out[cc_out['component_id'] == big_label]\n",
    "mainstream_actors = big_names.filter_by(actors, column_name='__id')['__id']"
   ]
  },
  {
   "cell_type": "code",
   "execution_count": 208,
   "metadata": {
    "collapsed": false
   },
   "outputs": [
    {
     "data": {
      "application/javascript": [
       "$(\"head\").append($(\"<link/>\").attr({\n",
       "  rel:  \"stylesheet\",\n",
       "  type: \"text/css\",\n",
       "  href: \"//cdnjs.cloudflare.com/ajax/libs/font-awesome/4.1.0/css/font-awesome.min.css\"\n",
       "}));\n",
       "$(\"head\").append($(\"<link/>\").attr({\n",
       "  rel:  \"stylesheet\",\n",
       "  type: \"text/css\",\n",
       "  href: \"//dato.com/files/canvas/1.8.5/css/canvas.css\"\n",
       "}));\n",
       "\n",
       "            (function(){\n",
       "\n",
       "                var e = null;\n",
       "                if (typeof element == 'undefined') {\n",
       "                    var scripts = document.getElementsByTagName('script');\n",
       "                    var thisScriptTag = scripts[scripts.length-1];\n",
       "                    var parentDiv = thisScriptTag.parentNode;\n",
       "                    e = document.createElement('div');\n",
       "                    parentDiv.appendChild(e);\n",
       "                } else {\n",
       "                    e = element[0];\n",
       "                }\n",
       "\n",
       "                if (typeof requirejs !== 'undefined') {\n",
       "                    // disable load timeout; ipython_app.js is large and can take a while to load.\n",
       "                    requirejs.config({waitSeconds: 0});\n",
       "                }\n",
       "\n",
       "                require(['//dato.com/files/canvas/1.8.5/js/ipython_app.js'], function(IPythonApp){\n",
       "                    var app = new IPythonApp();\n",
       "                    app.attachView('sgraph','View', {\"edges_labels\": null, \"selected_variable\": {\"name\": [\"subgraph\"], \"view_file\": \"sgraph\", \"view_component\": \"View\", \"view_params\": {\"elabel_hover\": false, \"vertex_positions\": null, \"h_offset\": 0.0, \"node_size\": 300, \"ecolor\": [0.37, 0.33, 0.33], \"elabel\": null, \"arrows\": false, \"ewidth\": 1, \"vlabel\": \"id\", \"highlight_color\": [[0.69, 0.0, 0.498]], \"vcolor\": [0.522, 0.741, 0.0], \"vlabel_hover\": false, \"highlight\": {\"10181\": [0.69, 0.0, 0.498]}, \"v_offset\": 0.03}, \"view_components\": [\"View\"], \"type\": \"SGraph\", \"descriptives_links\": {\"edges\": \"edges\", \"vertices\": \"vertices\"}, \"descriptives\": {\"edges\": 97, \"vertices\": 14}}, \"positions\": null, \"error_type\": 0, \"vertices\": [\"104254\", \"104392\", \"600353\", \"900983\", \"104260\", \"999999\", \"104614\", \"103295\", \"104393\", \"10181\", \"103531\", \"104113\", \"601094\", \"901310\"], \"vertices_labels\": [\"104254\", \"104392\", \"600353\", \"900983\", \"104260\", \"999999\", \"104614\", \"103295\", \"104393\", \"10181\", \"103531\", \"104113\", \"601094\", \"901310\"], \"edges\": [[\"10181\", \"104254\"], [\"10181\", \"900983\"], [\"10181\", \"900983\"], [\"10181\", \"900983\"], [\"10181\", \"900983\"], [\"10181\", \"900983\"], [\"10181\", \"900983\"], [\"10181\", \"900983\"], [\"10181\", \"900983\"], [\"10181\", \"900983\"], [\"10181\", \"600353\"], [\"10181\", \"900983\"], [\"10181\", \"900983\"], [\"10181\", \"600353\"], [\"10181\", \"900983\"], [\"10181\", \"900983\"], [\"10181\", \"900983\"], [\"10181\", \"104392\"], [\"10181\", \"104392\"], [\"10181\", \"104392\"], [\"10181\", \"900983\"], [\"10181\", \"104392\"], [\"10181\", \"900983\"], [\"10181\", \"900983\"], [\"10181\", \"900983\"], [\"10181\", \"900983\"], [\"10181\", \"900983\"], [\"10181\", \"900983\"], [\"10181\", \"900983\"], [\"10181\", \"900983\"], [\"10181\", \"900983\"], [\"10181\", \"900983\"], [\"10181\", \"900983\"], [\"10181\", \"900983\"], [\"10181\", \"900983\"], [\"10181\", \"900983\"], [\"10181\", \"900983\"], [\"10181\", \"900983\"], [\"10181\", \"900983\"], [\"10181\", \"900983\"], [\"10181\", \"999999\"], [\"10181\", \"999999\"], [\"10181\", \"999999\"], [\"10181\", \"999999\"], [\"10181\", \"999999\"], [\"10181\", \"999999\"], [\"10181\", \"999999\"], [\"10181\", \"999999\"], [\"10181\", \"999999\"], [\"10181\", \"104260\"], [\"10181\", \"999999\"], [\"10181\", \"104260\"], [\"10181\", \"104260\"], [\"10181\", \"999999\"], [\"10181\", \"104260\"], [\"10181\", \"999999\"], [\"10181\", \"104260\"], [\"10181\", \"104260\"], [\"10181\", \"104260\"], [\"10181\", \"104260\"], [\"10181\", \"104614\"], [\"10181\", \"103295\"], [\"10181\", \"103295\"], [\"10181\", \"103295\"], [\"10181\", \"103295\"], [\"10181\", \"103295\"], [\"10181\", \"103295\"], [\"10181\", \"103295\"], [\"10181\", \"104393\"], [\"10181\", \"104393\"], [\"10181\", \"103531\"], [\"10181\", \"901310\"], [\"10181\", \"103531\"], [\"10181\", \"901310\"], [\"10181\", \"103531\"], [\"10181\", \"103531\"], [\"10181\", \"601094\"], [\"10181\", \"103531\"], [\"10181\", \"103531\"], [\"10181\", \"103531\"], [\"10181\", \"103531\"], [\"10181\", \"103531\"], [\"10181\", \"103531\"], [\"10181\", \"103531\"], [\"10181\", \"104113\"], [\"10181\", \"103531\"], [\"10181\", \"103531\"], [\"10181\", \"103531\"], [\"10181\", \"103531\"], [\"10181\", \"601094\"], [\"10181\", \"103531\"], [\"10181\", \"601094\"], [\"10181\", \"103531\"], [\"10181\", \"103531\"], [\"10181\", \"103531\"], [\"10181\", \"103531\"], [\"10181\", \"103531\"]], \"ipython\": true, \"error_msg\": \"\"}, e);\n",
       "                });\n",
       "            })();\n",
       "        "
      ]
     },
     "metadata": {},
     "output_type": "display_data"
    }
   ],
   "source": [
    "bacon_films = g.get_edges(src_ids=['10181'])\n",
    "\n",
    "subgraph = graphlab.SGraph()\n",
    "subgraph = subgraph.add_edges(bacon_films, src_field='__src_id',\n",
    "                              dst_field='__dst_id')\n",
    "subgraph.show(vlabel='id', highlight=['10181'])"
   ]
  },
  {
   "cell_type": "markdown",
   "metadata": {},
   "source": [
    "Below is the graph viz for employee 10181."
   ]
  },
  {
   "cell_type": "code",
   "execution_count": 217,
   "metadata": {
    "collapsed": false
   },
   "outputs": [
    {
     "name": "stdout",
     "output_type": "stream",
     "text": [
      "**10181**\n"
     ]
    },
    {
     "data": {
      "text/html": [
       "<img src=\"https://s3.amazonaws.com/180data/Screenshot+2016-03-29+21.55.55.png\"/>"
      ],
      "text/plain": [
       "<IPython.core.display.Image object>"
      ]
     },
     "metadata": {},
     "output_type": "display_data"
    }
   ],
   "source": [
    "print \"**10181**\"\n",
    "display(Image(url='https://s3.amazonaws.com/180data/Screenshot+2016-03-29+21.55.55.png'))"
   ]
  },
  {
   "cell_type": "code",
   "execution_count": 223,
   "metadata": {
    "collapsed": false
   },
   "outputs": [
    {
     "data": {
      "application/javascript": [
       "$(\"head\").append($(\"<link/>\").attr({\n",
       "  rel:  \"stylesheet\",\n",
       "  type: \"text/css\",\n",
       "  href: \"//cdnjs.cloudflare.com/ajax/libs/font-awesome/4.1.0/css/font-awesome.min.css\"\n",
       "}));\n",
       "$(\"head\").append($(\"<link/>\").attr({\n",
       "  rel:  \"stylesheet\",\n",
       "  type: \"text/css\",\n",
       "  href: \"//dato.com/files/canvas/1.8.5/css/canvas.css\"\n",
       "}));\n",
       "\n",
       "            (function(){\n",
       "\n",
       "                var e = null;\n",
       "                if (typeof element == 'undefined') {\n",
       "                    var scripts = document.getElementsByTagName('script');\n",
       "                    var thisScriptTag = scripts[scripts.length-1];\n",
       "                    var parentDiv = thisScriptTag.parentNode;\n",
       "                    e = document.createElement('div');\n",
       "                    parentDiv.appendChild(e);\n",
       "                } else {\n",
       "                    e = element[0];\n",
       "                }\n",
       "\n",
       "                if (typeof requirejs !== 'undefined') {\n",
       "                    // disable load timeout; ipython_app.js is large and can take a while to load.\n",
       "                    requirejs.config({waitSeconds: 0});\n",
       "                }\n",
       "\n",
       "                require(['//dato.com/files/canvas/1.8.5/js/ipython_app.js'], function(IPythonApp){\n",
       "                    var app = new IPythonApp();\n",
       "                    app.attachView('sgraph','View', {\"edges_labels\": null, \"selected_variable\": {\"name\": [\"subgraph\"], \"view_file\": \"sgraph\", \"view_component\": \"View\", \"view_params\": {\"elabel_hover\": false, \"vertex_positions\": null, \"h_offset\": 0.0, \"node_size\": 300, \"ecolor\": [0.37, 0.33, 0.33], \"elabel\": null, \"arrows\": false, \"ewidth\": 1, \"vlabel\": \"id\", \"highlight_color\": [[0.69, 0.0, 0.498]], \"vcolor\": [0.522, 0.741, 0.0], \"vlabel_hover\": false, \"highlight\": {\"9591\": [0.69, 0.0, 0.498]}, \"v_offset\": 0.03}, \"view_components\": [\"View\"], \"type\": \"SGraph\", \"descriptives_links\": {\"edges\": \"edges\", \"vertices\": \"vertices\"}, \"descriptives\": {\"edges\": 550, \"vertices\": 26}}, \"positions\": null, \"error_type\": 0, \"vertices\": [\"104391\", \"600854\", \"601053\", \"104394\", \"900983\", \"104210\", \"104693\", \"701785\", \"9591\", \"999999\", \"104484\", \"104494\", \"104614\", \"103166\", \"103746\", \"104514\", \"104667\", \"103295\", \"103962\", \"104179\", \"104374\", \"104388\", \"104479\", \"104702\", \"103129\", \"104481\"], \"vertices_labels\": [\"104391\", \"600854\", \"601053\", \"104394\", \"900983\", \"104210\", \"104693\", \"701785\", \"9591\", \"999999\", \"104484\", \"104494\", \"104614\", \"103166\", \"103746\", \"104514\", \"104667\", \"103295\", \"103962\", \"104179\", \"104374\", \"104388\", \"104479\", \"104702\", \"103129\", \"104481\"], \"edges\": [[\"9591\", \"600854\"], [\"9591\", \"600854\"], [\"9591\", \"601053\"], [\"9591\", \"104391\"], [\"9591\", \"104391\"], [\"9591\", \"104391\"], [\"9591\", \"104391\"], [\"9591\", \"104391\"], [\"9591\", \"104391\"], [\"9591\", \"600854\"], [\"9591\", \"104391\"], [\"9591\", \"104391\"], [\"9591\", \"900983\"], [\"9591\", \"900983\"], [\"9591\", \"900983\"], [\"9591\", \"900983\"], [\"9591\", \"900983\"], [\"9591\", \"900983\"], [\"9591\", \"900983\"], [\"9591\", \"900983\"], [\"9591\", \"900983\"], [\"9591\", \"900983\"], [\"9591\", \"900983\"], [\"9591\", \"900983\"], [\"9591\", \"900983\"], [\"9591\", \"900983\"], [\"9591\", \"900983\"], [\"9591\", \"900983\"], [\"9591\", \"900983\"], [\"9591\", \"900983\"], [\"9591\", \"900983\"], [\"9591\", \"900983\"], [\"9591\", \"900983\"], [\"9591\", \"900983\"], [\"9591\", \"900983\"], [\"9591\", \"900983\"], [\"9591\", \"900983\"], [\"9591\", \"900983\"], [\"9591\", \"900983\"], [\"9591\", \"900983\"], [\"9591\", \"900983\"], [\"9591\", \"900983\"], [\"9591\", \"900983\"], [\"9591\", \"900983\"], [\"9591\", \"900983\"], [\"9591\", \"900983\"], [\"9591\", \"900983\"], [\"9591\", \"900983\"], [\"9591\", \"104394\"], [\"9591\", \"900983\"], [\"9591\", \"900983\"], [\"9591\", \"900983\"], [\"9591\", \"900983\"], [\"9591\", \"900983\"], [\"9591\", \"900983\"], [\"9591\", \"900983\"], [\"9591\", \"104394\"], [\"9591\", \"900983\"], [\"9591\", \"900983\"], [\"9591\", \"900983\"], [\"9591\", \"900983\"], [\"9591\", \"104394\"], [\"9591\", \"900983\"], [\"9591\", \"900983\"], [\"9591\", \"900983\"], [\"9591\", \"104394\"], [\"9591\", \"900983\"], [\"9591\", \"900983\"], [\"9591\", \"900983\"], [\"9591\", \"900983\"], [\"9591\", \"900983\"], [\"9591\", \"900983\"], [\"9591\", \"104394\"], [\"9591\", \"900983\"], [\"9591\", \"900983\"], [\"9591\", \"900983\"], [\"9591\", \"104394\"], [\"9591\", \"900983\"], [\"9591\", \"900983\"], [\"9591\", \"900983\"], [\"9591\", \"900983\"], [\"9591\", \"104394\"], [\"9591\", \"900983\"], [\"9591\", \"900983\"], [\"9591\", \"900983\"], [\"9591\", \"900983\"], [\"9591\", \"900983\"], [\"9591\", \"900983\"], [\"9591\", \"104394\"], [\"9591\", \"900983\"], [\"9591\", \"900983\"], [\"9591\", \"900983\"], [\"9591\", \"900983\"], [\"9591\", \"104394\"], [\"9591\", \"900983\"], [\"9591\", \"900983\"], [\"9591\", \"900983\"], [\"9591\", \"900983\"], [\"9591\", \"900983\"], [\"9591\", \"900983\"], [\"9591\", \"900983\"], [\"9591\", \"900983\"], [\"9591\", \"900983\"], [\"9591\", \"900983\"], [\"9591\", \"104394\"], [\"9591\", \"900983\"], [\"9591\", \"900983\"], [\"9591\", \"900983\"], [\"9591\", \"900983\"], [\"9591\", \"900983\"], [\"9591\", \"900983\"], [\"9591\", \"900983\"], [\"9591\", \"900983\"], [\"9591\", \"104394\"], [\"9591\", \"900983\"], [\"9591\", \"900983\"], [\"9591\", \"900983\"], [\"9591\", \"104394\"], [\"9591\", \"900983\"], [\"9591\", \"900983\"], [\"9591\", \"900983\"], [\"9591\", \"900983\"], [\"9591\", \"900983\"], [\"9591\", \"900983\"], [\"9591\", \"900983\"], [\"9591\", \"900983\"], [\"9591\", \"900983\"], [\"9591\", \"900983\"], [\"9591\", \"900983\"], [\"9591\", \"900983\"], [\"9591\", \"900983\"], [\"9591\", \"900983\"], [\"9591\", \"900983\"], [\"9591\", \"900983\"], [\"9591\", \"900983\"], [\"9591\", \"900983\"], [\"9591\", \"900983\"], [\"9591\", \"900983\"], [\"9591\", \"900983\"], [\"9591\", \"900983\"], [\"9591\", \"900983\"], [\"9591\", \"900983\"], [\"9591\", \"900983\"], [\"9591\", \"900983\"], [\"9591\", \"900983\"], [\"9591\", \"900983\"], [\"9591\", \"900983\"], [\"9591\", \"900983\"], [\"9591\", \"900983\"], [\"9591\", \"900983\"], [\"9591\", \"900983\"], [\"9591\", \"900983\"], [\"9591\", \"900983\"], [\"9591\", \"900983\"], [\"9591\", \"900983\"], [\"9591\", \"900983\"], [\"9591\", \"900983\"], [\"9591\", \"900983\"], [\"9591\", \"900983\"], [\"9591\", \"900983\"], [\"9591\", \"900983\"], [\"9591\", \"900983\"], [\"9591\", \"900983\"], [\"9591\", \"900983\"], [\"9591\", \"900983\"], [\"9591\", \"900983\"], [\"9591\", \"900983\"], [\"9591\", \"900983\"], [\"9591\", \"900983\"], [\"9591\", \"900983\"], [\"9591\", \"900983\"], [\"9591\", \"900983\"], [\"9591\", \"900983\"], [\"9591\", \"900983\"], [\"9591\", \"900983\"], [\"9591\", \"900983\"], [\"9591\", \"900983\"], [\"9591\", \"900983\"], [\"9591\", \"900983\"], [\"9591\", \"900983\"], [\"9591\", \"900983\"], [\"9591\", \"900983\"], [\"9591\", \"900983\"], [\"9591\", \"900983\"], [\"9591\", \"900983\"], [\"9591\", \"900983\"], [\"9591\", \"900983\"], [\"9591\", \"900983\"], [\"9591\", \"900983\"], [\"9591\", \"900983\"], [\"9591\", \"900983\"], [\"9591\", \"900983\"], [\"9591\", \"900983\"], [\"9591\", \"900983\"], [\"9591\", \"900983\"], [\"9591\", \"900983\"], [\"9591\", \"900983\"], [\"9591\", \"900983\"], [\"9591\", \"900983\"], [\"9591\", \"900983\"], [\"9591\", \"900983\"], [\"9591\", \"900983\"], [\"9591\", \"900983\"], [\"9591\", \"900983\"], [\"9591\", \"900983\"], [\"9591\", \"900983\"], [\"9591\", \"900983\"], [\"9591\", \"900983\"], [\"9591\", \"900983\"], [\"9591\", \"900983\"], [\"9591\", \"900983\"], [\"9591\", \"900983\"], [\"9591\", \"900983\"], [\"9591\", \"900983\"], [\"9591\", \"900983\"], [\"9591\", \"900983\"], [\"9591\", \"900983\"], [\"9591\", \"900983\"], [\"9591\", \"900983\"], [\"9591\", \"900983\"], [\"9591\", \"900983\"], [\"9591\", \"900983\"], [\"9591\", \"900983\"], [\"9591\", \"900983\"], [\"9591\", \"900983\"], [\"9591\", \"900983\"], [\"9591\", \"900983\"], [\"9591\", \"900983\"], [\"9591\", \"900983\"], [\"9591\", \"900983\"], [\"9591\", \"900983\"], [\"9591\", \"900983\"], [\"9591\", \"900983\"], [\"9591\", \"900983\"], [\"9591\", \"900983\"], [\"9591\", \"900983\"], [\"9591\", \"900983\"], [\"9591\", \"900983\"], [\"9591\", \"900983\"], [\"9591\", \"900983\"], [\"9591\", \"900983\"], [\"9591\", \"900983\"], [\"9591\", \"900983\"], [\"9591\", \"900983\"], [\"9591\", \"900983\"], [\"9591\", \"900983\"], [\"9591\", \"999999\"], [\"9591\", \"104210\"], [\"9591\", \"104693\"], [\"9591\", \"104210\"], [\"9591\", \"104693\"], [\"9591\", \"999999\"], [\"9591\", \"104210\"], [\"9591\", \"104693\"], [\"9591\", \"104210\"], [\"9591\", \"104693\"], [\"9591\", \"999999\"], [\"9591\", \"701785\"], [\"9591\", \"104693\"], [\"9591\", \"701785\"], [\"9591\", \"104693\"], [\"9591\", \"104693\"], [\"9591\", \"999999\"], [\"9591\", \"104693\"], [\"9591\", \"999999\"], [\"9591\", \"999999\"], [\"9591\", \"999999\"], [\"9591\", \"999999\"], [\"9591\", \"999999\"], [\"9591\", \"999999\"], [\"9591\", \"999999\"], [\"9591\", \"104210\"], [\"9591\", \"999999\"], [\"9591\", \"999999\"], [\"9591\", \"999999\"], [\"9591\", \"999999\"], [\"9591\", \"999999\"], [\"9591\", \"999999\"], [\"9591\", \"999999\"], [\"9591\", \"999999\"], [\"9591\", \"999999\"], [\"9591\", \"999999\"], [\"9591\", \"999999\"], [\"9591\", \"999999\"], [\"9591\", \"999999\"], [\"9591\", \"999999\"], [\"9591\", \"701785\"], [\"9591\", \"701785\"], [\"9591\", \"999999\"], [\"9591\", \"701785\"], [\"9591\", \"999999\"], [\"9591\", \"701785\"], [\"9591\", \"999999\"], [\"9591\", \"999999\"], [\"9591\", \"999999\"], [\"9591\", \"999999\"], [\"9591\", \"999999\"], [\"9591\", \"999999\"], [\"9591\", \"999999\"], [\"9591\", \"999999\"], [\"9591\", \"999999\"], [\"9591\", \"999999\"], [\"9591\", \"999999\"], [\"9591\", \"999999\"], [\"9591\", \"999999\"], [\"9591\", \"999999\"], [\"9591\", \"999999\"], [\"9591\", \"999999\"], [\"9591\", \"999999\"], [\"9591\", \"999999\"], [\"9591\", \"999999\"], [\"9591\", \"999999\"], [\"9591\", \"999999\"], [\"9591\", \"999999\"], [\"9591\", \"999999\"], [\"9591\", \"999999\"], [\"9591\", \"999999\"], [\"9591\", \"999999\"], [\"9591\", \"999999\"], [\"9591\", \"999999\"], [\"9591\", \"999999\"], [\"9591\", \"999999\"], [\"9591\", \"999999\"], [\"9591\", \"999999\"], [\"9591\", \"104210\"], [\"9591\", \"999999\"], [\"9591\", \"104210\"], [\"9591\", \"999999\"], [\"9591\", \"104210\"], [\"9591\", \"999999\"], [\"9591\", \"999999\"], [\"9591\", \"999999\"], [\"9591\", \"999999\"], [\"9591\", \"999999\"], [\"9591\", \"999999\"], [\"9591\", \"104210\"], [\"9591\", \"999999\"], [\"9591\", \"104210\"], [\"9591\", \"999999\"], [\"9591\", \"104210\"], [\"9591\", \"999999\"], [\"9591\", \"104210\"], [\"9591\", \"999999\"], [\"9591\", \"104210\"], [\"9591\", \"104210\"], [\"9591\", \"999999\"], [\"9591\", \"104210\"], [\"9591\", \"104210\"], [\"9591\", \"999999\"], [\"9591\", \"104210\"], [\"9591\", \"999999\"], [\"9591\", \"104210\"], [\"9591\", \"999999\"], [\"9591\", \"999999\"], [\"9591\", \"104210\"], [\"9591\", \"999999\"], [\"9591\", \"104210\"], [\"9591\", \"999999\"], [\"9591\", \"999999\"], [\"9591\", \"104210\"], [\"9591\", \"104210\"], [\"9591\", \"999999\"], [\"9591\", \"104210\"], [\"9591\", \"999999\"], [\"9591\", \"104210\"], [\"9591\", \"999999\"], [\"9591\", \"999999\"], [\"9591\", \"104210\"], [\"9591\", \"104210\"], [\"9591\", \"104210\"], [\"9591\", \"999999\"], [\"9591\", \"104614\"], [\"9591\", \"104614\"], [\"9591\", \"104614\"], [\"9591\", \"104614\"], [\"9591\", \"104614\"], [\"9591\", \"104614\"], [\"9591\", \"104614\"], [\"9591\", \"104614\"], [\"9591\", \"104614\"], [\"9591\", \"104494\"], [\"9591\", \"104494\"], [\"9591\", \"104494\"], [\"9591\", \"104494\"], [\"9591\", \"104494\"], [\"9591\", \"104494\"], [\"9591\", \"104494\"], [\"9591\", \"104494\"], [\"9591\", \"104494\"], [\"9591\", \"104494\"], [\"9591\", \"104494\"], [\"9591\", \"104494\"], [\"9591\", \"104494\"], [\"9591\", \"104494\"], [\"9591\", \"104494\"], [\"9591\", \"104494\"], [\"9591\", \"104494\"], [\"9591\", \"104494\"], [\"9591\", \"104494\"], [\"9591\", \"104484\"], [\"9591\", \"104484\"], [\"9591\", \"104484\"], [\"9591\", \"104514\"], [\"9591\", \"104514\"], [\"9591\", \"104514\"], [\"9591\", \"104514\"], [\"9591\", \"104514\"], [\"9591\", \"104514\"], [\"9591\", \"104514\"], [\"9591\", \"104667\"], [\"9591\", \"104514\"], [\"9591\", \"104667\"], [\"9591\", \"104667\"], [\"9591\", \"104514\"], [\"9591\", \"104667\"], [\"9591\", \"104514\"], [\"9591\", \"104667\"], [\"9591\", \"104514\"], [\"9591\", \"104667\"], [\"9591\", \"104514\"], [\"9591\", \"104667\"], [\"9591\", \"104514\"], [\"9591\", \"104514\"], [\"9591\", \"104667\"], [\"9591\", \"104514\"], [\"9591\", \"104667\"], [\"9591\", \"104514\"], [\"9591\", \"104667\"], [\"9591\", \"104514\"], [\"9591\", \"104514\"], [\"9591\", \"104514\"], [\"9591\", \"104514\"], [\"9591\", \"104514\"], [\"9591\", \"104514\"], [\"9591\", \"104514\"], [\"9591\", \"104514\"], [\"9591\", \"103746\"], [\"9591\", \"103746\"], [\"9591\", \"103746\"], [\"9591\", \"103746\"], [\"9591\", \"103746\"], [\"9591\", \"104514\"], [\"9591\", \"103746\"], [\"9591\", \"104514\"], [\"9591\", \"103746\"], [\"9591\", \"103166\"], [\"9591\", \"103746\"], [\"9591\", \"103746\"], [\"9591\", \"103746\"], [\"9591\", \"103746\"], [\"9591\", \"103746\"], [\"9591\", \"103746\"], [\"9591\", \"103746\"], [\"9591\", \"103746\"], [\"9591\", \"103746\"], [\"9591\", \"103746\"], [\"9591\", \"103746\"], [\"9591\", \"103746\"], [\"9591\", \"104374\"], [\"9591\", \"104374\"], [\"9591\", \"104374\"], [\"9591\", \"104374\"], [\"9591\", \"104374\"], [\"9591\", \"104374\"], [\"9591\", \"104374\"], [\"9591\", \"104374\"], [\"9591\", \"104374\"], [\"9591\", \"104374\"], [\"9591\", \"104374\"], [\"9591\", \"104374\"], [\"9591\", \"104374\"], [\"9591\", \"103295\"], [\"9591\", \"103295\"], [\"9591\", \"103295\"], [\"9591\", \"103295\"], [\"9591\", \"103295\"], [\"9591\", \"103295\"], [\"9591\", \"103295\"], [\"9591\", \"103962\"], [\"9591\", \"103962\"], [\"9591\", \"104179\"], [\"9591\", \"104179\"], [\"9591\", \"104702\"], [\"9591\", \"104388\"], [\"9591\", \"104388\"], [\"9591\", \"104388\"], [\"9591\", \"104388\"], [\"9591\", \"104388\"], [\"9591\", \"104388\"], [\"9591\", \"104388\"], [\"9591\", \"104388\"], [\"9591\", \"104388\"], [\"9591\", \"104388\"], [\"9591\", \"104388\"], [\"9591\", \"104388\"], [\"9591\", \"104479\"], [\"9591\", \"104479\"], [\"9591\", \"104479\"], [\"9591\", \"104479\"], [\"9591\", \"104479\"], [\"9591\", \"104479\"], [\"9591\", \"104479\"], [\"9591\", \"104479\"], [\"9591\", \"104479\"], [\"9591\", \"104479\"], [\"9591\", \"103129\"], [\"9591\", \"103129\"], [\"9591\", \"103129\"], [\"9591\", \"103129\"], [\"9591\", \"103129\"], [\"9591\", \"103129\"], [\"9591\", \"103129\"], [\"9591\", \"103129\"], [\"9591\", \"103129\"], [\"9591\", \"103129\"], [\"9591\", \"103129\"], [\"9591\", \"103129\"], [\"9591\", \"103129\"], [\"9591\", \"103129\"], [\"9591\", \"103129\"], [\"9591\", \"103129\"], [\"9591\", \"103129\"], [\"9591\", \"103129\"], [\"9591\", \"104481\"], [\"9591\", \"103129\"], [\"9591\", \"104481\"], [\"9591\", \"103129\"], [\"9591\", \"103129\"], [\"9591\", \"103129\"], [\"9591\", \"103129\"], [\"9591\", \"103129\"], [\"9591\", \"103129\"], [\"9591\", \"104481\"], [\"9591\", \"103129\"], [\"9591\", \"103129\"], [\"9591\", \"103129\"], [\"9591\", \"104481\"], [\"9591\", \"103129\"], [\"9591\", \"104481\"], [\"9591\", \"103129\"], [\"9591\", \"104481\"], [\"9591\", \"103129\"], [\"9591\", \"104481\"], [\"9591\", \"103129\"], [\"9591\", \"104481\"], [\"9591\", \"103129\"], [\"9591\", \"104481\"], [\"9591\", \"104481\"], [\"9591\", \"104481\"], [\"9591\", \"104481\"]], \"ipython\": true, \"error_msg\": \"\"}, e);\n",
       "                });\n",
       "            })();\n",
       "        "
      ]
     },
     "metadata": {},
     "output_type": "display_data"
    }
   ],
   "source": [
    "bacon_filmss = g.get_edges(src_ids=['9591'])\n",
    "\n",
    "subgraph = graphlab.SGraph()\n",
    "subgraph = subgraph.add_edges(bacon_filmss, src_field='__src_id',\n",
    "                              dst_field='__dst_id')\n",
    "subgraph.show(vlabel='id', highlight=['9591'])"
   ]
  },
  {
   "cell_type": "code",
   "execution_count": 224,
   "metadata": {
    "collapsed": false
   },
   "outputs": [
    {
     "name": "stdout",
     "output_type": "stream",
     "text": [
      "**9591**\n"
     ]
    },
    {
     "data": {
      "text/html": [
       "<img src=\"https://s3.amazonaws.com/180data/Screenshot+2016-03-29+22.11.12.png\"/>"
      ],
      "text/plain": [
       "<IPython.core.display.Image object>"
      ]
     },
     "metadata": {},
     "output_type": "display_data"
    }
   ],
   "source": [
    "print \"**9591**\"\n",
    "display(Image(url='https://s3.amazonaws.com/180data/Screenshot+2016-03-29+22.11.12.png'))"
   ]
  },
  {
   "cell_type": "code",
   "execution_count": 209,
   "metadata": {
    "collapsed": false
   },
   "outputs": [
    {
     "data": {
      "application/javascript": [
       "$(\"head\").append($(\"<link/>\").attr({\n",
       "  rel:  \"stylesheet\",\n",
       "  type: \"text/css\",\n",
       "  href: \"//cdnjs.cloudflare.com/ajax/libs/font-awesome/4.1.0/css/font-awesome.min.css\"\n",
       "}));\n",
       "$(\"head\").append($(\"<link/>\").attr({\n",
       "  rel:  \"stylesheet\",\n",
       "  type: \"text/css\",\n",
       "  href: \"//dato.com/files/canvas/1.8.5/css/canvas.css\"\n",
       "}));\n",
       "\n",
       "            (function(){\n",
       "\n",
       "                var e = null;\n",
       "                if (typeof element == 'undefined') {\n",
       "                    var scripts = document.getElementsByTagName('script');\n",
       "                    var thisScriptTag = scripts[scripts.length-1];\n",
       "                    var parentDiv = thisScriptTag.parentNode;\n",
       "                    e = document.createElement('div');\n",
       "                    parentDiv.appendChild(e);\n",
       "                } else {\n",
       "                    e = element[0];\n",
       "                }\n",
       "\n",
       "                if (typeof requirejs !== 'undefined') {\n",
       "                    // disable load timeout; ipython_app.js is large and can take a while to load.\n",
       "                    requirejs.config({waitSeconds: 0});\n",
       "                }\n",
       "\n",
       "                require(['//dato.com/files/canvas/1.8.5/js/ipython_app.js'], function(IPythonApp){\n",
       "                    var app = new IPythonApp();\n",
       "                    app.attachView('sgraph','View', {\"ipython\": true, \"error_type\": 413, \"selected_variable\": {\"name\": [\"subgraph\"], \"view_file\": \"sgraph\", \"view_component\": \"View\", \"view_params\": {\"elabel_hover\": false, \"vertex_positions\": null, \"h_offset\": 0.0, \"node_size\": 300, \"ecolor\": [0.37, 0.33, 0.33], \"elabel\": null, \"arrows\": false, \"ewidth\": 1, \"vlabel\": \"__id\", \"highlight_color\": [[0.69, 0.0, 0.498], [0.69, 0.0, 0.498], [0.69, 0.0, 0.498], [0.69, 0.0, 0.498], [0.69, 0.0, 0.498], [0.69, 0.0, 0.498], [0.69, 0.0, 0.498], [0.69, 0.0, 0.498], [0.69, 0.0, 0.498], [0.69, 0.0, 0.498], [0.69, 0.0, 0.498], [0.69, 0.0, 0.498], [0.69, 0.0, 0.498], [0.69, 0.0, 0.498], [0.69, 0.0, 0.498], [0.69, 0.0, 0.498], [0.69, 0.0, 0.498], [0.69, 0.0, 0.498], [0.69, 0.0, 0.498], [0.69, 0.0, 0.498], [0.69, 0.0, 0.498], [0.69, 0.0, 0.498], [0.69, 0.0, 0.498], [0.69, 0.0, 0.498], [0.69, 0.0, 0.498], [0.69, 0.0, 0.498], [0.69, 0.0, 0.498], [0.69, 0.0, 0.498], [0.69, 0.0, 0.498], [0.69, 0.0, 0.498], [0.69, 0.0, 0.498], [0.69, 0.0, 0.498], [0.69, 0.0, 0.498], [0.69, 0.0, 0.498], [0.69, 0.0, 0.498], [0.69, 0.0, 0.498], [0.69, 0.0, 0.498], [0.69, 0.0, 0.498], [0.69, 0.0, 0.498], [0.69, 0.0, 0.498], [0.69, 0.0, 0.498], [0.69, 0.0, 0.498], [0.69, 0.0, 0.498], [0.69, 0.0, 0.498], [0.69, 0.0, 0.498], [0.69, 0.0, 0.498], [0.69, 0.0, 0.498], [0.69, 0.0, 0.498], [0.69, 0.0, 0.498], [0.69, 0.0, 0.498], [0.69, 0.0, 0.498], [0.69, 0.0, 0.498], [0.69, 0.0, 0.498], [0.69, 0.0, 0.498], [0.69, 0.0, 0.498], [0.69, 0.0, 0.498], [0.69, 0.0, 0.498], [0.69, 0.0, 0.498], [0.69, 0.0, 0.498], [0.69, 0.0, 0.498], [0.69, 0.0, 0.498], [0.69, 0.0, 0.498], [0.69, 0.0, 0.498], [0.69, 0.0, 0.498], [0.69, 0.0, 0.498], [0.69, 0.0, 0.498], [0.69, 0.0, 0.498], [0.69, 0.0, 0.498], [0.69, 0.0, 0.498], [0.69, 0.0, 0.498], [0.69, 0.0, 0.498], [0.69, 0.0, 0.498], [0.69, 0.0, 0.498], [0.69, 0.0, 0.498], [0.69, 0.0, 0.498], [0.69, 0.0, 0.498], [0.69, 0.0, 0.498], [0.69, 0.0, 0.498], [0.69, 0.0, 0.498], [0.69, 0.0, 0.498], [0.69, 0.0, 0.498], [0.69, 0.0, 0.498], [0.69, 0.0, 0.498], [0.69, 0.0, 0.498], [0.69, 0.0, 0.498], [0.69, 0.0, 0.498], [0.69, 0.0, 0.498], [0.69, 0.0, 0.498], [0.69, 0.0, 0.498], [0.69, 0.0, 0.498], [0.69, 0.0, 0.498], [0.69, 0.0, 0.498], [0.69, 0.0, 0.498], [0.69, 0.0, 0.498], [0.69, 0.0, 0.498], [0.69, 0.0, 0.498], [0.69, 0.0, 0.498]], \"vcolor\": [0.522, 0.741, 0.0], \"vlabel_hover\": true, \"highlight\": {\"999999\": [0.69, 0.0, 0.498], \"600353\": [0.69, 0.0, 0.498], \"104614\": [0.69, 0.0, 0.498], \"104254\": [0.69, 0.0, 0.498], \"104393\": [0.69, 0.0, 0.498], \"104392\": [0.69, 0.0, 0.498], \"901310\": [0.69, 0.0, 0.498], \"601094\": [0.69, 0.0, 0.498], \"103531\": [0.69, 0.0, 0.498], \"103295\": [0.69, 0.0, 0.498], \"900983\": [0.69, 0.0, 0.498], \"104113\": [0.69, 0.0, 0.498], \"104260\": [0.69, 0.0, 0.498]}, \"v_offset\": 0.03}, \"view_components\": [\"View\"], \"type\": \"SGraph\", \"descriptives_links\": {\"edges\": \"edges\", \"vertices\": \"vertices\"}, \"descriptives\": {\"edges\": 1417223, \"vertices\": 318}}, \"error_msg\": \"GraphLab Canvas cannot display an SGraph with more than 1000 vertices or 1000 edges. A subgraph with fewer vertices can be constructed by creating a new SGraph with a selection of edges and vertices from this SGraph or with the get_neighborhood method.\"}, e);\n",
       "                });\n",
       "            })();\n",
       "        "
      ]
     },
     "metadata": {},
     "output_type": "display_data"
    }
   ],
   "source": [
    "subgraph = graphlab.SGraph()\n",
    "\n",
    "for f in bacon_films['__dst_id']:\n",
    "    subgraph = subgraph.add_edges(g.get_edges(src_ids=[f], dst_ids=None),\n",
    "                                  src_field='__src_id', dst_field='__dst_id')\n",
    "    \n",
    "subgraph.show(highlight=list(bacon_films['__dst_id']), vlabel='__id', vlabel_hover=True)"
   ]
  },
  {
   "cell_type": "markdown",
   "metadata": {},
   "source": [
    "# Comparing Connections with Other Employees"
   ]
  },
  {
   "cell_type": "code",
   "execution_count": 210,
   "metadata": {
    "collapsed": false
   },
   "outputs": [],
   "source": [
    "def count_in_degree(src, edge, dst):\n",
    "    dst['in_degree'] += 1\n",
    "    return (src, edge, dst)\n",
    "\n",
    "def get_degree(g):\n",
    "    new_g = graphlab.SGraph(g.vertices, g.edges)\n",
    "    new_g.vertices['in_degree'] = 0\n",
    "    return new_g.triple_apply(count_in_degree, ['in_degree']).get_vertices()\n",
    "\n",
    "degree = get_degree(g)"
   ]
  },
  {
   "cell_type": "code",
   "execution_count": 254,
   "metadata": {
    "collapsed": false
   },
   "outputs": [
    {
     "data": {
      "text/html": [
       "<div style=\"max-height:1000px;max-width:1500px;overflow:auto;\"><table frame=\"box\" rules=\"cols\">\n",
       "    <tr>\n",
       "        <th style=\"padding-left: 1em; padding-right: 1em; text-align: center\">__id</th>\n",
       "        <th style=\"padding-left: 1em; padding-right: 1em; text-align: center\">in_degree</th>\n",
       "    </tr>\n",
       "    <tr>\n",
       "        <td style=\"padding-left: 1em; padding-right: 1em; text-align: center; vertical-align: top\">9591</td>\n",
       "        <td style=\"padding-left: 1em; padding-right: 1em; text-align: center; vertical-align: top\">550</td>\n",
       "    </tr>\n",
       "    <tr>\n",
       "        <td style=\"padding-left: 1em; padding-right: 1em; text-align: center; vertical-align: top\">10181</td>\n",
       "        <td style=\"padding-left: 1em; padding-right: 1em; text-align: center; vertical-align: top\">97</td>\n",
       "    </tr>\n",
       "    <tr>\n",
       "        <td style=\"padding-left: 1em; padding-right: 1em; text-align: center; vertical-align: top\">10416</td>\n",
       "        <td style=\"padding-left: 1em; padding-right: 1em; text-align: center; vertical-align: top\">10</td>\n",
       "    </tr>\n",
       "</table>\n",
       "[3 rows x 2 columns]<br/>\n",
       "</div>"
      ],
      "text/plain": [
       "Columns:\n",
       "\t__id\tstr\n",
       "\tin_degree\tint\n",
       "\n",
       "Rows: 3\n",
       "\n",
       "Data:\n",
       "+-------+-----------+\n",
       "|  __id | in_degree |\n",
       "+-------+-----------+\n",
       "|  9591 |    550    |\n",
       "| 10181 |     97    |\n",
       "| 10416 |     10    |\n",
       "+-------+-----------+\n",
       "[3 rows x 2 columns]"
      ]
     },
     "execution_count": 254,
     "metadata": {},
     "output_type": "execute_result"
    }
   ],
   "source": [
    "comparisons = ['10181', '9591','10416']\n",
    "degree.filter_by(comparisons, '__id').sort('in_degree', ascending=False)"
   ]
  },
  {
   "cell_type": "markdown",
   "metadata": {},
   "source": [
    "## Empl 9591 has the highest degree connections"
   ]
  },
  {
   "cell_type": "code",
   "execution_count": 212,
   "metadata": {
    "collapsed": false
   },
   "outputs": [
    {
     "data": {
      "application/javascript": [
       "$(\"head\").append($(\"<link/>\").attr({\n",
       "  rel:  \"stylesheet\",\n",
       "  type: \"text/css\",\n",
       "  href: \"//cdnjs.cloudflare.com/ajax/libs/font-awesome/4.1.0/css/font-awesome.min.css\"\n",
       "}));\n",
       "$(\"head\").append($(\"<link/>\").attr({\n",
       "  rel:  \"stylesheet\",\n",
       "  type: \"text/css\",\n",
       "  href: \"//dato.com/files/canvas/1.8.5/css/canvas.css\"\n",
       "}));\n",
       "\n",
       "            (function(){\n",
       "\n",
       "                var e = null;\n",
       "                if (typeof element == 'undefined') {\n",
       "                    var scripts = document.getElementsByTagName('script');\n",
       "                    var thisScriptTag = scripts[scripts.length-1];\n",
       "                    var parentDiv = thisScriptTag.parentNode;\n",
       "                    e = document.createElement('div');\n",
       "                    parentDiv.appendChild(e);\n",
       "                } else {\n",
       "                    e = element[0];\n",
       "                }\n",
       "\n",
       "                if (typeof requirejs !== 'undefined') {\n",
       "                    // disable load timeout; ipython_app.js is large and can take a while to load.\n",
       "                    requirejs.config({waitSeconds: 0});\n",
       "                }\n",
       "\n",
       "                require(['//dato.com/files/canvas/1.8.5/js/ipython_app.js'], function(IPythonApp){\n",
       "                    var app = new IPythonApp();\n",
       "                    app.attachView('sarray','Numeric', {\"ipython\": true, \"sketch\": {\"std\": 948.6062380979499, \"complete\": true, \"min\": 3.0, \"max\": 5082.0, \"quantile\": [3.0, 7.0, 10.0, 14.0, 16.0, 24.0, 26.0, 44.0, 51.0, 64.0, 79.0, 102.0, 116.0, 121.0, 128.0, 153.0, 169.0, 191.0, 208.0, 229.0, 237.0, 257.0, 267.0, 276.0, 298.0, 317.0, 325.0, 353.0, 393.0, 403.0, 406.0, 419.0, 439.0, 470.0, 486.0, 509.0, 526.0, 546.0, 560.0, 588.0, 648.0, 675.0, 702.0, 735.0, 745.0, 763.0, 768.0, 784.0, 797.0, 857.0, 923.0, 937.0, 961.0, 980.0, 1026.0, 1035.0, 1048.0, 1055.0, 1076.0, 1110.0, 1158.0, 1186.0, 1214.0, 1225.0, 1241.0, 1268.0, 1287.0, 1305.0, 1339.0, 1377.0, 1390.0, 1400.0, 1447.0, 1478.0, 1491.0, 1524.0, 1593.0, 1609.0, 1622.0, 1648.0, 1670.0, 1692.0, 1720.0, 1741.0, 1799.0, 1818.0, 1881.0, 1974.0, 2024.0, 2042.0, 2061.0, 2284.0, 2324.0, 2451.0, 2598.0, 2797.0, 3509.0, 3699.0, 3771.0, 4608.0, 5082.0], \"median\": 923.0, \"numeric\": true, \"num_unique\": 281, \"num_undefined\": 0, \"var\": 899853.7949583444, \"progress\": 1.0, \"size\": 305, \"frequent_items\": {\"4608\": {\"frequency\": 1, \"value\": 4608}, \"768\": {\"frequency\": 1, \"value\": 768}, \"1026\": {\"frequency\": 1, \"value\": 1026}, \"1027\": {\"frequency\": 1, \"value\": 1027}, \"1540\": {\"frequency\": 1, \"value\": 1540}, \"517\": {\"frequency\": 1, \"value\": 517}, \"7\": {\"frequency\": 1, \"value\": 7}, \"2056\": {\"frequency\": 1, \"value\": 2056}, \"521\": {\"frequency\": 1, \"value\": 521}, \"10\": {\"frequency\": 3, \"value\": 10}, \"1035\": {\"frequency\": 1, \"value\": 1035}, \"2061\": {\"frequency\": 1, \"value\": 2061}, \"14\": {\"frequency\": 1, \"value\": 14}, \"1039\": {\"frequency\": 1, \"value\": 1039}, \"16\": {\"frequency\": 1, \"value\": 16}, \"3\": {\"frequency\": 1, \"value\": 3}, \"532\": {\"frequency\": 1, \"value\": 532}, \"942\": {\"frequency\": 1, \"value\": 942}, \"23\": {\"frequency\": 2, \"value\": 23}, \"1048\": {\"frequency\": 2, \"value\": 1048}, \"25\": {\"frequency\": 2, \"value\": 25}, \"26\": {\"frequency\": 1, \"value\": 26}, \"2589\": {\"frequency\": 1, \"value\": 2589}, \"1054\": {\"frequency\": 1, \"value\": 1054}, \"5\": {\"frequency\": 1, \"value\": 5}, \"1057\": {\"frequency\": 1, \"value\": 1057}, \"34\": {\"frequency\": 1, \"value\": 34}, \"91\": {\"frequency\": 1, \"value\": 91}, \"548\": {\"frequency\": 1, \"value\": 548}, \"550\": {\"frequency\": 1, \"value\": 550}, \"3623\": {\"frequency\": 1, \"value\": 3623}, \"1578\": {\"frequency\": 1, \"value\": 1578}, \"1031\": {\"frequency\": 1, \"value\": 1031}, \"44\": {\"frequency\": 1, \"value\": 44}, \"3118\": {\"frequency\": 1, \"value\": 3118}, \"4655\": {\"frequency\": 1, \"value\": 4655}, \"560\": {\"frequency\": 1, \"value\": 560}, \"49\": {\"frequency\": 1, \"value\": 49}, \"50\": {\"frequency\": 1, \"value\": 50}, \"51\": {\"frequency\": 1, \"value\": 51}, \"1076\": {\"frequency\": 1, \"value\": 1076}, \"479\": {\"frequency\": 1, \"value\": 479}, \"56\": {\"frequency\": 1, \"value\": 56}, \"1593\": {\"frequency\": 1, \"value\": 1593}, \"1082\": {\"frequency\": 1, \"value\": 1082}, \"411\": {\"frequency\": 1, \"value\": 411}, \"1598\": {\"frequency\": 1, \"value\": 1598}, \"4789\": {\"frequency\": 1, \"value\": 4789}, \"64\": {\"frequency\": 2, \"value\": 64}, \"11\": {\"frequency\": 1, \"value\": 11}, \"1605\": {\"frequency\": 1, \"value\": 1605}, \"1095\": {\"frequency\": 1, \"value\": 1095}, \"1609\": {\"frequency\": 1, \"value\": 1609}, \"586\": {\"frequency\": 1, \"value\": 586}, \"588\": {\"frequency\": 1, \"value\": 588}, \"2125\": {\"frequency\": 1, \"value\": 2125}, \"78\": {\"frequency\": 2, \"value\": 78}, \"79\": {\"frequency\": 1, \"value\": 79}, \"2130\": {\"frequency\": 1, \"value\": 2130}, \"526\": {\"frequency\": 1, \"value\": 526}, \"1110\": {\"frequency\": 1, \"value\": 1110}, \"599\": {\"frequency\": 1, \"value\": 599}, \"1626\": {\"frequency\": 1, \"value\": 1626}, \"527\": {\"frequency\": 1, \"value\": 527}, \"1117\": {\"frequency\": 1, \"value\": 1117}, \"97\": {\"frequency\": 1, \"value\": 97}, \"1635\": {\"frequency\": 1, \"value\": 1635}, \"1125\": {\"frequency\": 1, \"value\": 1125}, \"102\": {\"frequency\": 1, \"value\": 102}, \"615\": {\"frequency\": 1, \"value\": 615}, \"1130\": {\"frequency\": 1, \"value\": 1130}, \"110\": {\"frequency\": 1, \"value\": 110}, \"1648\": {\"frequency\": 1, \"value\": 1648}, \"626\": {\"frequency\": 1, \"value\": 626}, \"3699\": {\"frequency\": 1, \"value\": 3699}, \"116\": {\"frequency\": 1, \"value\": 116}, \"1214\": {\"frequency\": 1, \"value\": 1214}, \"118\": {\"frequency\": 2, \"value\": 118}, \"1655\": {\"frequency\": 1, \"value\": 1655}, \"121\": {\"frequency\": 1, \"value\": 121}, \"1658\": {\"frequency\": 1, \"value\": 1658}, \"123\": {\"frequency\": 1, \"value\": 123}, \"4\": {\"frequency\": 1, \"value\": 4}, \"127\": {\"frequency\": 1, \"value\": 127}, \"128\": {\"frequency\": 2, \"value\": 128}, \"3713\": {\"frequency\": 1, \"value\": 3713}, \"1692\": {\"frequency\": 1, \"value\": 1692}, \"1158\": {\"frequency\": 1, \"value\": 1158}, \"1159\": {\"frequency\": 1, \"value\": 1159}, \"648\": {\"frequency\": 1, \"value\": 648}, \"1673\": {\"frequency\": 1, \"value\": 1673}, \"15\": {\"frequency\": 2, \"value\": 15}, \"24\": {\"frequency\": 1, \"value\": 24}, \"1055\": {\"frequency\": 1, \"value\": 1055}, \"1686\": {\"frequency\": 1, \"value\": 1686}, \"152\": {\"frequency\": 1, \"value\": 152}, \"1177\": {\"frequency\": 1, \"value\": 1177}, \"668\": {\"frequency\": 1, \"value\": 668}, \"3742\": {\"frequency\": 1, \"value\": 3742}, \"162\": {\"frequency\": 1, \"value\": 162}, \"675\": {\"frequency\": 2, \"value\": 675}, \"676\": {\"frequency\": 1, \"value\": 676}, \"1189\": {\"frequency\": 1, \"value\": 1189}, \"210\": {\"frequency\": 1, \"value\": 210}, \"169\": {\"frequency\": 1, \"value\": 169}, \"1708\": {\"frequency\": 1, \"value\": 1708}, \"1881\": {\"frequency\": 1, \"value\": 1881}, \"1053\": {\"frequency\": 1, \"value\": 1053}, \"1713\": {\"frequency\": 1, \"value\": 1713}, \"115\": {\"frequency\": 1, \"value\": 115}, \"181\": {\"frequency\": 1, \"value\": 181}, \"1720\": {\"frequency\": 1, \"value\": 1720}, \"2746\": {\"frequency\": 1, \"value\": 2746}, \"3771\": {\"frequency\": 1, \"value\": 3771}, \"1725\": {\"frequency\": 1, \"value\": 1725}, \"702\": {\"frequency\": 1, \"value\": 702}, \"191\": {\"frequency\": 1, \"value\": 191}, \"193\": {\"frequency\": 1, \"value\": 193}, \"1483\": {\"frequency\": 1, \"value\": 1483}, \"1221\": {\"frequency\": 2, \"value\": 1221}, \"199\": {\"frequency\": 1, \"value\": 199}, \"1225\": {\"frequency\": 1, \"value\": 1225}, \"1738\": {\"frequency\": 1, \"value\": 1738}, \"715\": {\"frequency\": 1, \"value\": 715}, \"1228\": {\"frequency\": 1, \"value\": 1228}, \"546\": {\"frequency\": 1, \"value\": 546}, \"1741\": {\"frequency\": 1, \"value\": 1741}, \"208\": {\"frequency\": 1, \"value\": 208}, \"209\": {\"frequency\": 1, \"value\": 209}, \"1234\": {\"frequency\": 1, \"value\": 1234}, \"1751\": {\"frequency\": 1, \"value\": 1751}, \"1241\": {\"frequency\": 1, \"value\": 1241}, \"1245\": {\"frequency\": 1, \"value\": 1245}, \"2782\": {\"frequency\": 1, \"value\": 2782}, \"735\": {\"frequency\": 1, \"value\": 735}, \"3297\": {\"frequency\": 1, \"value\": 3297}, \"739\": {\"frequency\": 1, \"value\": 739}, \"229\": {\"frequency\": 1, \"value\": 229}, \"743\": {\"frequency\": 1, \"value\": 743}, \"232\": {\"frequency\": 2, \"value\": 232}, \"745\": {\"frequency\": 1, \"value\": 745}, \"234\": {\"frequency\": 1, \"value\": 234}, \"1063\": {\"frequency\": 1, \"value\": 1063}, \"2284\": {\"frequency\": 1, \"value\": 2284}, \"2797\": {\"frequency\": 1, \"value\": 2797}, \"239\": {\"frequency\": 1, \"value\": 239}, \"1776\": {\"frequency\": 1, \"value\": 1776}, \"753\": {\"frequency\": 1, \"value\": 753}, \"755\": {\"frequency\": 1, \"value\": 755}, \"1268\": {\"frequency\": 1, \"value\": 1268}, \"245\": {\"frequency\": 1, \"value\": 245}, \"8\": {\"frequency\": 1, \"value\": 8}, \"763\": {\"frequency\": 1, \"value\": 763}, \"765\": {\"frequency\": 1, \"value\": 765}, \"767\": {\"frequency\": 1, \"value\": 767}, \"2304\": {\"frequency\": 1, \"value\": 2304}, \"257\": {\"frequency\": 1, \"value\": 257}, \"258\": {\"frequency\": 1, \"value\": 258}, \"773\": {\"frequency\": 2, \"value\": 773}, \"262\": {\"frequency\": 1, \"value\": 262}, \"1287\": {\"frequency\": 1, \"value\": 1287}, \"1288\": {\"frequency\": 1, \"value\": 1288}, \"1290\": {\"frequency\": 1, \"value\": 1290}, \"1803\": {\"frequency\": 1, \"value\": 1803}, \"2319\": {\"frequency\": 1, \"value\": 2319}, \"1799\": {\"frequency\": 1, \"value\": 1799}, \"271\": {\"frequency\": 1, \"value\": 271}, \"787\": {\"frequency\": 1, \"value\": 787}, \"2324\": {\"frequency\": 1, \"value\": 2324}, \"277\": {\"frequency\": 1, \"value\": 277}, \"280\": {\"frequency\": 1, \"value\": 280}, \"1305\": {\"frequency\": 1, \"value\": 1305}, \"1818\": {\"frequency\": 2, \"value\": 1818}, \"797\": {\"frequency\": 2, \"value\": 797}, \"803\": {\"frequency\": 1, \"value\": 803}, \"1670\": {\"frequency\": 1, \"value\": 1670}, \"1830\": {\"frequency\": 1, \"value\": 1830}, \"809\": {\"frequency\": 1, \"value\": 809}, \"298\": {\"frequency\": 1, \"value\": 298}, \"419\": {\"frequency\": 1, \"value\": 419}, \"1326\": {\"frequency\": 1, \"value\": 1326}, \"303\": {\"frequency\": 1, \"value\": 303}, \"304\": {\"frequency\": 1, \"value\": 304}, \"734\": {\"frequency\": 1, \"value\": 734}, \"1334\": {\"frequency\": 1, \"value\": 1334}, \"689\": {\"frequency\": 1, \"value\": 689}, \"2361\": {\"frequency\": 1, \"value\": 2361}, \"1339\": {\"frequency\": 2, \"value\": 1339}, \"317\": {\"frequency\": 1, \"value\": 317}, \"318\": {\"frequency\": 1, \"value\": 318}, \"325\": {\"frequency\": 2, \"value\": 325}, \"326\": {\"frequency\": 1, \"value\": 326}, \"327\": {\"frequency\": 1, \"value\": 327}, \"1494\": {\"frequency\": 1, \"value\": 1494}, \"1654\": {\"frequency\": 1, \"value\": 1654}, \"1873\": {\"frequency\": 1, \"value\": 1873}, \"267\": {\"frequency\": 1, \"value\": 267}, \"857\": {\"frequency\": 1, \"value\": 857}, \"1990\": {\"frequency\": 1, \"value\": 1990}, \"1374\": {\"frequency\": 1, \"value\": 1374}, \"1253\": {\"frequency\": 1, \"value\": 1253}, \"1377\": {\"frequency\": 1, \"value\": 1377}, \"1378\": {\"frequency\": 1, \"value\": 1378}, \"1382\": {\"frequency\": 1, \"value\": 1382}, \"29\": {\"frequency\": 1, \"value\": 29}, \"1390\": {\"frequency\": 1, \"value\": 1390}, \"353\": {\"frequency\": 1, \"value\": 353}, \"1394\": {\"frequency\": 1, \"value\": 1394}, \"2451\": {\"frequency\": 1, \"value\": 2451}, \"372\": {\"frequency\": 1, \"value\": 372}, \"1397\": {\"frequency\": 1, \"value\": 1397}, \"1622\": {\"frequency\": 1, \"value\": 1622}, \"1400\": {\"frequency\": 1, \"value\": 1400}, \"2055\": {\"frequency\": 1, \"value\": 2055}, \"1281\": {\"frequency\": 1, \"value\": 1281}, \"895\": {\"frequency\": 1, \"value\": 895}, \"1408\": {\"frequency\": 1, \"value\": 1408}, \"385\": {\"frequency\": 1, \"value\": 385}, \"179\": {\"frequency\": 1, \"value\": 179}, \"904\": {\"frequency\": 1, \"value\": 904}, \"393\": {\"frequency\": 1, \"value\": 393}, \"395\": {\"frequency\": 1, \"value\": 395}, \"397\": {\"frequency\": 1, \"value\": 397}, \"237\": {\"frequency\": 1, \"value\": 237}, \"1936\": {\"frequency\": 1, \"value\": 1936}, \"2430\": {\"frequency\": 1, \"value\": 2430}, \"403\": {\"frequency\": 1, \"value\": 403}, \"405\": {\"frequency\": 1, \"value\": 405}, \"406\": {\"frequency\": 2, \"value\": 406}, \"3991\": {\"frequency\": 1, \"value\": 3991}, \"3993\": {\"frequency\": 1, \"value\": 3993}, \"923\": {\"frequency\": 1, \"value\": 923}, \"413\": {\"frequency\": 1, \"value\": 413}, \"945\": {\"frequency\": 1, \"value\": 945}, \"1435\": {\"frequency\": 1, \"value\": 1435}, \"932\": {\"frequency\": 1, \"value\": 932}, \"933\": {\"frequency\": 1, \"value\": 933}, \"1447\": {\"frequency\": 1, \"value\": 1447}, \"156\": {\"frequency\": 1, \"value\": 156}, \"583\": {\"frequency\": 1, \"value\": 583}, \"1966\": {\"frequency\": 1, \"value\": 1966}, \"2461\": {\"frequency\": 1, \"value\": 2461}, \"1456\": {\"frequency\": 1, \"value\": 1456}, \"1457\": {\"frequency\": 1, \"value\": 1457}, \"434\": {\"frequency\": 1, \"value\": 434}, \"3509\": {\"frequency\": 1, \"value\": 3509}, \"1974\": {\"frequency\": 1, \"value\": 1974}, \"439\": {\"frequency\": 1, \"value\": 439}, \"444\": {\"frequency\": 1, \"value\": 444}, \"961\": {\"frequency\": 1, \"value\": 961}, \"1478\": {\"frequency\": 2, \"value\": 1478}, \"1992\": {\"frequency\": 1, \"value\": 1992}, \"971\": {\"frequency\": 1, \"value\": 971}, \"1186\": {\"frequency\": 1, \"value\": 1186}, \"976\": {\"frequency\": 1, \"value\": 976}, \"465\": {\"frequency\": 1, \"value\": 465}, \"1491\": {\"frequency\": 1, \"value\": 1491}, \"980\": {\"frequency\": 1, \"value\": 980}, \"1614\": {\"frequency\": 1, \"value\": 1614}, \"470\": {\"frequency\": 2, \"value\": 470}, \"153\": {\"frequency\": 1, \"value\": 153}, \"5082\": {\"frequency\": 1, \"value\": 5082}, \"1503\": {\"frequency\": 1, \"value\": 1503}, \"425\": {\"frequency\": 1, \"value\": 425}, \"2598\": {\"frequency\": 1, \"value\": 2598}, \"486\": {\"frequency\": 1, \"value\": 486}, \"2024\": {\"frequency\": 1, \"value\": 2024}, \"489\": {\"frequency\": 1, \"value\": 489}, \"1618\": {\"frequency\": 1, \"value\": 1618}, \"1277\": {\"frequency\": 1, \"value\": 1277}, \"1008\": {\"frequency\": 1, \"value\": 1008}, \"1524\": {\"frequency\": 1, \"value\": 1524}, \"937\": {\"frequency\": 1, \"value\": 937}, \"504\": {\"frequency\": 1, \"value\": 504}, \"1193\": {\"frequency\": 1, \"value\": 1193}, \"2042\": {\"frequency\": 3, \"value\": 2042}, \"3579\": {\"frequency\": 1, \"value\": 3579}, \"1020\": {\"frequency\": 1, \"value\": 1020}, \"509\": {\"frequency\": 1, \"value\": 509}, \"784\": {\"frequency\": 1, \"value\": 784}, \"276\": {\"frequency\": 2, \"value\": 276}}, \"mean\": 1063.449180327869}, \"selected_variable\": {\"name\": [\"<SArray>\"], \"dtype\": \"int\", \"view_component\": \"Numeric\", \"view_file\": \"sarray\", \"descriptives\": {\"rows\": 305}, \"type\": \"SArray\", \"view_components\": [\"Numeric\", \"Categorical\"]}, \"histogram\": {\"progress\": 1.0, \"histogram\": {\"max\": 5172.528, \"bins\": [83, 62, 50, 50, 30, 10, 5, 2, 7, 2, 2, 2], \"min\": -78.67199999999957}, \"min\": 3, \"complete\": 1, \"max\": 5082}}, e);\n",
       "                });\n",
       "            })();\n",
       "        "
      ]
     },
     "metadata": {},
     "output_type": "display_data"
    }
   ],
   "source": [
    "actor_degree = degree.filter_by(actors, '__id')\n",
    "actor_degree['in_degree'].show()"
   ]
  },
  {
   "cell_type": "code",
   "execution_count": 213,
   "metadata": {
    "collapsed": false
   },
   "outputs": [
    {
     "data": {
      "text/html": [
       "<div style=\"max-height:1000px;max-width:1500px;overflow:auto;\"><table frame=\"box\" rules=\"cols\">\n",
       "    <tr>\n",
       "        <th style=\"padding-left: 1em; padding-right: 1em; text-align: center\">__id</th>\n",
       "        <th style=\"padding-left: 1em; padding-right: 1em; text-align: center\">in_degree</th>\n",
       "    </tr>\n",
       "    <tr>\n",
       "        <td style=\"padding-left: 1em; padding-right: 1em; text-align: center; vertical-align: top\">6428</td>\n",
       "        <td style=\"padding-left: 1em; padding-right: 1em; text-align: center; vertical-align: top\">5082</td>\n",
       "    </tr>\n",
       "    <tr>\n",
       "        <td style=\"padding-left: 1em; padding-right: 1em; text-align: center; vertical-align: top\">7729</td>\n",
       "        <td style=\"padding-left: 1em; padding-right: 1em; text-align: center; vertical-align: top\">4789</td>\n",
       "    </tr>\n",
       "    <tr>\n",
       "        <td style=\"padding-left: 1em; padding-right: 1em; text-align: center; vertical-align: top\">8031</td>\n",
       "        <td style=\"padding-left: 1em; padding-right: 1em; text-align: center; vertical-align: top\">4655</td>\n",
       "    </tr>\n",
       "    <tr>\n",
       "        <td style=\"padding-left: 1em; padding-right: 1em; text-align: center; vertical-align: top\">8231</td>\n",
       "        <td style=\"padding-left: 1em; padding-right: 1em; text-align: center; vertical-align: top\">4608</td>\n",
       "    </tr>\n",
       "    <tr>\n",
       "        <td style=\"padding-left: 1em; padding-right: 1em; text-align: center; vertical-align: top\">8562</td>\n",
       "        <td style=\"padding-left: 1em; padding-right: 1em; text-align: center; vertical-align: top\">3993</td>\n",
       "    </tr>\n",
       "    <tr>\n",
       "        <td style=\"padding-left: 1em; padding-right: 1em; text-align: center; vertical-align: top\">8182</td>\n",
       "        <td style=\"padding-left: 1em; padding-right: 1em; text-align: center; vertical-align: top\">3991</td>\n",
       "    </tr>\n",
       "    <tr>\n",
       "        <td style=\"padding-left: 1em; padding-right: 1em; text-align: center; vertical-align: top\">7984</td>\n",
       "        <td style=\"padding-left: 1em; padding-right: 1em; text-align: center; vertical-align: top\">3771</td>\n",
       "    </tr>\n",
       "    <tr>\n",
       "        <td style=\"padding-left: 1em; padding-right: 1em; text-align: center; vertical-align: top\">6519</td>\n",
       "        <td style=\"padding-left: 1em; padding-right: 1em; text-align: center; vertical-align: top\">3742</td>\n",
       "    </tr>\n",
       "    <tr>\n",
       "        <td style=\"padding-left: 1em; padding-right: 1em; text-align: center; vertical-align: top\">5002</td>\n",
       "        <td style=\"padding-left: 1em; padding-right: 1em; text-align: center; vertical-align: top\">3713</td>\n",
       "    </tr>\n",
       "    <tr>\n",
       "        <td style=\"padding-left: 1em; padding-right: 1em; text-align: center; vertical-align: top\">8257</td>\n",
       "        <td style=\"padding-left: 1em; padding-right: 1em; text-align: center; vertical-align: top\">3699</td>\n",
       "    </tr>\n",
       "</table>\n",
       "[10 rows x 2 columns]<br/>\n",
       "</div>"
      ],
      "text/plain": [
       "Columns:\n",
       "\t__id\tstr\n",
       "\tin_degree\tint\n",
       "\n",
       "Rows: 10\n",
       "\n",
       "Data:\n",
       "+------+-----------+\n",
       "| __id | in_degree |\n",
       "+------+-----------+\n",
       "| 6428 |    5082   |\n",
       "| 7729 |    4789   |\n",
       "| 8031 |    4655   |\n",
       "| 8231 |    4608   |\n",
       "| 8562 |    3993   |\n",
       "| 8182 |    3991   |\n",
       "| 7984 |    3771   |\n",
       "| 6519 |    3742   |\n",
       "| 5002 |    3713   |\n",
       "| 8257 |    3699   |\n",
       "+------+-----------+\n",
       "[10 rows x 2 columns]"
      ]
     },
     "execution_count": 213,
     "metadata": {},
     "output_type": "execute_result"
    }
   ],
   "source": [
    "actor_degree.topk('in_degree')"
   ]
  },
  {
   "cell_type": "code",
   "execution_count": 237,
   "metadata": {
    "collapsed": false
   },
   "outputs": [],
   "source": [
    "sp = graphlab.shortest_path.create(g, source_vid='10181', weight_field='weight', verbose=False)"
   ]
  },
  {
   "cell_type": "code",
   "execution_count": 238,
   "metadata": {
    "collapsed": true
   },
   "outputs": [],
   "source": [
    "sp_graph = sp['graph']"
   ]
  },
  {
   "cell_type": "code",
   "execution_count": 245,
   "metadata": {
    "collapsed": false
   },
   "outputs": [
    {
     "data": {
      "text/html": [
       "<div style=\"max-height:1000px;max-width:1500px;overflow:auto;\"><table frame=\"box\" rules=\"cols\">\n",
       "    <tr>\n",
       "        <th style=\"padding-left: 1em; padding-right: 1em; text-align: center\">__id</th>\n",
       "        <th style=\"padding-left: 1em; padding-right: 1em; text-align: center\">distance</th>\n",
       "    </tr>\n",
       "    <tr>\n",
       "        <td style=\"padding-left: 1em; padding-right: 1em; text-align: center; vertical-align: top\">6326</td>\n",
       "        <td style=\"padding-left: 1em; padding-right: 1em; text-align: center; vertical-align: top\">1.0</td>\n",
       "    </tr>\n",
       "    <tr>\n",
       "        <td style=\"padding-left: 1em; padding-right: 1em; text-align: center; vertical-align: top\">9591</td>\n",
       "        <td style=\"padding-left: 1em; padding-right: 1em; text-align: center; vertical-align: top\">1.0</td>\n",
       "    </tr>\n",
       "    <tr>\n",
       "        <td style=\"padding-left: 1em; padding-right: 1em; text-align: center; vertical-align: top\">10416</td>\n",
       "        <td style=\"padding-left: 1em; padding-right: 1em; text-align: center; vertical-align: top\">1.0</td>\n",
       "    </tr>\n",
       "    <tr>\n",
       "        <td style=\"padding-left: 1em; padding-right: 1em; text-align: center; vertical-align: top\">6428</td>\n",
       "        <td style=\"padding-left: 1em; padding-right: 1em; text-align: center; vertical-align: top\">1.0</td>\n",
       "    </tr>\n",
       "    <tr>\n",
       "        <td style=\"padding-left: 1em; padding-right: 1em; text-align: center; vertical-align: top\">10181</td>\n",
       "        <td style=\"padding-left: 1em; padding-right: 1em; text-align: center; vertical-align: top\">0.0</td>\n",
       "    </tr>\n",
       "</table>\n",
       "[5 rows x 2 columns]<br/>\n",
       "</div>"
      ],
      "text/plain": [
       "Columns:\n",
       "\t__id\tstr\n",
       "\tdistance\tfloat\n",
       "\n",
       "Rows: 5\n",
       "\n",
       "Data:\n",
       "+-------+----------+\n",
       "|  __id | distance |\n",
       "+-------+----------+\n",
       "|  6326 |   1.0    |\n",
       "|  9591 |   1.0    |\n",
       "| 10416 |   1.0    |\n",
       "|  6428 |   1.0    |\n",
       "| 10181 |   0.0    |\n",
       "+-------+----------+\n",
       "[5 rows x 2 columns]"
      ]
     },
     "execution_count": 245,
     "metadata": {},
     "output_type": "execute_result"
    }
   ],
   "source": [
    "query = sp_graph.get_vertices(ids=['9591','10181','10416','6428','6326'])\n",
    "query.head()"
   ]
  },
  {
   "cell_type": "code",
   "execution_count": 247,
   "metadata": {
    "collapsed": false
   },
   "outputs": [],
   "source": [
    "big_label = cc_size['component_id'][0]\n",
    "big_names = cc_out[cc_out['component_id'] == big_label]\n",
    "mainstream_actors = big_names.filter_by(actors, column_name='__id')['__id']"
   ]
  },
  {
   "cell_type": "code",
   "execution_count": 248,
   "metadata": {
    "collapsed": false
   },
   "outputs": [
    {
     "data": {
      "application/javascript": [
       "$(\"head\").append($(\"<link/>\").attr({\n",
       "  rel:  \"stylesheet\",\n",
       "  type: \"text/css\",\n",
       "  href: \"//cdnjs.cloudflare.com/ajax/libs/font-awesome/4.1.0/css/font-awesome.min.css\"\n",
       "}));\n",
       "$(\"head\").append($(\"<link/>\").attr({\n",
       "  rel:  \"stylesheet\",\n",
       "  type: \"text/css\",\n",
       "  href: \"//dato.com/files/canvas/1.8.5/css/canvas.css\"\n",
       "}));\n",
       "\n",
       "            (function(){\n",
       "\n",
       "                var e = null;\n",
       "                if (typeof element == 'undefined') {\n",
       "                    var scripts = document.getElementsByTagName('script');\n",
       "                    var thisScriptTag = scripts[scripts.length-1];\n",
       "                    var parentDiv = thisScriptTag.parentNode;\n",
       "                    e = document.createElement('div');\n",
       "                    parentDiv.appendChild(e);\n",
       "                } else {\n",
       "                    e = element[0];\n",
       "                }\n",
       "\n",
       "                if (typeof requirejs !== 'undefined') {\n",
       "                    // disable load timeout; ipython_app.js is large and can take a while to load.\n",
       "                    requirejs.config({waitSeconds: 0});\n",
       "                }\n",
       "\n",
       "                require(['//dato.com/files/canvas/1.8.5/js/ipython_app.js'], function(IPythonApp){\n",
       "                    var app = new IPythonApp();\n",
       "                    app.attachView('sarray','Numeric', {\"ipython\": true, \"sketch\": {\"std\": 0.2142302504830606, \"complete\": true, \"min\": 0.0, \"max\": 1.5, \"quantile\": [0.0, 1.0, 1.0, 1.0, 1.0, 1.0, 1.0, 1.0, 1.0, 1.0, 1.0, 1.0, 1.0, 1.0, 1.0, 1.0, 1.0, 1.0, 1.0, 1.0, 1.5, 1.5, 1.5, 1.5, 1.5, 1.5, 1.5, 1.5, 1.5, 1.5, 1.5, 1.5, 1.5, 1.5, 1.5, 1.5, 1.5, 1.5, 1.5, 1.5, 1.5, 1.5, 1.5, 1.5, 1.5, 1.5, 1.5, 1.5, 1.5, 1.5, 1.5, 1.5, 1.5, 1.5, 1.5, 1.5, 1.5, 1.5, 1.5, 1.5, 1.5, 1.5, 1.5, 1.5, 1.5, 1.5, 1.5, 1.5, 1.5, 1.5, 1.5, 1.5, 1.5, 1.5, 1.5, 1.5, 1.5, 1.5, 1.5, 1.5, 1.5, 1.5, 1.5, 1.5, 1.5, 1.5, 1.5, 1.5, 1.5, 1.5, 1.5, 1.5, 1.5, 1.5, 1.5, 1.5, 1.5, 1.5, 1.5, 1.5, 1.5], \"median\": 1.5, \"numeric\": true, \"num_unique\": 4, \"num_undefined\": 0, \"var\": 0.04589460022203489, \"progress\": 1.0, \"size\": 1614, \"frequent_items\": {\"1.5\": {\"frequency\": 1296, \"value\": 1.5}, \"1.0\": {\"frequency\": 304, \"value\": 1.0}, \"0.5\": {\"frequency\": 13, \"value\": 0.5}, \"0.0\": {\"frequency\": 1, \"value\": 0.0}}, \"mean\": 1.396840148698885}, \"selected_variable\": {\"name\": [\"<SArray>\"], \"dtype\": \"float\", \"view_component\": \"Numeric\", \"view_file\": \"sarray\", \"descriptives\": {\"rows\": 1614}, \"type\": \"SArray\", \"view_components\": [\"Numeric\", \"Categorical\"]}, \"histogram\": {\"progress\": 1.0, \"histogram\": {\"max\": 1.5179999999999998, \"bins\": [1, 0, 0, 0, 13, 0, 0, 304, 0, 0, 0, 1296], \"min\": -0.018000000000000016}, \"min\": 0.0, \"complete\": 1, \"max\": 1.5}}, e);\n",
       "                });\n",
       "            })();\n",
       "        "
      ]
     },
     "metadata": {},
     "output_type": "display_data"
    }
   ],
   "source": [
    "bacon_sf = sp_graph.get_vertices(ids=mainstream_actors)\n",
    "bacon_sf['distance'].show()"
   ]
  },
  {
   "cell_type": "markdown",
   "metadata": {},
   "source": [
    "Where there is some approximation in the quantiles shown in the quantile histogram, it's clear that the modal distance from DWP's kevin bacon is 1 hop, with 99% of the nodes falling between 1 and 2 hops."
   ]
  },
  {
   "cell_type": "code",
   "execution_count": 249,
   "metadata": {
    "collapsed": false
   },
   "outputs": [
    {
     "name": "stdout",
     "output_type": "stream",
     "text": [
      "**Histogram of Modal Distances**\n"
     ]
    },
    {
     "data": {
      "text/html": [
       "<img src=\"https://s3.amazonaws.com/180data/Screenshot+2016-03-29+22.38.08.png\"/>"
      ],
      "text/plain": [
       "<IPython.core.display.Image object>"
      ]
     },
     "metadata": {},
     "output_type": "display_data"
    }
   ],
   "source": [
    "print \"**Histogram of Modal Distances**\"\n",
    "display(Image(url='https://s3.amazonaws.com/180data/Screenshot+2016-03-29+22.38.08.png'))"
   ]
  },
  {
   "cell_type": "code",
   "execution_count": 255,
   "metadata": {
    "collapsed": false
   },
   "outputs": [],
   "source": [
    "# # Make a container for the centrality statistics\n",
    "mean_dists = {}\n",
    "\n",
    "# # Get statistics for Kevin Bacon - use the already computed KB shortest paths\n",
    "mean_dists['10181'] = bacon_sf['distance'].mean()\n",
    "\n",
    "\n",
    "## Get statistics for the other comparison actors\n",
    "for person in comparisons[1:]:\n",
    "\n",
    "    # get single-source shortest paths\n",
    "    sp2 = graphlab.shortest_path.create(g, source_vid=person,\n",
    "                                        weight_field='weight',\n",
    "                                        verbose=False)\n",
    "    sp2_graph = sp2.get('graph')\n",
    "    sp2_out = sp2_graph.get_vertices(ids=mainstream_actors)\n",
    "\n",
    "    # Compute some statistics about the distribution of distances\n",
    "    mean_dists[person] = sp2_out['distance'].mean()"
   ]
  },
  {
   "cell_type": "code",
   "execution_count": 256,
   "metadata": {
    "collapsed": false
   },
   "outputs": [
    {
     "data": {
      "text/plain": [
       "{'10181': 1.396840148698885,\n",
       " '10416': 1.4990706319702605,\n",
       " '9591': 1.3906443618339528}"
      ]
     },
     "execution_count": 256,
     "metadata": {},
     "output_type": "execute_result"
    }
   ],
   "source": [
    "mean_dists"
   ]
  },
  {
   "cell_type": "markdown",
   "metadata": {},
   "source": [
    "Once again, empl 9591 comes out ahead, with the smallest mean distance to all other network nodes. Let's take a look at the whole distribution of shortest path distances for him."
   ]
  },
  {
   "cell_type": "code",
   "execution_count": null,
   "metadata": {
    "collapsed": true
   },
   "outputs": [],
   "source": []
  }
 ],
 "metadata": {
  "kernelspec": {
   "display_name": "Python 2",
   "language": "python",
   "name": "python2"
  },
  "language_info": {
   "codemirror_mode": {
    "name": "ipython",
    "version": 2
   },
   "file_extension": ".py",
   "mimetype": "text/x-python",
   "name": "python",
   "nbconvert_exporter": "python",
   "pygments_lexer": "ipython2",
   "version": "2.7.10"
  }
 },
 "nbformat": 4,
 "nbformat_minor": 0
}
