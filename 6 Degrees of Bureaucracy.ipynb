{
 "cells": [
  {
   "cell_type": "code",
   "execution_count": 1,
   "metadata": {
    "collapsed": true
   },
   "outputs": [],
   "source": [
    "import graphlab"
   ]
  },
  {
   "cell_type": "code",
   "execution_count": 2,
   "metadata": {
    "collapsed": true
   },
   "outputs": [],
   "source": [
    "from IPython.display import display"
   ]
  },
  {
   "cell_type": "code",
   "execution_count": 3,
   "metadata": {
    "collapsed": true
   },
   "outputs": [],
   "source": [
    "from IPython.display import Image"
   ]
  },
  {
   "cell_type": "code",
   "execution_count": 4,
   "metadata": {
    "collapsed": true
   },
   "outputs": [],
   "source": [
    "graphlab.canvas.set_target('ipynb')"
   ]
  },
  {
   "cell_type": "code",
   "execution_count": 201,
   "metadata": {
    "collapsed": false
   },
   "outputs": [
    {
     "data": {
      "text/html": [
       "<pre>Finished parsing file /Users/jmolayem/Desktop/cleaned.csv</pre>"
      ],
      "text/plain": [
       "Finished parsing file /Users/jmolayem/Desktop/cleaned.csv"
      ]
     },
     "metadata": {},
     "output_type": "display_data"
    },
    {
     "data": {
      "text/html": [
       "<pre>Parsing completed. Parsed 100 lines in 0.41301 secs.</pre>"
      ],
      "text/plain": [
       "Parsing completed. Parsed 100 lines in 0.41301 secs."
      ]
     },
     "metadata": {},
     "output_type": "display_data"
    },
    {
     "data": {
      "text/html": [
       "<pre>Finished parsing file /Users/jmolayem/Desktop/cleaned.csv</pre>"
      ],
      "text/plain": [
       "Finished parsing file /Users/jmolayem/Desktop/cleaned.csv"
      ]
     },
     "metadata": {},
     "output_type": "display_data"
    },
    {
     "data": {
      "text/html": [
       "<pre>Parsing completed. Parsed 324352 lines in 0.375143 secs.</pre>"
      ],
      "text/plain": [
       "Parsing completed. Parsed 324352 lines in 0.375143 secs."
      ]
     },
     "metadata": {},
     "output_type": "display_data"
    }
   ],
   "source": [
    "data = graphlab.SFrame.read_csv('cleaned.csv', column_type_hints={'film_name': str,'empl':str})"
   ]
  },
  {
   "cell_type": "code",
   "execution_count": 203,
   "metadata": {
    "collapsed": false
   },
   "outputs": [
    {
     "data": {
      "text/html": [
       "<div style=\"max-height:1000px;max-width:1500px;overflow:auto;\"><table frame=\"box\" rules=\"cols\">\n",
       "    <tr>\n",
       "        <th style=\"padding-left: 1em; padding-right: 1em; text-align: center\">id</th>\n",
       "        <th style=\"padding-left: 1em; padding-right: 1em; text-align: center\">actor_name</th>\n",
       "        <th style=\"padding-left: 1em; padding-right: 1em; text-align: center\">character</th>\n",
       "        <th style=\"padding-left: 1em; padding-right: 1em; text-align: center\">film_name</th>\n",
       "    </tr>\n",
       "    <tr>\n",
       "        <td style=\"padding-left: 1em; padding-right: 1em; text-align: center; vertical-align: top\">0</td>\n",
       "        <td style=\"padding-left: 1em; padding-right: 1em; text-align: center; vertical-align: top\">9901</td>\n",
       "        <td style=\"padding-left: 1em; padding-right: 1em; text-align: center; vertical-align: top\">Adam Riley</td>\n",
       "        <td style=\"padding-left: 1em; padding-right: 1em; text-align: center; vertical-align: top\">600353</td>\n",
       "    </tr>\n",
       "    <tr>\n",
       "        <td style=\"padding-left: 1em; padding-right: 1em; text-align: center; vertical-align: top\">1</td>\n",
       "        <td style=\"padding-left: 1em; padding-right: 1em; text-align: center; vertical-align: top\">9901</td>\n",
       "        <td style=\"padding-left: 1em; padding-right: 1em; text-align: center; vertical-align: top\">Captain' Robert Jackson</td>\n",
       "        <td style=\"padding-left: 1em; padding-right: 1em; text-align: center; vertical-align: top\">900984</td>\n",
       "    </tr>\n",
       "    <tr>\n",
       "        <td style=\"padding-left: 1em; padding-right: 1em; text-align: center; vertical-align: top\">2</td>\n",
       "        <td style=\"padding-left: 1em; padding-right: 1em; text-align: center; vertical-align: top\">9901</td>\n",
       "        <td style=\"padding-left: 1em; padding-right: 1em; text-align: center; vertical-align: top\">Jacob Krause</td>\n",
       "        <td style=\"padding-left: 1em; padding-right: 1em; text-align: center; vertical-align: top\">104113</td>\n",
       "    </tr>\n",
       "    <tr>\n",
       "        <td style=\"padding-left: 1em; padding-right: 1em; text-align: center; vertical-align: top\">3</td>\n",
       "        <td style=\"padding-left: 1em; padding-right: 1em; text-align: center; vertical-align: top\">9901</td>\n",
       "        <td style=\"padding-left: 1em; padding-right: 1em; text-align: center; vertical-align: top\">Carissa</td>\n",
       "        <td style=\"padding-left: 1em; padding-right: 1em; text-align: center; vertical-align: top\">104113</td>\n",
       "    </tr>\n",
       "    <tr>\n",
       "        <td style=\"padding-left: 1em; padding-right: 1em; text-align: center; vertical-align: top\">4</td>\n",
       "        <td style=\"padding-left: 1em; padding-right: 1em; text-align: center; vertical-align: top\">9901</td>\n",
       "        <td style=\"padding-left: 1em; padding-right: 1em; text-align: center; vertical-align: top\">Commander Fredericks</td>\n",
       "        <td style=\"padding-left: 1em; padding-right: 1em; text-align: center; vertical-align: top\">103934</td>\n",
       "    </tr>\n",
       "    <tr>\n",
       "        <td style=\"padding-left: 1em; padding-right: 1em; text-align: center; vertical-align: top\">5</td>\n",
       "        <td style=\"padding-left: 1em; padding-right: 1em; text-align: center; vertical-align: top\">9901</td>\n",
       "        <td style=\"padding-left: 1em; padding-right: 1em; text-align: center; vertical-align: top\">Peter McCollum</td>\n",
       "        <td style=\"padding-left: 1em; padding-right: 1em; text-align: center; vertical-align: top\">104180</td>\n",
       "    </tr>\n",
       "    <tr>\n",
       "        <td style=\"padding-left: 1em; padding-right: 1em; text-align: center; vertical-align: top\">6</td>\n",
       "        <td style=\"padding-left: 1em; padding-right: 1em; text-align: center; vertical-align: top\">9901</td>\n",
       "        <td style=\"padding-left: 1em; padding-right: 1em; text-align: center; vertical-align: top\">Charles Baker</td>\n",
       "        <td style=\"padding-left: 1em; padding-right: 1em; text-align: center; vertical-align: top\">104558</td>\n",
       "    </tr>\n",
       "    <tr>\n",
       "        <td style=\"padding-left: 1em; padding-right: 1em; text-align: center; vertical-align: top\">7</td>\n",
       "        <td style=\"padding-left: 1em; padding-right: 1em; text-align: center; vertical-align: top\">9901</td>\n",
       "        <td style=\"padding-left: 1em; padding-right: 1em; text-align: center; vertical-align: top\">Global Chairman</td>\n",
       "        <td style=\"padding-left: 1em; padding-right: 1em; text-align: center; vertical-align: top\">104552</td>\n",
       "    </tr>\n",
       "    <tr>\n",
       "        <td style=\"padding-left: 1em; padding-right: 1em; text-align: center; vertical-align: top\">8</td>\n",
       "        <td style=\"padding-left: 1em; padding-right: 1em; text-align: center; vertical-align: top\">9901</td>\n",
       "        <td style=\"padding-left: 1em; padding-right: 1em; text-align: center; vertical-align: top\">President of the United<br>States ...</td>\n",
       "        <td style=\"padding-left: 1em; padding-right: 1em; text-align: center; vertical-align: top\">104636</td>\n",
       "    </tr>\n",
       "    <tr>\n",
       "        <td style=\"padding-left: 1em; padding-right: 1em; text-align: center; vertical-align: top\">9</td>\n",
       "        <td style=\"padding-left: 1em; padding-right: 1em; text-align: center; vertical-align: top\">9901</td>\n",
       "        <td style=\"padding-left: 1em; padding-right: 1em; text-align: center; vertical-align: top\">Audrey Thomas</td>\n",
       "        <td style=\"padding-left: 1em; padding-right: 1em; text-align: center; vertical-align: top\">600353</td>\n",
       "    </tr>\n",
       "</table>\n",
       "[324352 rows x 4 columns]<br/>Note: Only the head of the SFrame is printed.<br/>You can use print_rows(num_rows=m, num_columns=n) to print more rows and columns.\n",
       "</div>"
      ],
      "text/plain": [
       "Columns:\n",
       "\tid\tint\n",
       "\tactor_name\tstr\n",
       "\tcharacter\tstr\n",
       "\tfilm_name\tstr\n",
       "\n",
       "Rows: 324352\n",
       "\n",
       "Data:\n",
       "+----+------------+--------------------------------+-----------+\n",
       "| id | actor_name |           character            | film_name |\n",
       "+----+------------+--------------------------------+-----------+\n",
       "| 0  |    9901    |           Adam Riley           |   600353  |\n",
       "| 1  |    9901    |    Captain' Robert Jackson     |   900984  |\n",
       "| 2  |    9901    |          Jacob Krause          |   104113  |\n",
       "| 3  |    9901    |            Carissa             |   104113  |\n",
       "| 4  |    9901    |      Commander Fredericks      |   103934  |\n",
       "| 5  |    9901    |         Peter McCollum         |   104180  |\n",
       "| 6  |    9901    |         Charles Baker          |   104558  |\n",
       "| 7  |    9901    |        Global Chairman         |   104552  |\n",
       "| 8  |    9901    | President of the United States |   104636  |\n",
       "| 9  |    9901    |         Audrey Thomas          |   600353  |\n",
       "+----+------------+--------------------------------+-----------+\n",
       "[324352 rows x 4 columns]\n",
       "Note: Only the head of the SFrame is printed.\n",
       "You can use print_rows(num_rows=m, num_columns=n) to print more rows and columns."
      ]
     },
     "execution_count": 203,
     "metadata": {},
     "output_type": "execute_result"
    }
   ],
   "source": [
    "data.rename({'empl':'actor_name'})"
   ]
  },
  {
   "cell_type": "code",
   "execution_count": 204,
   "metadata": {
    "collapsed": false
   },
   "outputs": [
    {
     "name": "stdout",
     "output_type": "stream",
     "text": [
      "Movie graph summary:\n",
      "{'num_edges': 648704, 'num_vertices': 1614} \n",
      "\n"
     ]
    }
   ],
   "source": [
    "actors = data['actor_name'].unique()\n",
    "films = data['film_name'].unique()\n",
    "\n",
    "g = graphlab.SGraph()\n",
    "g = g.add_edges(data, src_field='actor_name', dst_field='film_name')\n",
    "g = g.add_edges(data, src_field='film_name', dst_field='actor_name')\n",
    "\n",
    "print \"Movie graph summary:\\n\", g.summary(), \"\\n\""
   ]
  },
  {
   "cell_type": "code",
   "execution_count": 207,
   "metadata": {
    "collapsed": false
   },
   "outputs": [
    {
     "name": "stdout",
     "output_type": "stream",
     "text": [
      "Employee vertex sample:\n"
     ]
    },
    {
     "data": {
      "text/html": [
       "<div style=\"max-height:1000px;max-width:1500px;overflow:auto;\"><table frame=\"box\" rules=\"cols\">\n",
       "    <tr>\n",
       "        <th style=\"padding-left: 1em; padding-right: 1em; text-align: center\">__id</th>\n",
       "    </tr>\n",
       "    <tr>\n",
       "        <td style=\"padding-left: 1em; padding-right: 1em; text-align: center; vertical-align: top\">8449</td>\n",
       "    </tr>\n",
       "    <tr>\n",
       "        <td style=\"padding-left: 1em; padding-right: 1em; text-align: center; vertical-align: top\">9120</td>\n",
       "    </tr>\n",
       "    <tr>\n",
       "        <td style=\"padding-left: 1em; padding-right: 1em; text-align: center; vertical-align: top\">9219</td>\n",
       "    </tr>\n",
       "    <tr>\n",
       "        <td style=\"padding-left: 1em; padding-right: 1em; text-align: center; vertical-align: top\">9364</td>\n",
       "    </tr>\n",
       "    <tr>\n",
       "        <td style=\"padding-left: 1em; padding-right: 1em; text-align: center; vertical-align: top\">9718</td>\n",
       "    </tr>\n",
       "</table>\n",
       "[5 rows x 1 columns]<br/>\n",
       "</div>"
      ],
      "text/plain": [
       "Columns:\n",
       "\t__id\tstr\n",
       "\n",
       "Rows: 5\n",
       "\n",
       "Data:\n",
       "+------+\n",
       "| __id |\n",
       "+------+\n",
       "| 8449 |\n",
       "| 9120 |\n",
       "| 9219 |\n",
       "| 9364 |\n",
       "| 9718 |\n",
       "+------+\n",
       "[5 rows x 1 columns]"
      ]
     },
     "execution_count": 207,
     "metadata": {},
     "output_type": "execute_result"
    }
   ],
   "source": [
    "print \"Employee vertex sample:\"\n",
    "g.get_vertices(ids=actors).tail(5)"
   ]
  },
  {
   "cell_type": "code",
   "execution_count": 183,
   "metadata": {
    "collapsed": false
   },
   "outputs": [
    {
     "name": "stdout",
     "output_type": "stream",
     "text": [
      "Connected components summary:\n",
      "Class                                   : ConnectedComponentsModel\n",
      "\n",
      "Graph\n",
      "-----\n",
      "num_edges                               : 648704\n",
      "num_vertices                            : 1614\n",
      "\n",
      "Results\n",
      "-------\n",
      "graph                                   : SGraph. See m['graph']\n",
      "component size                          : SFrame. See m['component_size']\n",
      "number of connected components          : 1\n",
      "vertex component id                     : SFrame. See m['componentid']\n",
      "\n",
      "Metrics\n",
      "-------\n",
      "training time (secs)                    : 0.2497\n",
      "\n",
      "Queryable Fields\n",
      "----------------\n",
      "graph                                   : A new SGraph with the color id as a vertex property\n",
      "component_id                            : An SFrame with each vertex's component id\n",
      "component_size                          : An SFrame with the size of each component\n",
      "training_time                           : Total training time of the model\n",
      "\n",
      "None\n"
     ]
    }
   ],
   "source": [
    "cc = graphlab.connected_components.create(g, verbose=False)\n",
    "cc_out = cc['component_id']\n",
    "print \"Connected components summary:\\n\", cc.summary()"
   ]
  },
  {
   "cell_type": "code",
   "execution_count": 184,
   "metadata": {
    "collapsed": false
   },
   "outputs": [
    {
     "data": {
      "text/html": [
       "<div style=\"max-height:1000px;max-width:1500px;overflow:auto;\"><table frame=\"box\" rules=\"cols\">\n",
       "    <tr>\n",
       "        <th style=\"padding-left: 1em; padding-right: 1em; text-align: center\">component_id</th>\n",
       "        <th style=\"padding-left: 1em; padding-right: 1em; text-align: center\">Count</th>\n",
       "    </tr>\n",
       "    <tr>\n",
       "        <td style=\"padding-left: 1em; padding-right: 1em; text-align: center; vertical-align: top\">128</td>\n",
       "        <td style=\"padding-left: 1em; padding-right: 1em; text-align: center; vertical-align: top\">1614</td>\n",
       "    </tr>\n",
       "</table>\n",
       "[1 rows x 2 columns]<br/>\n",
       "</div>"
      ],
      "text/plain": [
       "Columns:\n",
       "\tcomponent_id\tint\n",
       "\tCount\tint\n",
       "\n",
       "Rows: 1\n",
       "\n",
       "Data:\n",
       "+--------------+-------+\n",
       "| component_id | Count |\n",
       "+--------------+-------+\n",
       "|     128      |  1614 |\n",
       "+--------------+-------+\n",
       "[1 rows x 2 columns]"
      ]
     },
     "execution_count": 184,
     "metadata": {},
     "output_type": "execute_result"
    }
   ],
   "source": [
    "cc_size = cc['component_size'].sort('Count', ascending=False)\n",
    "cc_size"
   ]
  },
  {
   "cell_type": "code",
   "execution_count": 190,
   "metadata": {
    "collapsed": false
   },
   "outputs": [],
   "source": [
    "big_label = cc_size['component_id'][0]\n",
    "big_names = cc_out[cc_out['component_id'] == big_label]\n",
    "mainstream_actors = big_names.filter_by(actors, column_name='__id')['__id']"
   ]
  },
  {
   "cell_type": "code",
   "execution_count": 208,
   "metadata": {
    "collapsed": false
   },
   "outputs": [
    {
     "data": {
      "application/javascript": [
       "$(\"head\").append($(\"<link/>\").attr({\n",
       "  rel:  \"stylesheet\",\n",
       "  type: \"text/css\",\n",
       "  href: \"//cdnjs.cloudflare.com/ajax/libs/font-awesome/4.1.0/css/font-awesome.min.css\"\n",
       "}));\n",
       "$(\"head\").append($(\"<link/>\").attr({\n",
       "  rel:  \"stylesheet\",\n",
       "  type: \"text/css\",\n",
       "  href: \"//dato.com/files/canvas/1.8.5/css/canvas.css\"\n",
       "}));\n",
       "\n",
       "            (function(){\n",
       "\n",
       "                var e = null;\n",
       "                if (typeof element == 'undefined') {\n",
       "                    var scripts = document.getElementsByTagName('script');\n",
       "                    var thisScriptTag = scripts[scripts.length-1];\n",
       "                    var parentDiv = thisScriptTag.parentNode;\n",
       "                    e = document.createElement('div');\n",
       "                    parentDiv.appendChild(e);\n",
       "                } else {\n",
       "                    e = element[0];\n",
       "                }\n",
       "\n",
       "                if (typeof requirejs !== 'undefined') {\n",
       "                    // disable load timeout; ipython_app.js is large and can take a while to load.\n",
       "                    requirejs.config({waitSeconds: 0});\n",
       "                }\n",
       "\n",
       "                require(['//dato.com/files/canvas/1.8.5/js/ipython_app.js'], function(IPythonApp){\n",
       "                    var app = new IPythonApp();\n",
       "                    app.attachView('sgraph','View', {\"edges_labels\": null, \"selected_variable\": {\"name\": [\"subgraph\"], \"view_file\": \"sgraph\", \"view_component\": \"View\", \"view_params\": {\"elabel_hover\": false, \"vertex_positions\": null, \"h_offset\": 0.0, \"node_size\": 300, \"ecolor\": [0.37, 0.33, 0.33], \"elabel\": null, \"arrows\": false, \"ewidth\": 1, \"vlabel\": \"id\", \"highlight_color\": [[0.69, 0.0, 0.498]], \"vcolor\": [0.522, 0.741, 0.0], \"vlabel_hover\": false, \"highlight\": {\"10181\": [0.69, 0.0, 0.498]}, \"v_offset\": 0.03}, \"view_components\": [\"View\"], \"type\": \"SGraph\", \"descriptives_links\": {\"edges\": \"edges\", \"vertices\": \"vertices\"}, \"descriptives\": {\"edges\": 97, \"vertices\": 14}}, \"positions\": null, \"error_type\": 0, \"vertices\": [\"104254\", \"104392\", \"600353\", \"900983\", \"104260\", \"999999\", \"104614\", \"103295\", \"104393\", \"10181\", \"103531\", \"104113\", \"601094\", \"901310\"], \"vertices_labels\": [\"104254\", \"104392\", \"600353\", \"900983\", \"104260\", \"999999\", \"104614\", \"103295\", \"104393\", \"10181\", \"103531\", \"104113\", \"601094\", \"901310\"], \"edges\": [[\"10181\", \"104254\"], [\"10181\", \"900983\"], [\"10181\", \"900983\"], [\"10181\", \"900983\"], [\"10181\", \"900983\"], [\"10181\", \"900983\"], [\"10181\", \"900983\"], [\"10181\", \"900983\"], [\"10181\", \"900983\"], [\"10181\", \"900983\"], [\"10181\", \"600353\"], [\"10181\", \"900983\"], [\"10181\", \"900983\"], [\"10181\", \"600353\"], [\"10181\", \"900983\"], [\"10181\", \"900983\"], [\"10181\", \"900983\"], [\"10181\", \"104392\"], [\"10181\", \"104392\"], [\"10181\", \"104392\"], [\"10181\", \"900983\"], [\"10181\", \"104392\"], [\"10181\", \"900983\"], [\"10181\", \"900983\"], [\"10181\", \"900983\"], [\"10181\", \"900983\"], [\"10181\", \"900983\"], [\"10181\", \"900983\"], [\"10181\", \"900983\"], [\"10181\", \"900983\"], [\"10181\", \"900983\"], [\"10181\", \"900983\"], [\"10181\", \"900983\"], [\"10181\", \"900983\"], [\"10181\", \"900983\"], [\"10181\", \"900983\"], [\"10181\", \"900983\"], [\"10181\", \"900983\"], [\"10181\", \"900983\"], [\"10181\", \"900983\"], [\"10181\", \"999999\"], [\"10181\", \"999999\"], [\"10181\", \"999999\"], [\"10181\", \"999999\"], [\"10181\", \"999999\"], [\"10181\", \"999999\"], [\"10181\", \"999999\"], [\"10181\", \"999999\"], [\"10181\", \"999999\"], [\"10181\", \"104260\"], [\"10181\", \"999999\"], [\"10181\", \"104260\"], [\"10181\", \"104260\"], [\"10181\", \"999999\"], [\"10181\", \"104260\"], [\"10181\", \"999999\"], [\"10181\", \"104260\"], [\"10181\", \"104260\"], [\"10181\", \"104260\"], [\"10181\", \"104260\"], [\"10181\", \"104614\"], [\"10181\", \"103295\"], [\"10181\", \"103295\"], [\"10181\", \"103295\"], [\"10181\", \"103295\"], [\"10181\", \"103295\"], [\"10181\", \"103295\"], [\"10181\", \"103295\"], [\"10181\", \"104393\"], [\"10181\", \"104393\"], [\"10181\", \"103531\"], [\"10181\", \"901310\"], [\"10181\", \"103531\"], [\"10181\", \"901310\"], [\"10181\", \"103531\"], [\"10181\", \"103531\"], [\"10181\", \"601094\"], [\"10181\", \"103531\"], [\"10181\", \"103531\"], [\"10181\", \"103531\"], [\"10181\", \"103531\"], [\"10181\", \"103531\"], [\"10181\", \"103531\"], [\"10181\", \"103531\"], [\"10181\", \"104113\"], [\"10181\", \"103531\"], [\"10181\", \"103531\"], [\"10181\", \"103531\"], [\"10181\", \"103531\"], [\"10181\", \"601094\"], [\"10181\", \"103531\"], [\"10181\", \"601094\"], [\"10181\", \"103531\"], [\"10181\", \"103531\"], [\"10181\", \"103531\"], [\"10181\", \"103531\"], [\"10181\", \"103531\"]], \"ipython\": true, \"error_msg\": \"\"}, e);\n",
       "                });\n",
       "            })();\n",
       "        "
      ]
     },
     "metadata": {},
     "output_type": "display_data"
    }
   ],
   "source": [
    "bacon_films = g.get_edges(src_ids=['10181'])\n",
    "\n",
    "subgraph = graphlab.SGraph()\n",
    "subgraph = subgraph.add_edges(bacon_films, src_field='__src_id',\n",
    "                              dst_field='__dst_id')\n",
    "subgraph.show(vlabel='id', highlight=['10181'])"
   ]
  },
  {
   "cell_type": "code",
   "execution_count": 209,
   "metadata": {
    "collapsed": false
   },
   "outputs": [
    {
     "data": {
      "application/javascript": [
       "$(\"head\").append($(\"<link/>\").attr({\n",
       "  rel:  \"stylesheet\",\n",
       "  type: \"text/css\",\n",
       "  href: \"//cdnjs.cloudflare.com/ajax/libs/font-awesome/4.1.0/css/font-awesome.min.css\"\n",
       "}));\n",
       "$(\"head\").append($(\"<link/>\").attr({\n",
       "  rel:  \"stylesheet\",\n",
       "  type: \"text/css\",\n",
       "  href: \"//dato.com/files/canvas/1.8.5/css/canvas.css\"\n",
       "}));\n",
       "\n",
       "            (function(){\n",
       "\n",
       "                var e = null;\n",
       "                if (typeof element == 'undefined') {\n",
       "                    var scripts = document.getElementsByTagName('script');\n",
       "                    var thisScriptTag = scripts[scripts.length-1];\n",
       "                    var parentDiv = thisScriptTag.parentNode;\n",
       "                    e = document.createElement('div');\n",
       "                    parentDiv.appendChild(e);\n",
       "                } else {\n",
       "                    e = element[0];\n",
       "                }\n",
       "\n",
       "                if (typeof requirejs !== 'undefined') {\n",
       "                    // disable load timeout; ipython_app.js is large and can take a while to load.\n",
       "                    requirejs.config({waitSeconds: 0});\n",
       "                }\n",
       "\n",
       "                require(['//dato.com/files/canvas/1.8.5/js/ipython_app.js'], function(IPythonApp){\n",
       "                    var app = new IPythonApp();\n",
       "                    app.attachView('sgraph','View', {\"ipython\": true, \"error_type\": 413, \"selected_variable\": {\"name\": [\"subgraph\"], \"view_file\": \"sgraph\", \"view_component\": \"View\", \"view_params\": {\"elabel_hover\": false, \"vertex_positions\": null, \"h_offset\": 0.0, \"node_size\": 300, \"ecolor\": [0.37, 0.33, 0.33], \"elabel\": null, \"arrows\": false, \"ewidth\": 1, \"vlabel\": \"__id\", \"highlight_color\": [[0.69, 0.0, 0.498], [0.69, 0.0, 0.498], [0.69, 0.0, 0.498], [0.69, 0.0, 0.498], [0.69, 0.0, 0.498], [0.69, 0.0, 0.498], [0.69, 0.0, 0.498], [0.69, 0.0, 0.498], [0.69, 0.0, 0.498], [0.69, 0.0, 0.498], [0.69, 0.0, 0.498], [0.69, 0.0, 0.498], [0.69, 0.0, 0.498], [0.69, 0.0, 0.498], [0.69, 0.0, 0.498], [0.69, 0.0, 0.498], [0.69, 0.0, 0.498], [0.69, 0.0, 0.498], [0.69, 0.0, 0.498], [0.69, 0.0, 0.498], [0.69, 0.0, 0.498], [0.69, 0.0, 0.498], [0.69, 0.0, 0.498], [0.69, 0.0, 0.498], [0.69, 0.0, 0.498], [0.69, 0.0, 0.498], [0.69, 0.0, 0.498], [0.69, 0.0, 0.498], [0.69, 0.0, 0.498], [0.69, 0.0, 0.498], [0.69, 0.0, 0.498], [0.69, 0.0, 0.498], [0.69, 0.0, 0.498], [0.69, 0.0, 0.498], [0.69, 0.0, 0.498], [0.69, 0.0, 0.498], [0.69, 0.0, 0.498], [0.69, 0.0, 0.498], [0.69, 0.0, 0.498], [0.69, 0.0, 0.498], [0.69, 0.0, 0.498], [0.69, 0.0, 0.498], [0.69, 0.0, 0.498], [0.69, 0.0, 0.498], [0.69, 0.0, 0.498], [0.69, 0.0, 0.498], [0.69, 0.0, 0.498], [0.69, 0.0, 0.498], [0.69, 0.0, 0.498], [0.69, 0.0, 0.498], [0.69, 0.0, 0.498], [0.69, 0.0, 0.498], [0.69, 0.0, 0.498], [0.69, 0.0, 0.498], [0.69, 0.0, 0.498], [0.69, 0.0, 0.498], [0.69, 0.0, 0.498], [0.69, 0.0, 0.498], [0.69, 0.0, 0.498], [0.69, 0.0, 0.498], [0.69, 0.0, 0.498], [0.69, 0.0, 0.498], [0.69, 0.0, 0.498], [0.69, 0.0, 0.498], [0.69, 0.0, 0.498], [0.69, 0.0, 0.498], [0.69, 0.0, 0.498], [0.69, 0.0, 0.498], [0.69, 0.0, 0.498], [0.69, 0.0, 0.498], [0.69, 0.0, 0.498], [0.69, 0.0, 0.498], [0.69, 0.0, 0.498], [0.69, 0.0, 0.498], [0.69, 0.0, 0.498], [0.69, 0.0, 0.498], [0.69, 0.0, 0.498], [0.69, 0.0, 0.498], [0.69, 0.0, 0.498], [0.69, 0.0, 0.498], [0.69, 0.0, 0.498], [0.69, 0.0, 0.498], [0.69, 0.0, 0.498], [0.69, 0.0, 0.498], [0.69, 0.0, 0.498], [0.69, 0.0, 0.498], [0.69, 0.0, 0.498], [0.69, 0.0, 0.498], [0.69, 0.0, 0.498], [0.69, 0.0, 0.498], [0.69, 0.0, 0.498], [0.69, 0.0, 0.498], [0.69, 0.0, 0.498], [0.69, 0.0, 0.498], [0.69, 0.0, 0.498], [0.69, 0.0, 0.498], [0.69, 0.0, 0.498]], \"vcolor\": [0.522, 0.741, 0.0], \"vlabel_hover\": true, \"highlight\": {\"999999\": [0.69, 0.0, 0.498], \"600353\": [0.69, 0.0, 0.498], \"104614\": [0.69, 0.0, 0.498], \"104254\": [0.69, 0.0, 0.498], \"104393\": [0.69, 0.0, 0.498], \"104392\": [0.69, 0.0, 0.498], \"901310\": [0.69, 0.0, 0.498], \"601094\": [0.69, 0.0, 0.498], \"103531\": [0.69, 0.0, 0.498], \"103295\": [0.69, 0.0, 0.498], \"900983\": [0.69, 0.0, 0.498], \"104113\": [0.69, 0.0, 0.498], \"104260\": [0.69, 0.0, 0.498]}, \"v_offset\": 0.03}, \"view_components\": [\"View\"], \"type\": \"SGraph\", \"descriptives_links\": {\"edges\": \"edges\", \"vertices\": \"vertices\"}, \"descriptives\": {\"edges\": 1417223, \"vertices\": 318}}, \"error_msg\": \"GraphLab Canvas cannot display an SGraph with more than 1000 vertices or 1000 edges. A subgraph with fewer vertices can be constructed by creating a new SGraph with a selection of edges and vertices from this SGraph or with the get_neighborhood method.\"}, e);\n",
       "                });\n",
       "            })();\n",
       "        "
      ]
     },
     "metadata": {},
     "output_type": "display_data"
    }
   ],
   "source": [
    "subgraph = graphlab.SGraph()\n",
    "\n",
    "for f in bacon_films['__dst_id']:\n",
    "    subgraph = subgraph.add_edges(g.get_edges(src_ids=[f], dst_ids=None),\n",
    "                                  src_field='__src_id', dst_field='__dst_id')\n",
    "    \n",
    "subgraph.show(highlight=list(bacon_films['__dst_id']), vlabel='__id', vlabel_hover=True)"
   ]
  },
  {
   "cell_type": "code",
   "execution_count": 210,
   "metadata": {
    "collapsed": false
   },
   "outputs": [],
   "source": [
    "def count_in_degree(src, edge, dst):\n",
    "    dst['in_degree'] += 1\n",
    "    return (src, edge, dst)\n",
    "\n",
    "def get_degree(g):\n",
    "    new_g = graphlab.SGraph(g.vertices, g.edges)\n",
    "    new_g.vertices['in_degree'] = 0\n",
    "    return new_g.triple_apply(count_in_degree, ['in_degree']).get_vertices()\n",
    "\n",
    "degree = get_degree(g)"
   ]
  },
  {
   "cell_type": "code",
   "execution_count": 211,
   "metadata": {
    "collapsed": false
   },
   "outputs": [
    {
     "data": {
      "text/html": [
       "<div style=\"max-height:1000px;max-width:1500px;overflow:auto;\"><table frame=\"box\" rules=\"cols\">\n",
       "    <tr>\n",
       "        <th style=\"padding-left: 1em; padding-right: 1em; text-align: center\">__id</th>\n",
       "        <th style=\"padding-left: 1em; padding-right: 1em; text-align: center\">in_degree</th>\n",
       "    </tr>\n",
       "    <tr>\n",
       "        <td style=\"padding-left: 1em; padding-right: 1em; text-align: center; vertical-align: top\">9901</td>\n",
       "        <td style=\"padding-left: 1em; padding-right: 1em; text-align: center; vertical-align: top\">393</td>\n",
       "    </tr>\n",
       "    <tr>\n",
       "        <td style=\"padding-left: 1em; padding-right: 1em; text-align: center; vertical-align: top\">10181</td>\n",
       "        <td style=\"padding-left: 1em; padding-right: 1em; text-align: center; vertical-align: top\">97</td>\n",
       "    </tr>\n",
       "</table>\n",
       "[2 rows x 2 columns]<br/>\n",
       "</div>"
      ],
      "text/plain": [
       "Columns:\n",
       "\t__id\tstr\n",
       "\tin_degree\tint\n",
       "\n",
       "Rows: 2\n",
       "\n",
       "Data:\n",
       "+-------+-----------+\n",
       "|  __id | in_degree |\n",
       "+-------+-----------+\n",
       "|  9901 |    393    |\n",
       "| 10181 |     97    |\n",
       "+-------+-----------+\n",
       "[2 rows x 2 columns]"
      ]
     },
     "execution_count": 211,
     "metadata": {},
     "output_type": "execute_result"
    }
   ],
   "source": [
    "comparisons = ['10181', '9901']\n",
    "degree.filter_by(comparisons, '__id').sort('in_degree', ascending=False)"
   ]
  },
  {
   "cell_type": "code",
   "execution_count": 212,
   "metadata": {
    "collapsed": false
   },
   "outputs": [
    {
     "data": {
      "application/javascript": [
       "$(\"head\").append($(\"<link/>\").attr({\n",
       "  rel:  \"stylesheet\",\n",
       "  type: \"text/css\",\n",
       "  href: \"//cdnjs.cloudflare.com/ajax/libs/font-awesome/4.1.0/css/font-awesome.min.css\"\n",
       "}));\n",
       "$(\"head\").append($(\"<link/>\").attr({\n",
       "  rel:  \"stylesheet\",\n",
       "  type: \"text/css\",\n",
       "  href: \"//dato.com/files/canvas/1.8.5/css/canvas.css\"\n",
       "}));\n",
       "\n",
       "            (function(){\n",
       "\n",
       "                var e = null;\n",
       "                if (typeof element == 'undefined') {\n",
       "                    var scripts = document.getElementsByTagName('script');\n",
       "                    var thisScriptTag = scripts[scripts.length-1];\n",
       "                    var parentDiv = thisScriptTag.parentNode;\n",
       "                    e = document.createElement('div');\n",
       "                    parentDiv.appendChild(e);\n",
       "                } else {\n",
       "                    e = element[0];\n",
       "                }\n",
       "\n",
       "                if (typeof requirejs !== 'undefined') {\n",
       "                    // disable load timeout; ipython_app.js is large and can take a while to load.\n",
       "                    requirejs.config({waitSeconds: 0});\n",
       "                }\n",
       "\n",
       "                require(['//dato.com/files/canvas/1.8.5/js/ipython_app.js'], function(IPythonApp){\n",
       "                    var app = new IPythonApp();\n",
       "                    app.attachView('sarray','Numeric', {\"ipython\": true, \"sketch\": {\"std\": 948.6062380979499, \"complete\": true, \"min\": 3.0, \"max\": 5082.0, \"quantile\": [3.0, 7.0, 10.0, 14.0, 16.0, 24.0, 26.0, 44.0, 51.0, 64.0, 79.0, 102.0, 116.0, 121.0, 128.0, 153.0, 169.0, 191.0, 208.0, 229.0, 237.0, 257.0, 267.0, 276.0, 298.0, 317.0, 325.0, 353.0, 393.0, 403.0, 406.0, 419.0, 439.0, 470.0, 486.0, 509.0, 526.0, 546.0, 560.0, 588.0, 648.0, 675.0, 702.0, 735.0, 745.0, 763.0, 768.0, 784.0, 797.0, 857.0, 923.0, 937.0, 961.0, 980.0, 1026.0, 1035.0, 1048.0, 1055.0, 1076.0, 1110.0, 1158.0, 1186.0, 1214.0, 1225.0, 1241.0, 1268.0, 1287.0, 1305.0, 1339.0, 1377.0, 1390.0, 1400.0, 1447.0, 1478.0, 1491.0, 1524.0, 1593.0, 1609.0, 1622.0, 1648.0, 1670.0, 1692.0, 1720.0, 1741.0, 1799.0, 1818.0, 1881.0, 1974.0, 2024.0, 2042.0, 2061.0, 2284.0, 2324.0, 2451.0, 2598.0, 2797.0, 3509.0, 3699.0, 3771.0, 4608.0, 5082.0], \"median\": 923.0, \"numeric\": true, \"num_unique\": 281, \"num_undefined\": 0, \"var\": 899853.7949583444, \"progress\": 1.0, \"size\": 305, \"frequent_items\": {\"4608\": {\"frequency\": 1, \"value\": 4608}, \"768\": {\"frequency\": 1, \"value\": 768}, \"1026\": {\"frequency\": 1, \"value\": 1026}, \"1027\": {\"frequency\": 1, \"value\": 1027}, \"1540\": {\"frequency\": 1, \"value\": 1540}, \"517\": {\"frequency\": 1, \"value\": 517}, \"7\": {\"frequency\": 1, \"value\": 7}, \"2056\": {\"frequency\": 1, \"value\": 2056}, \"521\": {\"frequency\": 1, \"value\": 521}, \"10\": {\"frequency\": 3, \"value\": 10}, \"1035\": {\"frequency\": 1, \"value\": 1035}, \"2061\": {\"frequency\": 1, \"value\": 2061}, \"14\": {\"frequency\": 1, \"value\": 14}, \"1039\": {\"frequency\": 1, \"value\": 1039}, \"16\": {\"frequency\": 1, \"value\": 16}, \"3\": {\"frequency\": 1, \"value\": 3}, \"532\": {\"frequency\": 1, \"value\": 532}, \"942\": {\"frequency\": 1, \"value\": 942}, \"23\": {\"frequency\": 2, \"value\": 23}, \"1048\": {\"frequency\": 2, \"value\": 1048}, \"25\": {\"frequency\": 2, \"value\": 25}, \"26\": {\"frequency\": 1, \"value\": 26}, \"2589\": {\"frequency\": 1, \"value\": 2589}, \"1054\": {\"frequency\": 1, \"value\": 1054}, \"5\": {\"frequency\": 1, \"value\": 5}, \"1057\": {\"frequency\": 1, \"value\": 1057}, \"34\": {\"frequency\": 1, \"value\": 34}, \"91\": {\"frequency\": 1, \"value\": 91}, \"548\": {\"frequency\": 1, \"value\": 548}, \"550\": {\"frequency\": 1, \"value\": 550}, \"3623\": {\"frequency\": 1, \"value\": 3623}, \"1578\": {\"frequency\": 1, \"value\": 1578}, \"1031\": {\"frequency\": 1, \"value\": 1031}, \"44\": {\"frequency\": 1, \"value\": 44}, \"3118\": {\"frequency\": 1, \"value\": 3118}, \"4655\": {\"frequency\": 1, \"value\": 4655}, \"560\": {\"frequency\": 1, \"value\": 560}, \"49\": {\"frequency\": 1, \"value\": 49}, \"50\": {\"frequency\": 1, \"value\": 50}, \"51\": {\"frequency\": 1, \"value\": 51}, \"1076\": {\"frequency\": 1, \"value\": 1076}, \"479\": {\"frequency\": 1, \"value\": 479}, \"56\": {\"frequency\": 1, \"value\": 56}, \"1593\": {\"frequency\": 1, \"value\": 1593}, \"1082\": {\"frequency\": 1, \"value\": 1082}, \"411\": {\"frequency\": 1, \"value\": 411}, \"1598\": {\"frequency\": 1, \"value\": 1598}, \"4789\": {\"frequency\": 1, \"value\": 4789}, \"64\": {\"frequency\": 2, \"value\": 64}, \"11\": {\"frequency\": 1, \"value\": 11}, \"1605\": {\"frequency\": 1, \"value\": 1605}, \"1095\": {\"frequency\": 1, \"value\": 1095}, \"1609\": {\"frequency\": 1, \"value\": 1609}, \"586\": {\"frequency\": 1, \"value\": 586}, \"588\": {\"frequency\": 1, \"value\": 588}, \"2125\": {\"frequency\": 1, \"value\": 2125}, \"78\": {\"frequency\": 2, \"value\": 78}, \"79\": {\"frequency\": 1, \"value\": 79}, \"2130\": {\"frequency\": 1, \"value\": 2130}, \"526\": {\"frequency\": 1, \"value\": 526}, \"1110\": {\"frequency\": 1, \"value\": 1110}, \"599\": {\"frequency\": 1, \"value\": 599}, \"1626\": {\"frequency\": 1, \"value\": 1626}, \"527\": {\"frequency\": 1, \"value\": 527}, \"1117\": {\"frequency\": 1, \"value\": 1117}, \"97\": {\"frequency\": 1, \"value\": 97}, \"1635\": {\"frequency\": 1, \"value\": 1635}, \"1125\": {\"frequency\": 1, \"value\": 1125}, \"102\": {\"frequency\": 1, \"value\": 102}, \"615\": {\"frequency\": 1, \"value\": 615}, \"1130\": {\"frequency\": 1, \"value\": 1130}, \"110\": {\"frequency\": 1, \"value\": 110}, \"1648\": {\"frequency\": 1, \"value\": 1648}, \"626\": {\"frequency\": 1, \"value\": 626}, \"3699\": {\"frequency\": 1, \"value\": 3699}, \"116\": {\"frequency\": 1, \"value\": 116}, \"1214\": {\"frequency\": 1, \"value\": 1214}, \"118\": {\"frequency\": 2, \"value\": 118}, \"1655\": {\"frequency\": 1, \"value\": 1655}, \"121\": {\"frequency\": 1, \"value\": 121}, \"1658\": {\"frequency\": 1, \"value\": 1658}, \"123\": {\"frequency\": 1, \"value\": 123}, \"4\": {\"frequency\": 1, \"value\": 4}, \"127\": {\"frequency\": 1, \"value\": 127}, \"128\": {\"frequency\": 2, \"value\": 128}, \"3713\": {\"frequency\": 1, \"value\": 3713}, \"1692\": {\"frequency\": 1, \"value\": 1692}, \"1158\": {\"frequency\": 1, \"value\": 1158}, \"1159\": {\"frequency\": 1, \"value\": 1159}, \"648\": {\"frequency\": 1, \"value\": 648}, \"1673\": {\"frequency\": 1, \"value\": 1673}, \"15\": {\"frequency\": 2, \"value\": 15}, \"24\": {\"frequency\": 1, \"value\": 24}, \"1055\": {\"frequency\": 1, \"value\": 1055}, \"1686\": {\"frequency\": 1, \"value\": 1686}, \"152\": {\"frequency\": 1, \"value\": 152}, \"1177\": {\"frequency\": 1, \"value\": 1177}, \"668\": {\"frequency\": 1, \"value\": 668}, \"3742\": {\"frequency\": 1, \"value\": 3742}, \"162\": {\"frequency\": 1, \"value\": 162}, \"675\": {\"frequency\": 2, \"value\": 675}, \"676\": {\"frequency\": 1, \"value\": 676}, \"1189\": {\"frequency\": 1, \"value\": 1189}, \"210\": {\"frequency\": 1, \"value\": 210}, \"169\": {\"frequency\": 1, \"value\": 169}, \"1708\": {\"frequency\": 1, \"value\": 1708}, \"1881\": {\"frequency\": 1, \"value\": 1881}, \"1053\": {\"frequency\": 1, \"value\": 1053}, \"1713\": {\"frequency\": 1, \"value\": 1713}, \"115\": {\"frequency\": 1, \"value\": 115}, \"181\": {\"frequency\": 1, \"value\": 181}, \"1720\": {\"frequency\": 1, \"value\": 1720}, \"2746\": {\"frequency\": 1, \"value\": 2746}, \"3771\": {\"frequency\": 1, \"value\": 3771}, \"1725\": {\"frequency\": 1, \"value\": 1725}, \"702\": {\"frequency\": 1, \"value\": 702}, \"191\": {\"frequency\": 1, \"value\": 191}, \"193\": {\"frequency\": 1, \"value\": 193}, \"1483\": {\"frequency\": 1, \"value\": 1483}, \"1221\": {\"frequency\": 2, \"value\": 1221}, \"199\": {\"frequency\": 1, \"value\": 199}, \"1225\": {\"frequency\": 1, \"value\": 1225}, \"1738\": {\"frequency\": 1, \"value\": 1738}, \"715\": {\"frequency\": 1, \"value\": 715}, \"1228\": {\"frequency\": 1, \"value\": 1228}, \"546\": {\"frequency\": 1, \"value\": 546}, \"1741\": {\"frequency\": 1, \"value\": 1741}, \"208\": {\"frequency\": 1, \"value\": 208}, \"209\": {\"frequency\": 1, \"value\": 209}, \"1234\": {\"frequency\": 1, \"value\": 1234}, \"1751\": {\"frequency\": 1, \"value\": 1751}, \"1241\": {\"frequency\": 1, \"value\": 1241}, \"1245\": {\"frequency\": 1, \"value\": 1245}, \"2782\": {\"frequency\": 1, \"value\": 2782}, \"735\": {\"frequency\": 1, \"value\": 735}, \"3297\": {\"frequency\": 1, \"value\": 3297}, \"739\": {\"frequency\": 1, \"value\": 739}, \"229\": {\"frequency\": 1, \"value\": 229}, \"743\": {\"frequency\": 1, \"value\": 743}, \"232\": {\"frequency\": 2, \"value\": 232}, \"745\": {\"frequency\": 1, \"value\": 745}, \"234\": {\"frequency\": 1, \"value\": 234}, \"1063\": {\"frequency\": 1, \"value\": 1063}, \"2284\": {\"frequency\": 1, \"value\": 2284}, \"2797\": {\"frequency\": 1, \"value\": 2797}, \"239\": {\"frequency\": 1, \"value\": 239}, \"1776\": {\"frequency\": 1, \"value\": 1776}, \"753\": {\"frequency\": 1, \"value\": 753}, \"755\": {\"frequency\": 1, \"value\": 755}, \"1268\": {\"frequency\": 1, \"value\": 1268}, \"245\": {\"frequency\": 1, \"value\": 245}, \"8\": {\"frequency\": 1, \"value\": 8}, \"763\": {\"frequency\": 1, \"value\": 763}, \"765\": {\"frequency\": 1, \"value\": 765}, \"767\": {\"frequency\": 1, \"value\": 767}, \"2304\": {\"frequency\": 1, \"value\": 2304}, \"257\": {\"frequency\": 1, \"value\": 257}, \"258\": {\"frequency\": 1, \"value\": 258}, \"773\": {\"frequency\": 2, \"value\": 773}, \"262\": {\"frequency\": 1, \"value\": 262}, \"1287\": {\"frequency\": 1, \"value\": 1287}, \"1288\": {\"frequency\": 1, \"value\": 1288}, \"1290\": {\"frequency\": 1, \"value\": 1290}, \"1803\": {\"frequency\": 1, \"value\": 1803}, \"2319\": {\"frequency\": 1, \"value\": 2319}, \"1799\": {\"frequency\": 1, \"value\": 1799}, \"271\": {\"frequency\": 1, \"value\": 271}, \"787\": {\"frequency\": 1, \"value\": 787}, \"2324\": {\"frequency\": 1, \"value\": 2324}, \"277\": {\"frequency\": 1, \"value\": 277}, \"280\": {\"frequency\": 1, \"value\": 280}, \"1305\": {\"frequency\": 1, \"value\": 1305}, \"1818\": {\"frequency\": 2, \"value\": 1818}, \"797\": {\"frequency\": 2, \"value\": 797}, \"803\": {\"frequency\": 1, \"value\": 803}, \"1670\": {\"frequency\": 1, \"value\": 1670}, \"1830\": {\"frequency\": 1, \"value\": 1830}, \"809\": {\"frequency\": 1, \"value\": 809}, \"298\": {\"frequency\": 1, \"value\": 298}, \"419\": {\"frequency\": 1, \"value\": 419}, \"1326\": {\"frequency\": 1, \"value\": 1326}, \"303\": {\"frequency\": 1, \"value\": 303}, \"304\": {\"frequency\": 1, \"value\": 304}, \"734\": {\"frequency\": 1, \"value\": 734}, \"1334\": {\"frequency\": 1, \"value\": 1334}, \"689\": {\"frequency\": 1, \"value\": 689}, \"2361\": {\"frequency\": 1, \"value\": 2361}, \"1339\": {\"frequency\": 2, \"value\": 1339}, \"317\": {\"frequency\": 1, \"value\": 317}, \"318\": {\"frequency\": 1, \"value\": 318}, \"325\": {\"frequency\": 2, \"value\": 325}, \"326\": {\"frequency\": 1, \"value\": 326}, \"327\": {\"frequency\": 1, \"value\": 327}, \"1494\": {\"frequency\": 1, \"value\": 1494}, \"1654\": {\"frequency\": 1, \"value\": 1654}, \"1873\": {\"frequency\": 1, \"value\": 1873}, \"267\": {\"frequency\": 1, \"value\": 267}, \"857\": {\"frequency\": 1, \"value\": 857}, \"1990\": {\"frequency\": 1, \"value\": 1990}, \"1374\": {\"frequency\": 1, \"value\": 1374}, \"1253\": {\"frequency\": 1, \"value\": 1253}, \"1377\": {\"frequency\": 1, \"value\": 1377}, \"1378\": {\"frequency\": 1, \"value\": 1378}, \"1382\": {\"frequency\": 1, \"value\": 1382}, \"29\": {\"frequency\": 1, \"value\": 29}, \"1390\": {\"frequency\": 1, \"value\": 1390}, \"353\": {\"frequency\": 1, \"value\": 353}, \"1394\": {\"frequency\": 1, \"value\": 1394}, \"2451\": {\"frequency\": 1, \"value\": 2451}, \"372\": {\"frequency\": 1, \"value\": 372}, \"1397\": {\"frequency\": 1, \"value\": 1397}, \"1622\": {\"frequency\": 1, \"value\": 1622}, \"1400\": {\"frequency\": 1, \"value\": 1400}, \"2055\": {\"frequency\": 1, \"value\": 2055}, \"1281\": {\"frequency\": 1, \"value\": 1281}, \"895\": {\"frequency\": 1, \"value\": 895}, \"1408\": {\"frequency\": 1, \"value\": 1408}, \"385\": {\"frequency\": 1, \"value\": 385}, \"179\": {\"frequency\": 1, \"value\": 179}, \"904\": {\"frequency\": 1, \"value\": 904}, \"393\": {\"frequency\": 1, \"value\": 393}, \"395\": {\"frequency\": 1, \"value\": 395}, \"397\": {\"frequency\": 1, \"value\": 397}, \"237\": {\"frequency\": 1, \"value\": 237}, \"1936\": {\"frequency\": 1, \"value\": 1936}, \"2430\": {\"frequency\": 1, \"value\": 2430}, \"403\": {\"frequency\": 1, \"value\": 403}, \"405\": {\"frequency\": 1, \"value\": 405}, \"406\": {\"frequency\": 2, \"value\": 406}, \"3991\": {\"frequency\": 1, \"value\": 3991}, \"3993\": {\"frequency\": 1, \"value\": 3993}, \"923\": {\"frequency\": 1, \"value\": 923}, \"413\": {\"frequency\": 1, \"value\": 413}, \"945\": {\"frequency\": 1, \"value\": 945}, \"1435\": {\"frequency\": 1, \"value\": 1435}, \"932\": {\"frequency\": 1, \"value\": 932}, \"933\": {\"frequency\": 1, \"value\": 933}, \"1447\": {\"frequency\": 1, \"value\": 1447}, \"156\": {\"frequency\": 1, \"value\": 156}, \"583\": {\"frequency\": 1, \"value\": 583}, \"1966\": {\"frequency\": 1, \"value\": 1966}, \"2461\": {\"frequency\": 1, \"value\": 2461}, \"1456\": {\"frequency\": 1, \"value\": 1456}, \"1457\": {\"frequency\": 1, \"value\": 1457}, \"434\": {\"frequency\": 1, \"value\": 434}, \"3509\": {\"frequency\": 1, \"value\": 3509}, \"1974\": {\"frequency\": 1, \"value\": 1974}, \"439\": {\"frequency\": 1, \"value\": 439}, \"444\": {\"frequency\": 1, \"value\": 444}, \"961\": {\"frequency\": 1, \"value\": 961}, \"1478\": {\"frequency\": 2, \"value\": 1478}, \"1992\": {\"frequency\": 1, \"value\": 1992}, \"971\": {\"frequency\": 1, \"value\": 971}, \"1186\": {\"frequency\": 1, \"value\": 1186}, \"976\": {\"frequency\": 1, \"value\": 976}, \"465\": {\"frequency\": 1, \"value\": 465}, \"1491\": {\"frequency\": 1, \"value\": 1491}, \"980\": {\"frequency\": 1, \"value\": 980}, \"1614\": {\"frequency\": 1, \"value\": 1614}, \"470\": {\"frequency\": 2, \"value\": 470}, \"153\": {\"frequency\": 1, \"value\": 153}, \"5082\": {\"frequency\": 1, \"value\": 5082}, \"1503\": {\"frequency\": 1, \"value\": 1503}, \"425\": {\"frequency\": 1, \"value\": 425}, \"2598\": {\"frequency\": 1, \"value\": 2598}, \"486\": {\"frequency\": 1, \"value\": 486}, \"2024\": {\"frequency\": 1, \"value\": 2024}, \"489\": {\"frequency\": 1, \"value\": 489}, \"1618\": {\"frequency\": 1, \"value\": 1618}, \"1277\": {\"frequency\": 1, \"value\": 1277}, \"1008\": {\"frequency\": 1, \"value\": 1008}, \"1524\": {\"frequency\": 1, \"value\": 1524}, \"937\": {\"frequency\": 1, \"value\": 937}, \"504\": {\"frequency\": 1, \"value\": 504}, \"1193\": {\"frequency\": 1, \"value\": 1193}, \"2042\": {\"frequency\": 3, \"value\": 2042}, \"3579\": {\"frequency\": 1, \"value\": 3579}, \"1020\": {\"frequency\": 1, \"value\": 1020}, \"509\": {\"frequency\": 1, \"value\": 509}, \"784\": {\"frequency\": 1, \"value\": 784}, \"276\": {\"frequency\": 2, \"value\": 276}}, \"mean\": 1063.449180327869}, \"selected_variable\": {\"name\": [\"<SArray>\"], \"dtype\": \"int\", \"view_component\": \"Numeric\", \"view_file\": \"sarray\", \"descriptives\": {\"rows\": 305}, \"type\": \"SArray\", \"view_components\": [\"Numeric\", \"Categorical\"]}, \"histogram\": {\"progress\": 1.0, \"histogram\": {\"max\": 5172.528, \"bins\": [83, 62, 50, 50, 30, 10, 5, 2, 7, 2, 2, 2], \"min\": -78.67199999999957}, \"min\": 3, \"complete\": 1, \"max\": 5082}}, e);\n",
       "                });\n",
       "            })();\n",
       "        "
      ]
     },
     "metadata": {},
     "output_type": "display_data"
    }
   ],
   "source": [
    "actor_degree = degree.filter_by(actors, '__id')\n",
    "actor_degree['in_degree'].show()"
   ]
  },
  {
   "cell_type": "code",
   "execution_count": 213,
   "metadata": {
    "collapsed": false
   },
   "outputs": [
    {
     "data": {
      "text/html": [
       "<div style=\"max-height:1000px;max-width:1500px;overflow:auto;\"><table frame=\"box\" rules=\"cols\">\n",
       "    <tr>\n",
       "        <th style=\"padding-left: 1em; padding-right: 1em; text-align: center\">__id</th>\n",
       "        <th style=\"padding-left: 1em; padding-right: 1em; text-align: center\">in_degree</th>\n",
       "    </tr>\n",
       "    <tr>\n",
       "        <td style=\"padding-left: 1em; padding-right: 1em; text-align: center; vertical-align: top\">6428</td>\n",
       "        <td style=\"padding-left: 1em; padding-right: 1em; text-align: center; vertical-align: top\">5082</td>\n",
       "    </tr>\n",
       "    <tr>\n",
       "        <td style=\"padding-left: 1em; padding-right: 1em; text-align: center; vertical-align: top\">7729</td>\n",
       "        <td style=\"padding-left: 1em; padding-right: 1em; text-align: center; vertical-align: top\">4789</td>\n",
       "    </tr>\n",
       "    <tr>\n",
       "        <td style=\"padding-left: 1em; padding-right: 1em; text-align: center; vertical-align: top\">8031</td>\n",
       "        <td style=\"padding-left: 1em; padding-right: 1em; text-align: center; vertical-align: top\">4655</td>\n",
       "    </tr>\n",
       "    <tr>\n",
       "        <td style=\"padding-left: 1em; padding-right: 1em; text-align: center; vertical-align: top\">8231</td>\n",
       "        <td style=\"padding-left: 1em; padding-right: 1em; text-align: center; vertical-align: top\">4608</td>\n",
       "    </tr>\n",
       "    <tr>\n",
       "        <td style=\"padding-left: 1em; padding-right: 1em; text-align: center; vertical-align: top\">8562</td>\n",
       "        <td style=\"padding-left: 1em; padding-right: 1em; text-align: center; vertical-align: top\">3993</td>\n",
       "    </tr>\n",
       "    <tr>\n",
       "        <td style=\"padding-left: 1em; padding-right: 1em; text-align: center; vertical-align: top\">8182</td>\n",
       "        <td style=\"padding-left: 1em; padding-right: 1em; text-align: center; vertical-align: top\">3991</td>\n",
       "    </tr>\n",
       "    <tr>\n",
       "        <td style=\"padding-left: 1em; padding-right: 1em; text-align: center; vertical-align: top\">7984</td>\n",
       "        <td style=\"padding-left: 1em; padding-right: 1em; text-align: center; vertical-align: top\">3771</td>\n",
       "    </tr>\n",
       "    <tr>\n",
       "        <td style=\"padding-left: 1em; padding-right: 1em; text-align: center; vertical-align: top\">6519</td>\n",
       "        <td style=\"padding-left: 1em; padding-right: 1em; text-align: center; vertical-align: top\">3742</td>\n",
       "    </tr>\n",
       "    <tr>\n",
       "        <td style=\"padding-left: 1em; padding-right: 1em; text-align: center; vertical-align: top\">5002</td>\n",
       "        <td style=\"padding-left: 1em; padding-right: 1em; text-align: center; vertical-align: top\">3713</td>\n",
       "    </tr>\n",
       "    <tr>\n",
       "        <td style=\"padding-left: 1em; padding-right: 1em; text-align: center; vertical-align: top\">8257</td>\n",
       "        <td style=\"padding-left: 1em; padding-right: 1em; text-align: center; vertical-align: top\">3699</td>\n",
       "    </tr>\n",
       "</table>\n",
       "[10 rows x 2 columns]<br/>\n",
       "</div>"
      ],
      "text/plain": [
       "Columns:\n",
       "\t__id\tstr\n",
       "\tin_degree\tint\n",
       "\n",
       "Rows: 10\n",
       "\n",
       "Data:\n",
       "+------+-----------+\n",
       "| __id | in_degree |\n",
       "+------+-----------+\n",
       "| 6428 |    5082   |\n",
       "| 7729 |    4789   |\n",
       "| 8031 |    4655   |\n",
       "| 8231 |    4608   |\n",
       "| 8562 |    3993   |\n",
       "| 8182 |    3991   |\n",
       "| 7984 |    3771   |\n",
       "| 6519 |    3742   |\n",
       "| 5002 |    3713   |\n",
       "| 8257 |    3699   |\n",
       "+------+-----------+\n",
       "[10 rows x 2 columns]"
      ]
     },
     "execution_count": 213,
     "metadata": {},
     "output_type": "execute_result"
    }
   ],
   "source": [
    "actor_degree.topk('in_degree')"
   ]
  },
  {
   "cell_type": "code",
   "execution_count": null,
   "metadata": {
    "collapsed": true
   },
   "outputs": [],
   "source": []
  }
 ],
 "metadata": {
  "kernelspec": {
   "display_name": "Python 2",
   "language": "python",
   "name": "python2"
  },
  "language_info": {
   "codemirror_mode": {
    "name": "ipython",
    "version": 2
   },
   "file_extension": ".py",
   "mimetype": "text/x-python",
   "name": "python",
   "nbconvert_exporter": "python",
   "pygments_lexer": "ipython2",
   "version": "2.7.10"
  }
 },
 "nbformat": 4,
 "nbformat_minor": 0
}
